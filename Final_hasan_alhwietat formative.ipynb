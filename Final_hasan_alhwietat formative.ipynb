{
 "cells": [
  {
   "cell_type": "markdown",
   "metadata": {
    "id": "S17IlPwhuQTu"
   },
   "source": [
    "# Import"
   ]
  },
  {
   "cell_type": "code",
   "execution_count": 1,
   "metadata": {
    "id": "YHJxXuLva_Sg"
   },
   "outputs": [],
   "source": [
    "import pandas as pd\n",
    "import numpy as np\n",
    "import seaborn as sns\n",
    "import matplotlib.pyplot as plt\n",
    "from scipy.stats import zscore, stats\n",
    "from sklearn.linear_model import LinearRegression\n",
    "from sklearn.model_selection import train_test_split\n",
    "from sklearn.metrics import mean_absolute_error, mean_squared_error, r2_score"
   ]
  },
  {
   "cell_type": "markdown",
   "metadata": {
    "id": "MD7cTe1L1dO5"
   },
   "source": [
    "# Read data Excel"
   ]
  },
  {
   "cell_type": "code",
   "execution_count": 2,
   "metadata": {
    "id": "6QtnSaPlbw2O"
   },
   "outputs": [],
   "source": [
    "df_High= pd.read_csv('high.csv')"
   ]
  },
  {
   "cell_type": "code",
   "execution_count": 3,
   "metadata": {},
   "outputs": [
    {
     "data": {
      "text/html": [
       "<div>\n",
       "<style scoped>\n",
       "    .dataframe tbody tr th:only-of-type {\n",
       "        vertical-align: middle;\n",
       "    }\n",
       "\n",
       "    .dataframe tbody tr th {\n",
       "        vertical-align: top;\n",
       "    }\n",
       "\n",
       "    .dataframe thead th {\n",
       "        text-align: right;\n",
       "    }\n",
       "</style>\n",
       "<table border=\"1\" class=\"dataframe\">\n",
       "  <thead>\n",
       "    <tr style=\"text-align: right;\">\n",
       "      <th></th>\n",
       "      <th>TRADE_DATE</th>\n",
       "      <th>SEC_CODE</th>\n",
       "      <th>SYMBOL1</th>\n",
       "      <th>MARKET</th>\n",
       "      <th>VOLUME</th>\n",
       "      <th>TRADE_QTY</th>\n",
       "      <th>NO_OF_TRADES</th>\n",
       "      <th>HIGH</th>\n",
       "      <th>BEST_ASK_PRICE</th>\n",
       "      <th>BEST_ASK_QTY</th>\n",
       "      <th>BEST_BID_PRICE</th>\n",
       "      <th>BEST_BID_QTY</th>\n",
       "    </tr>\n",
       "  </thead>\n",
       "  <tbody>\n",
       "    <tr>\n",
       "      <th>0</th>\n",
       "      <td>01/02/2022</td>\n",
       "      <td>111001</td>\n",
       "      <td>JOIB</td>\n",
       "      <td>1</td>\n",
       "      <td>199083.73</td>\n",
       "      <td>54378</td>\n",
       "      <td>73</td>\n",
       "      <td>3.67</td>\n",
       "      <td>2.65</td>\n",
       "      <td>585.0</td>\n",
       "      <td>3.13</td>\n",
       "      <td>2000.0</td>\n",
       "    </tr>\n",
       "    <tr>\n",
       "      <th>1</th>\n",
       "      <td>01/02/2022</td>\n",
       "      <td>111002</td>\n",
       "      <td>JOKB</td>\n",
       "      <td>1</td>\n",
       "      <td>12707.76</td>\n",
       "      <td>9009</td>\n",
       "      <td>17</td>\n",
       "      <td>1.42</td>\n",
       "      <td>1.36</td>\n",
       "      <td>493.0</td>\n",
       "      <td>1.86</td>\n",
       "      <td>1570.0</td>\n",
       "    </tr>\n",
       "    <tr>\n",
       "      <th>2</th>\n",
       "      <td>01/02/2022</td>\n",
       "      <td>111003</td>\n",
       "      <td>JCBK</td>\n",
       "      <td>2</td>\n",
       "      <td>727.41</td>\n",
       "      <td>726</td>\n",
       "      <td>7</td>\n",
       "      <td>1.03</td>\n",
       "      <td>1.14</td>\n",
       "      <td>1853.0</td>\n",
       "      <td>1.64</td>\n",
       "      <td>1000.0</td>\n",
       "    </tr>\n",
       "    <tr>\n",
       "      <th>3</th>\n",
       "      <td>01/02/2022</td>\n",
       "      <td>111004</td>\n",
       "      <td>THBK</td>\n",
       "      <td>1</td>\n",
       "      <td>1558.10</td>\n",
       "      <td>394</td>\n",
       "      <td>5</td>\n",
       "      <td>3.97</td>\n",
       "      <td>1.09</td>\n",
       "      <td>660.0</td>\n",
       "      <td>1.59</td>\n",
       "      <td>46.0</td>\n",
       "    </tr>\n",
       "    <tr>\n",
       "      <th>4</th>\n",
       "      <td>01/02/2022</td>\n",
       "      <td>111006</td>\n",
       "      <td>SIBK</td>\n",
       "      <td>1</td>\n",
       "      <td>29030.98</td>\n",
       "      <td>14867</td>\n",
       "      <td>11</td>\n",
       "      <td>1.98</td>\n",
       "      <td>1.23</td>\n",
       "      <td>1000.0</td>\n",
       "      <td>1.73</td>\n",
       "      <td>333.0</td>\n",
       "    </tr>\n",
       "  </tbody>\n",
       "</table>\n",
       "</div>"
      ],
      "text/plain": [
       "   TRADE_DATE  SEC_CODE SYMBOL1  MARKET     VOLUME  TRADE_QTY  NO_OF_TRADES  \\\n",
       "0  01/02/2022    111001    JOIB       1  199083.73      54378            73   \n",
       "1  01/02/2022    111002    JOKB       1   12707.76       9009            17   \n",
       "2  01/02/2022    111003    JCBK       2     727.41        726             7   \n",
       "3  01/02/2022    111004    THBK       1    1558.10        394             5   \n",
       "4  01/02/2022    111006    SIBK       1   29030.98      14867            11   \n",
       "\n",
       "   HIGH  BEST_ASK_PRICE  BEST_ASK_QTY  BEST_BID_PRICE  BEST_BID_QTY  \n",
       "0  3.67            2.65         585.0            3.13        2000.0  \n",
       "1  1.42            1.36         493.0            1.86        1570.0  \n",
       "2  1.03            1.14        1853.0            1.64        1000.0  \n",
       "3  3.97            1.09         660.0            1.59          46.0  \n",
       "4  1.98            1.23        1000.0            1.73         333.0  "
      ]
     },
     "execution_count": 3,
     "metadata": {},
     "output_type": "execute_result"
    }
   ],
   "source": [
    "df_High.head()"
   ]
  },
  {
   "cell_type": "code",
   "execution_count": 4,
   "metadata": {},
   "outputs": [],
   "source": [
    "df_Low= pd.read_csv('low.csv')"
   ]
  },
  {
   "cell_type": "code",
   "execution_count": 5,
   "metadata": {},
   "outputs": [
    {
     "data": {
      "text/html": [
       "<div>\n",
       "<style scoped>\n",
       "    .dataframe tbody tr th:only-of-type {\n",
       "        vertical-align: middle;\n",
       "    }\n",
       "\n",
       "    .dataframe tbody tr th {\n",
       "        vertical-align: top;\n",
       "    }\n",
       "\n",
       "    .dataframe thead th {\n",
       "        text-align: right;\n",
       "    }\n",
       "</style>\n",
       "<table border=\"1\" class=\"dataframe\">\n",
       "  <thead>\n",
       "    <tr style=\"text-align: right;\">\n",
       "      <th></th>\n",
       "      <th>TRADE_DATE</th>\n",
       "      <th>SEC_CODE</th>\n",
       "      <th>SYMBOL1</th>\n",
       "      <th>MARKET</th>\n",
       "      <th>VOLUME</th>\n",
       "      <th>TRADE_QTY</th>\n",
       "      <th>NO_OF_TRADES</th>\n",
       "      <th>LOW</th>\n",
       "      <th>BEST_ASK_PRICE</th>\n",
       "      <th>BEST_ASK_QTY</th>\n",
       "      <th>BEST_BID_PRICE</th>\n",
       "      <th>BEST_BID_QTY</th>\n",
       "    </tr>\n",
       "  </thead>\n",
       "  <tbody>\n",
       "    <tr>\n",
       "      <th>0</th>\n",
       "      <td>01/02/2022</td>\n",
       "      <td>111001</td>\n",
       "      <td>JOIB</td>\n",
       "      <td>1</td>\n",
       "      <td>199083.73</td>\n",
       "      <td>54378</td>\n",
       "      <td>73</td>\n",
       "      <td>3.65</td>\n",
       "      <td>2.65</td>\n",
       "      <td>585.0</td>\n",
       "      <td>3.13</td>\n",
       "      <td>2000.0</td>\n",
       "    </tr>\n",
       "    <tr>\n",
       "      <th>1</th>\n",
       "      <td>01/02/2022</td>\n",
       "      <td>111002</td>\n",
       "      <td>JOKB</td>\n",
       "      <td>1</td>\n",
       "      <td>12707.76</td>\n",
       "      <td>9009</td>\n",
       "      <td>17</td>\n",
       "      <td>1.41</td>\n",
       "      <td>1.36</td>\n",
       "      <td>493.0</td>\n",
       "      <td>1.86</td>\n",
       "      <td>1570.0</td>\n",
       "    </tr>\n",
       "    <tr>\n",
       "      <th>2</th>\n",
       "      <td>01/02/2022</td>\n",
       "      <td>111003</td>\n",
       "      <td>JCBK</td>\n",
       "      <td>2</td>\n",
       "      <td>727.41</td>\n",
       "      <td>726</td>\n",
       "      <td>7</td>\n",
       "      <td>1.00</td>\n",
       "      <td>1.14</td>\n",
       "      <td>1853.0</td>\n",
       "      <td>1.64</td>\n",
       "      <td>1000.0</td>\n",
       "    </tr>\n",
       "    <tr>\n",
       "      <th>3</th>\n",
       "      <td>01/02/2022</td>\n",
       "      <td>111004</td>\n",
       "      <td>THBK</td>\n",
       "      <td>1</td>\n",
       "      <td>1558.10</td>\n",
       "      <td>394</td>\n",
       "      <td>5</td>\n",
       "      <td>3.95</td>\n",
       "      <td>1.09</td>\n",
       "      <td>660.0</td>\n",
       "      <td>1.59</td>\n",
       "      <td>46.0</td>\n",
       "    </tr>\n",
       "    <tr>\n",
       "      <th>4</th>\n",
       "      <td>01/02/2022</td>\n",
       "      <td>111006</td>\n",
       "      <td>SIBK</td>\n",
       "      <td>1</td>\n",
       "      <td>29030.98</td>\n",
       "      <td>14867</td>\n",
       "      <td>11</td>\n",
       "      <td>1.95</td>\n",
       "      <td>1.23</td>\n",
       "      <td>1000.0</td>\n",
       "      <td>1.73</td>\n",
       "      <td>333.0</td>\n",
       "    </tr>\n",
       "  </tbody>\n",
       "</table>\n",
       "</div>"
      ],
      "text/plain": [
       "   TRADE_DATE  SEC_CODE SYMBOL1  MARKET     VOLUME  TRADE_QTY  NO_OF_TRADES  \\\n",
       "0  01/02/2022    111001    JOIB       1  199083.73      54378            73   \n",
       "1  01/02/2022    111002    JOKB       1   12707.76       9009            17   \n",
       "2  01/02/2022    111003    JCBK       2     727.41        726             7   \n",
       "3  01/02/2022    111004    THBK       1    1558.10        394             5   \n",
       "4  01/02/2022    111006    SIBK       1   29030.98      14867            11   \n",
       "\n",
       "    LOW  BEST_ASK_PRICE  BEST_ASK_QTY  BEST_BID_PRICE  BEST_BID_QTY  \n",
       "0  3.65            2.65         585.0            3.13        2000.0  \n",
       "1  1.41            1.36         493.0            1.86        1570.0  \n",
       "2  1.00            1.14        1853.0            1.64        1000.0  \n",
       "3  3.95            1.09         660.0            1.59          46.0  \n",
       "4  1.95            1.23        1000.0            1.73         333.0  "
      ]
     },
     "execution_count": 5,
     "metadata": {},
     "output_type": "execute_result"
    }
   ],
   "source": [
    "df_Low.head()"
   ]
  },
  {
   "cell_type": "code",
   "execution_count": 6,
   "metadata": {
    "colab": {
     "base_uri": "https://localhost:8080/"
    },
    "id": "VWBl_SQZlbjP",
    "outputId": "5fc95515-a6af-48b4-96c1-4cfdccdd4143"
   },
   "outputs": [
    {
     "data": {
      "text/plain": [
       "TRADE_DATE        0\n",
       "SEC_CODE          0\n",
       "SYMBOL1           0\n",
       "MARKET            0\n",
       "VOLUME            0\n",
       "TRADE_QTY         0\n",
       "NO_OF_TRADES      0\n",
       "HIGH              0\n",
       "BEST_ASK_PRICE    0\n",
       "BEST_ASK_QTY      0\n",
       "BEST_BID_PRICE    0\n",
       "BEST_BID_QTY      0\n",
       "dtype: int64"
      ]
     },
     "execution_count": 6,
     "metadata": {},
     "output_type": "execute_result"
    }
   ],
   "source": [
    "df_High.isnull().sum()"
   ]
  },
  {
   "cell_type": "code",
   "execution_count": 7,
   "metadata": {},
   "outputs": [
    {
     "data": {
      "text/plain": [
       "TRADE_DATE        0\n",
       "SEC_CODE          0\n",
       "SYMBOL1           0\n",
       "MARKET            0\n",
       "VOLUME            0\n",
       "TRADE_QTY         0\n",
       "NO_OF_TRADES      0\n",
       "LOW               0\n",
       "BEST_ASK_PRICE    0\n",
       "BEST_ASK_QTY      0\n",
       "BEST_BID_PRICE    0\n",
       "BEST_BID_QTY      0\n",
       "dtype: int64"
      ]
     },
     "execution_count": 7,
     "metadata": {},
     "output_type": "execute_result"
    }
   ],
   "source": [
    "df_Low.isnull().sum()"
   ]
  },
  {
   "cell_type": "code",
   "execution_count": 8,
   "metadata": {
    "colab": {
     "base_uri": "https://localhost:8080/"
    },
    "id": "054jLnaVlWty",
    "outputId": "c5168c02-a7a0-4105-b108-5d487336ef43"
   },
   "outputs": [
    {
     "name": "stdout",
     "output_type": "stream",
     "text": [
      "<class 'pandas.core.frame.DataFrame'>\n",
      "RangeIndex: 28012 entries, 0 to 28011\n",
      "Data columns (total 12 columns):\n",
      " #   Column          Non-Null Count  Dtype  \n",
      "---  ------          --------------  -----  \n",
      " 0   TRADE_DATE      28012 non-null  object \n",
      " 1   SEC_CODE        28012 non-null  int64  \n",
      " 2   SYMBOL1         28012 non-null  object \n",
      " 3   MARKET          28012 non-null  int64  \n",
      " 4   VOLUME          28012 non-null  float64\n",
      " 5   TRADE_QTY       28012 non-null  int64  \n",
      " 6   NO_OF_TRADES    28012 non-null  int64  \n",
      " 7   HIGH            28012 non-null  float64\n",
      " 8   BEST_ASK_PRICE  28012 non-null  float64\n",
      " 9   BEST_ASK_QTY    28012 non-null  float64\n",
      " 10  BEST_BID_PRICE  28012 non-null  float64\n",
      " 11  BEST_BID_QTY    28012 non-null  float64\n",
      "dtypes: float64(6), int64(4), object(2)\n",
      "memory usage: 2.6+ MB\n"
     ]
    }
   ],
   "source": [
    "df_High.info()"
   ]
  },
  {
   "cell_type": "code",
   "execution_count": 9,
   "metadata": {},
   "outputs": [
    {
     "name": "stdout",
     "output_type": "stream",
     "text": [
      "<class 'pandas.core.frame.DataFrame'>\n",
      "RangeIndex: 28012 entries, 0 to 28011\n",
      "Data columns (total 12 columns):\n",
      " #   Column          Non-Null Count  Dtype  \n",
      "---  ------          --------------  -----  \n",
      " 0   TRADE_DATE      28012 non-null  object \n",
      " 1   SEC_CODE        28012 non-null  int64  \n",
      " 2   SYMBOL1         28012 non-null  object \n",
      " 3   MARKET          28012 non-null  int64  \n",
      " 4   VOLUME          28012 non-null  float64\n",
      " 5   TRADE_QTY       28012 non-null  int64  \n",
      " 6   NO_OF_TRADES    28012 non-null  int64  \n",
      " 7   LOW             28012 non-null  float64\n",
      " 8   BEST_ASK_PRICE  28012 non-null  float64\n",
      " 9   BEST_ASK_QTY    28012 non-null  float64\n",
      " 10  BEST_BID_PRICE  28012 non-null  float64\n",
      " 11  BEST_BID_QTY    28012 non-null  float64\n",
      "dtypes: float64(6), int64(4), object(2)\n",
      "memory usage: 2.6+ MB\n"
     ]
    }
   ],
   "source": [
    "df_Low.info()"
   ]
  },
  {
   "cell_type": "code",
   "execution_count": 10,
   "metadata": {
    "colab": {
     "base_uri": "https://localhost:8080/"
    },
    "id": "GcId4un-CZl5",
    "outputId": "4c440fa5-24f6-400c-ec07-e565898ac996"
   },
   "outputs": [
    {
     "name": "stderr",
     "output_type": "stream",
     "text": [
      "C:\\Users\\USER\\AppData\\Local\\Temp\\ipykernel_13940\\3800361518.py:1: UserWarning: Parsing dates in DD/MM/YYYY format when dayfirst=False (the default) was specified. This may lead to inconsistently parsed dates! Specify a format to ensure consistent parsing.\n",
      "  df_High[\"TRADE_DATE\"] = pd.to_datetime(df_High[\"TRADE_DATE\"])\n"
     ]
    },
    {
     "data": {
      "text/plain": [
       "0       2022-01-02\n",
       "1       2022-01-02\n",
       "2       2022-01-02\n",
       "3       2022-01-02\n",
       "4       2022-01-02\n",
       "           ...    \n",
       "28007   2022-10-31\n",
       "28008   2022-10-31\n",
       "28009   2022-10-31\n",
       "28010   2022-10-31\n",
       "28011   2022-10-31\n",
       "Name: TRADE_DATE, Length: 28012, dtype: datetime64[ns]"
      ]
     },
     "execution_count": 10,
     "metadata": {},
     "output_type": "execute_result"
    }
   ],
   "source": [
    "df_High[\"TRADE_DATE\"] = pd.to_datetime(df_High[\"TRADE_DATE\"])\n",
    "df_High[\"TRADE_DATE\"]"
   ]
  },
  {
   "cell_type": "code",
   "execution_count": 11,
   "metadata": {},
   "outputs": [
    {
     "name": "stderr",
     "output_type": "stream",
     "text": [
      "C:\\Users\\USER\\AppData\\Local\\Temp\\ipykernel_13940\\3284162572.py:1: UserWarning: Parsing dates in DD/MM/YYYY format when dayfirst=False (the default) was specified. This may lead to inconsistently parsed dates! Specify a format to ensure consistent parsing.\n",
      "  df_Low[\"TRADE_DATE\"] = pd.to_datetime(df_Low[\"TRADE_DATE\"])\n"
     ]
    },
    {
     "data": {
      "text/plain": [
       "0       2022-01-02\n",
       "1       2022-01-02\n",
       "2       2022-01-02\n",
       "3       2022-01-02\n",
       "4       2022-01-02\n",
       "           ...    \n",
       "28007   2022-10-31\n",
       "28008   2022-10-31\n",
       "28009   2022-10-31\n",
       "28010   2022-10-31\n",
       "28011   2022-10-31\n",
       "Name: TRADE_DATE, Length: 28012, dtype: datetime64[ns]"
      ]
     },
     "execution_count": 11,
     "metadata": {},
     "output_type": "execute_result"
    }
   ],
   "source": [
    "df_Low[\"TRADE_DATE\"] = pd.to_datetime(df_Low[\"TRADE_DATE\"])\n",
    "df_Low[\"TRADE_DATE\"]"
   ]
  },
  {
   "cell_type": "code",
   "execution_count": 12,
   "metadata": {},
   "outputs": [],
   "source": [
    "df_High.drop(['SEC_CODE'], axis=1, inplace=True)\n",
    "df_Low.drop(['SEC_CODE'], axis=1, inplace=True)"
   ]
  },
  {
   "cell_type": "code",
   "execution_count": 13,
   "metadata": {},
   "outputs": [
    {
     "data": {
      "text/html": [
       "<div>\n",
       "<style scoped>\n",
       "    .dataframe tbody tr th:only-of-type {\n",
       "        vertical-align: middle;\n",
       "    }\n",
       "\n",
       "    .dataframe tbody tr th {\n",
       "        vertical-align: top;\n",
       "    }\n",
       "\n",
       "    .dataframe thead th {\n",
       "        text-align: right;\n",
       "    }\n",
       "</style>\n",
       "<table border=\"1\" class=\"dataframe\">\n",
       "  <thead>\n",
       "    <tr style=\"text-align: right;\">\n",
       "      <th></th>\n",
       "      <th>TRADE_DATE</th>\n",
       "      <th>SYMBOL1</th>\n",
       "      <th>MARKET</th>\n",
       "      <th>VOLUME</th>\n",
       "      <th>TRADE_QTY</th>\n",
       "      <th>NO_OF_TRADES</th>\n",
       "      <th>HIGH</th>\n",
       "      <th>BEST_ASK_PRICE</th>\n",
       "      <th>BEST_ASK_QTY</th>\n",
       "      <th>BEST_BID_PRICE</th>\n",
       "      <th>BEST_BID_QTY</th>\n",
       "    </tr>\n",
       "  </thead>\n",
       "  <tbody>\n",
       "    <tr>\n",
       "      <th>0</th>\n",
       "      <td>2022-01-02</td>\n",
       "      <td>JOIB</td>\n",
       "      <td>1</td>\n",
       "      <td>199083.73</td>\n",
       "      <td>54378</td>\n",
       "      <td>73</td>\n",
       "      <td>3.67</td>\n",
       "      <td>2.65</td>\n",
       "      <td>585.0</td>\n",
       "      <td>3.13</td>\n",
       "      <td>2000.0</td>\n",
       "    </tr>\n",
       "    <tr>\n",
       "      <th>1</th>\n",
       "      <td>2022-01-02</td>\n",
       "      <td>JOKB</td>\n",
       "      <td>1</td>\n",
       "      <td>12707.76</td>\n",
       "      <td>9009</td>\n",
       "      <td>17</td>\n",
       "      <td>1.42</td>\n",
       "      <td>1.36</td>\n",
       "      <td>493.0</td>\n",
       "      <td>1.86</td>\n",
       "      <td>1570.0</td>\n",
       "    </tr>\n",
       "    <tr>\n",
       "      <th>2</th>\n",
       "      <td>2022-01-02</td>\n",
       "      <td>JCBK</td>\n",
       "      <td>2</td>\n",
       "      <td>727.41</td>\n",
       "      <td>726</td>\n",
       "      <td>7</td>\n",
       "      <td>1.03</td>\n",
       "      <td>1.14</td>\n",
       "      <td>1853.0</td>\n",
       "      <td>1.64</td>\n",
       "      <td>1000.0</td>\n",
       "    </tr>\n",
       "    <tr>\n",
       "      <th>3</th>\n",
       "      <td>2022-01-02</td>\n",
       "      <td>THBK</td>\n",
       "      <td>1</td>\n",
       "      <td>1558.10</td>\n",
       "      <td>394</td>\n",
       "      <td>5</td>\n",
       "      <td>3.97</td>\n",
       "      <td>1.09</td>\n",
       "      <td>660.0</td>\n",
       "      <td>1.59</td>\n",
       "      <td>46.0</td>\n",
       "    </tr>\n",
       "    <tr>\n",
       "      <th>4</th>\n",
       "      <td>2022-01-02</td>\n",
       "      <td>SIBK</td>\n",
       "      <td>1</td>\n",
       "      <td>29030.98</td>\n",
       "      <td>14867</td>\n",
       "      <td>11</td>\n",
       "      <td>1.98</td>\n",
       "      <td>1.23</td>\n",
       "      <td>1000.0</td>\n",
       "      <td>1.73</td>\n",
       "      <td>333.0</td>\n",
       "    </tr>\n",
       "  </tbody>\n",
       "</table>\n",
       "</div>"
      ],
      "text/plain": [
       "  TRADE_DATE SYMBOL1  MARKET     VOLUME  TRADE_QTY  NO_OF_TRADES  HIGH  \\\n",
       "0 2022-01-02    JOIB       1  199083.73      54378            73  3.67   \n",
       "1 2022-01-02    JOKB       1   12707.76       9009            17  1.42   \n",
       "2 2022-01-02    JCBK       2     727.41        726             7  1.03   \n",
       "3 2022-01-02    THBK       1    1558.10        394             5  3.97   \n",
       "4 2022-01-02    SIBK       1   29030.98      14867            11  1.98   \n",
       "\n",
       "   BEST_ASK_PRICE  BEST_ASK_QTY  BEST_BID_PRICE  BEST_BID_QTY  \n",
       "0            2.65         585.0            3.13        2000.0  \n",
       "1            1.36         493.0            1.86        1570.0  \n",
       "2            1.14        1853.0            1.64        1000.0  \n",
       "3            1.09         660.0            1.59          46.0  \n",
       "4            1.23        1000.0            1.73         333.0  "
      ]
     },
     "execution_count": 13,
     "metadata": {},
     "output_type": "execute_result"
    }
   ],
   "source": [
    "df_High.head()"
   ]
  },
  {
   "cell_type": "code",
   "execution_count": 14,
   "metadata": {
    "colab": {
     "base_uri": "https://localhost:8080/"
    },
    "id": "l1s8xGeQ9rGp",
    "outputId": "c83d4ce6-5580-456f-b31c-f7c839c5eea0"
   },
   "outputs": [
    {
     "data": {
      "text/plain": [
       "(28012, 11)"
      ]
     },
     "execution_count": 14,
     "metadata": {},
     "output_type": "execute_result"
    }
   ],
   "source": [
    "df_High.shape"
   ]
  },
  {
   "cell_type": "code",
   "execution_count": 15,
   "metadata": {
    "colab": {
     "base_uri": "https://localhost:8080/",
     "height": 608
    },
    "id": "T1RywOU6jmxl",
    "outputId": "7eca1355-012d-419d-a409-64c2a6e63af7",
    "scrolled": true
   },
   "outputs": [
    {
     "name": "stderr",
     "output_type": "stream",
     "text": [
      "C:\\Users\\USER\\AppData\\Local\\Temp\\ipykernel_13940\\4183960328.py:1: FutureWarning: Treating datetime data as categorical rather than numeric in `.describe` is deprecated and will be removed in a future version of pandas. Specify `datetime_is_numeric=True` to silence this warning and adopt the future behavior now.\n",
      "  df_High.describe(include='all')\n"
     ]
    },
    {
     "data": {
      "text/html": [
       "<div>\n",
       "<style scoped>\n",
       "    .dataframe tbody tr th:only-of-type {\n",
       "        vertical-align: middle;\n",
       "    }\n",
       "\n",
       "    .dataframe tbody tr th {\n",
       "        vertical-align: top;\n",
       "    }\n",
       "\n",
       "    .dataframe thead th {\n",
       "        text-align: right;\n",
       "    }\n",
       "</style>\n",
       "<table border=\"1\" class=\"dataframe\">\n",
       "  <thead>\n",
       "    <tr style=\"text-align: right;\">\n",
       "      <th></th>\n",
       "      <th>TRADE_DATE</th>\n",
       "      <th>SYMBOL1</th>\n",
       "      <th>MARKET</th>\n",
       "      <th>VOLUME</th>\n",
       "      <th>TRADE_QTY</th>\n",
       "      <th>NO_OF_TRADES</th>\n",
       "      <th>HIGH</th>\n",
       "      <th>BEST_ASK_PRICE</th>\n",
       "      <th>BEST_ASK_QTY</th>\n",
       "      <th>BEST_BID_PRICE</th>\n",
       "      <th>BEST_BID_QTY</th>\n",
       "    </tr>\n",
       "  </thead>\n",
       "  <tbody>\n",
       "    <tr>\n",
       "      <th>count</th>\n",
       "      <td>28012</td>\n",
       "      <td>28012</td>\n",
       "      <td>28012.000000</td>\n",
       "      <td>2.801200e+04</td>\n",
       "      <td>2.801200e+04</td>\n",
       "      <td>28012.000000</td>\n",
       "      <td>28012.000000</td>\n",
       "      <td>28012.000000</td>\n",
       "      <td>2.801200e+04</td>\n",
       "      <td>28012.000000</td>\n",
       "      <td>2.801200e+04</td>\n",
       "    </tr>\n",
       "    <tr>\n",
       "      <th>unique</th>\n",
       "      <td>248</td>\n",
       "      <td>213</td>\n",
       "      <td>NaN</td>\n",
       "      <td>NaN</td>\n",
       "      <td>NaN</td>\n",
       "      <td>NaN</td>\n",
       "      <td>NaN</td>\n",
       "      <td>NaN</td>\n",
       "      <td>NaN</td>\n",
       "      <td>NaN</td>\n",
       "      <td>NaN</td>\n",
       "    </tr>\n",
       "    <tr>\n",
       "      <th>top</th>\n",
       "      <td>2022-03-13 00:00:00</td>\n",
       "      <td>JOIB</td>\n",
       "      <td>NaN</td>\n",
       "      <td>NaN</td>\n",
       "      <td>NaN</td>\n",
       "      <td>NaN</td>\n",
       "      <td>NaN</td>\n",
       "      <td>NaN</td>\n",
       "      <td>NaN</td>\n",
       "      <td>NaN</td>\n",
       "      <td>NaN</td>\n",
       "    </tr>\n",
       "    <tr>\n",
       "      <th>freq</th>\n",
       "      <td>135</td>\n",
       "      <td>247</td>\n",
       "      <td>NaN</td>\n",
       "      <td>NaN</td>\n",
       "      <td>NaN</td>\n",
       "      <td>NaN</td>\n",
       "      <td>NaN</td>\n",
       "      <td>NaN</td>\n",
       "      <td>NaN</td>\n",
       "      <td>NaN</td>\n",
       "      <td>NaN</td>\n",
       "    </tr>\n",
       "    <tr>\n",
       "      <th>first</th>\n",
       "      <td>2022-01-02 00:00:00</td>\n",
       "      <td>NaN</td>\n",
       "      <td>NaN</td>\n",
       "      <td>NaN</td>\n",
       "      <td>NaN</td>\n",
       "      <td>NaN</td>\n",
       "      <td>NaN</td>\n",
       "      <td>NaN</td>\n",
       "      <td>NaN</td>\n",
       "      <td>NaN</td>\n",
       "      <td>NaN</td>\n",
       "    </tr>\n",
       "    <tr>\n",
       "      <th>last</th>\n",
       "      <td>2022-12-29 00:00:00</td>\n",
       "      <td>NaN</td>\n",
       "      <td>NaN</td>\n",
       "      <td>NaN</td>\n",
       "      <td>NaN</td>\n",
       "      <td>NaN</td>\n",
       "      <td>NaN</td>\n",
       "      <td>NaN</td>\n",
       "      <td>NaN</td>\n",
       "      <td>NaN</td>\n",
       "      <td>NaN</td>\n",
       "    </tr>\n",
       "    <tr>\n",
       "      <th>mean</th>\n",
       "      <td>NaN</td>\n",
       "      <td>NaN</td>\n",
       "      <td>1.385906</td>\n",
       "      <td>6.312677e+04</td>\n",
       "      <td>4.270346e+04</td>\n",
       "      <td>28.061545</td>\n",
       "      <td>1.713816</td>\n",
       "      <td>1.620775</td>\n",
       "      <td>1.979999e+04</td>\n",
       "      <td>2.113421</td>\n",
       "      <td>2.452341e+04</td>\n",
       "    </tr>\n",
       "    <tr>\n",
       "      <th>std</th>\n",
       "      <td>NaN</td>\n",
       "      <td>NaN</td>\n",
       "      <td>0.750480</td>\n",
       "      <td>3.022558e+05</td>\n",
       "      <td>1.451785e+05</td>\n",
       "      <td>66.231007</td>\n",
       "      <td>4.667872</td>\n",
       "      <td>1.520599</td>\n",
       "      <td>6.742718e+04</td>\n",
       "      <td>1.500857</td>\n",
       "      <td>1.008184e+05</td>\n",
       "    </tr>\n",
       "    <tr>\n",
       "      <th>min</th>\n",
       "      <td>NaN</td>\n",
       "      <td>NaN</td>\n",
       "      <td>0.000000</td>\n",
       "      <td>2.000000e-02</td>\n",
       "      <td>1.000000e+00</td>\n",
       "      <td>1.000000</td>\n",
       "      <td>0.020000</td>\n",
       "      <td>1.000000</td>\n",
       "      <td>0.000000e+00</td>\n",
       "      <td>1.500000</td>\n",
       "      <td>0.000000e+00</td>\n",
       "    </tr>\n",
       "    <tr>\n",
       "      <th>25%</th>\n",
       "      <td>NaN</td>\n",
       "      <td>NaN</td>\n",
       "      <td>1.000000</td>\n",
       "      <td>6.398300e+02</td>\n",
       "      <td>1.000000e+03</td>\n",
       "      <td>3.000000</td>\n",
       "      <td>0.380000</td>\n",
       "      <td>1.050000</td>\n",
       "      <td>5.000000e+02</td>\n",
       "      <td>1.550000</td>\n",
       "      <td>4.000000e+02</td>\n",
       "    </tr>\n",
       "    <tr>\n",
       "      <th>50%</th>\n",
       "      <td>NaN</td>\n",
       "      <td>NaN</td>\n",
       "      <td>2.000000</td>\n",
       "      <td>3.831125e+03</td>\n",
       "      <td>5.873500e+03</td>\n",
       "      <td>9.000000</td>\n",
       "      <td>0.710000</td>\n",
       "      <td>1.180000</td>\n",
       "      <td>2.100000e+03</td>\n",
       "      <td>1.680000</td>\n",
       "      <td>1.912000e+03</td>\n",
       "    </tr>\n",
       "    <tr>\n",
       "      <th>75%</th>\n",
       "      <td>NaN</td>\n",
       "      <td>NaN</td>\n",
       "      <td>2.000000</td>\n",
       "      <td>2.014495e+04</td>\n",
       "      <td>2.843675e+04</td>\n",
       "      <td>25.000000</td>\n",
       "      <td>1.460000</td>\n",
       "      <td>1.550000</td>\n",
       "      <td>9.494250e+03</td>\n",
       "      <td>2.040000</td>\n",
       "      <td>1.038675e+04</td>\n",
       "    </tr>\n",
       "    <tr>\n",
       "      <th>max</th>\n",
       "      <td>NaN</td>\n",
       "      <td>NaN</td>\n",
       "      <td>2.000000</td>\n",
       "      <td>8.868824e+06</td>\n",
       "      <td>5.741963e+06</td>\n",
       "      <td>1700.000000</td>\n",
       "      <td>44.500000</td>\n",
       "      <td>40.000000</td>\n",
       "      <td>1.017951e+06</td>\n",
       "      <td>40.000000</td>\n",
       "      <td>3.600734e+06</td>\n",
       "    </tr>\n",
       "  </tbody>\n",
       "</table>\n",
       "</div>"
      ],
      "text/plain": [
       "                 TRADE_DATE SYMBOL1        MARKET        VOLUME     TRADE_QTY  \\\n",
       "count                 28012   28012  28012.000000  2.801200e+04  2.801200e+04   \n",
       "unique                  248     213           NaN           NaN           NaN   \n",
       "top     2022-03-13 00:00:00    JOIB           NaN           NaN           NaN   \n",
       "freq                    135     247           NaN           NaN           NaN   \n",
       "first   2022-01-02 00:00:00     NaN           NaN           NaN           NaN   \n",
       "last    2022-12-29 00:00:00     NaN           NaN           NaN           NaN   \n",
       "mean                    NaN     NaN      1.385906  6.312677e+04  4.270346e+04   \n",
       "std                     NaN     NaN      0.750480  3.022558e+05  1.451785e+05   \n",
       "min                     NaN     NaN      0.000000  2.000000e-02  1.000000e+00   \n",
       "25%                     NaN     NaN      1.000000  6.398300e+02  1.000000e+03   \n",
       "50%                     NaN     NaN      2.000000  3.831125e+03  5.873500e+03   \n",
       "75%                     NaN     NaN      2.000000  2.014495e+04  2.843675e+04   \n",
       "max                     NaN     NaN      2.000000  8.868824e+06  5.741963e+06   \n",
       "\n",
       "        NO_OF_TRADES          HIGH  BEST_ASK_PRICE  BEST_ASK_QTY  \\\n",
       "count   28012.000000  28012.000000    28012.000000  2.801200e+04   \n",
       "unique           NaN           NaN             NaN           NaN   \n",
       "top              NaN           NaN             NaN           NaN   \n",
       "freq             NaN           NaN             NaN           NaN   \n",
       "first            NaN           NaN             NaN           NaN   \n",
       "last             NaN           NaN             NaN           NaN   \n",
       "mean       28.061545      1.713816        1.620775  1.979999e+04   \n",
       "std        66.231007      4.667872        1.520599  6.742718e+04   \n",
       "min         1.000000      0.020000        1.000000  0.000000e+00   \n",
       "25%         3.000000      0.380000        1.050000  5.000000e+02   \n",
       "50%         9.000000      0.710000        1.180000  2.100000e+03   \n",
       "75%        25.000000      1.460000        1.550000  9.494250e+03   \n",
       "max      1700.000000     44.500000       40.000000  1.017951e+06   \n",
       "\n",
       "        BEST_BID_PRICE  BEST_BID_QTY  \n",
       "count     28012.000000  2.801200e+04  \n",
       "unique             NaN           NaN  \n",
       "top                NaN           NaN  \n",
       "freq               NaN           NaN  \n",
       "first              NaN           NaN  \n",
       "last               NaN           NaN  \n",
       "mean          2.113421  2.452341e+04  \n",
       "std           1.500857  1.008184e+05  \n",
       "min           1.500000  0.000000e+00  \n",
       "25%           1.550000  4.000000e+02  \n",
       "50%           1.680000  1.912000e+03  \n",
       "75%           2.040000  1.038675e+04  \n",
       "max          40.000000  3.600734e+06  "
      ]
     },
     "execution_count": 15,
     "metadata": {},
     "output_type": "execute_result"
    }
   ],
   "source": [
    "df_High.describe(include='all')"
   ]
  },
  {
   "cell_type": "code",
   "execution_count": 16,
   "metadata": {},
   "outputs": [
    {
     "name": "stderr",
     "output_type": "stream",
     "text": [
      "C:\\Users\\USER\\AppData\\Local\\Temp\\ipykernel_13940\\2735109194.py:1: FutureWarning: Treating datetime data as categorical rather than numeric in `.describe` is deprecated and will be removed in a future version of pandas. Specify `datetime_is_numeric=True` to silence this warning and adopt the future behavior now.\n",
      "  df_Low.describe(include='all')\n"
     ]
    },
    {
     "data": {
      "text/html": [
       "<div>\n",
       "<style scoped>\n",
       "    .dataframe tbody tr th:only-of-type {\n",
       "        vertical-align: middle;\n",
       "    }\n",
       "\n",
       "    .dataframe tbody tr th {\n",
       "        vertical-align: top;\n",
       "    }\n",
       "\n",
       "    .dataframe thead th {\n",
       "        text-align: right;\n",
       "    }\n",
       "</style>\n",
       "<table border=\"1\" class=\"dataframe\">\n",
       "  <thead>\n",
       "    <tr style=\"text-align: right;\">\n",
       "      <th></th>\n",
       "      <th>TRADE_DATE</th>\n",
       "      <th>SYMBOL1</th>\n",
       "      <th>MARKET</th>\n",
       "      <th>VOLUME</th>\n",
       "      <th>TRADE_QTY</th>\n",
       "      <th>NO_OF_TRADES</th>\n",
       "      <th>LOW</th>\n",
       "      <th>BEST_ASK_PRICE</th>\n",
       "      <th>BEST_ASK_QTY</th>\n",
       "      <th>BEST_BID_PRICE</th>\n",
       "      <th>BEST_BID_QTY</th>\n",
       "    </tr>\n",
       "  </thead>\n",
       "  <tbody>\n",
       "    <tr>\n",
       "      <th>count</th>\n",
       "      <td>28012</td>\n",
       "      <td>28012</td>\n",
       "      <td>28012.000000</td>\n",
       "      <td>2.801200e+04</td>\n",
       "      <td>2.801200e+04</td>\n",
       "      <td>28012.000000</td>\n",
       "      <td>28012.000000</td>\n",
       "      <td>28012.000000</td>\n",
       "      <td>2.801200e+04</td>\n",
       "      <td>28012.000000</td>\n",
       "      <td>2.801200e+04</td>\n",
       "    </tr>\n",
       "    <tr>\n",
       "      <th>unique</th>\n",
       "      <td>248</td>\n",
       "      <td>213</td>\n",
       "      <td>NaN</td>\n",
       "      <td>NaN</td>\n",
       "      <td>NaN</td>\n",
       "      <td>NaN</td>\n",
       "      <td>NaN</td>\n",
       "      <td>NaN</td>\n",
       "      <td>NaN</td>\n",
       "      <td>NaN</td>\n",
       "      <td>NaN</td>\n",
       "    </tr>\n",
       "    <tr>\n",
       "      <th>top</th>\n",
       "      <td>2022-03-13 00:00:00</td>\n",
       "      <td>JOIB</td>\n",
       "      <td>NaN</td>\n",
       "      <td>NaN</td>\n",
       "      <td>NaN</td>\n",
       "      <td>NaN</td>\n",
       "      <td>NaN</td>\n",
       "      <td>NaN</td>\n",
       "      <td>NaN</td>\n",
       "      <td>NaN</td>\n",
       "      <td>NaN</td>\n",
       "    </tr>\n",
       "    <tr>\n",
       "      <th>freq</th>\n",
       "      <td>135</td>\n",
       "      <td>247</td>\n",
       "      <td>NaN</td>\n",
       "      <td>NaN</td>\n",
       "      <td>NaN</td>\n",
       "      <td>NaN</td>\n",
       "      <td>NaN</td>\n",
       "      <td>NaN</td>\n",
       "      <td>NaN</td>\n",
       "      <td>NaN</td>\n",
       "      <td>NaN</td>\n",
       "    </tr>\n",
       "    <tr>\n",
       "      <th>first</th>\n",
       "      <td>2022-01-02 00:00:00</td>\n",
       "      <td>NaN</td>\n",
       "      <td>NaN</td>\n",
       "      <td>NaN</td>\n",
       "      <td>NaN</td>\n",
       "      <td>NaN</td>\n",
       "      <td>NaN</td>\n",
       "      <td>NaN</td>\n",
       "      <td>NaN</td>\n",
       "      <td>NaN</td>\n",
       "      <td>NaN</td>\n",
       "    </tr>\n",
       "    <tr>\n",
       "      <th>last</th>\n",
       "      <td>2022-12-29 00:00:00</td>\n",
       "      <td>NaN</td>\n",
       "      <td>NaN</td>\n",
       "      <td>NaN</td>\n",
       "      <td>NaN</td>\n",
       "      <td>NaN</td>\n",
       "      <td>NaN</td>\n",
       "      <td>NaN</td>\n",
       "      <td>NaN</td>\n",
       "      <td>NaN</td>\n",
       "      <td>NaN</td>\n",
       "    </tr>\n",
       "    <tr>\n",
       "      <th>mean</th>\n",
       "      <td>NaN</td>\n",
       "      <td>NaN</td>\n",
       "      <td>1.385906</td>\n",
       "      <td>6.312677e+04</td>\n",
       "      <td>4.270346e+04</td>\n",
       "      <td>28.061545</td>\n",
       "      <td>1.680022</td>\n",
       "      <td>1.620775</td>\n",
       "      <td>1.979999e+04</td>\n",
       "      <td>2.113421</td>\n",
       "      <td>2.452341e+04</td>\n",
       "    </tr>\n",
       "    <tr>\n",
       "      <th>std</th>\n",
       "      <td>NaN</td>\n",
       "      <td>NaN</td>\n",
       "      <td>0.750480</td>\n",
       "      <td>3.022558e+05</td>\n",
       "      <td>1.451785e+05</td>\n",
       "      <td>66.231007</td>\n",
       "      <td>4.580905</td>\n",
       "      <td>1.520599</td>\n",
       "      <td>6.742718e+04</td>\n",
       "      <td>1.500857</td>\n",
       "      <td>1.008184e+05</td>\n",
       "    </tr>\n",
       "    <tr>\n",
       "      <th>min</th>\n",
       "      <td>NaN</td>\n",
       "      <td>NaN</td>\n",
       "      <td>0.000000</td>\n",
       "      <td>2.000000e-02</td>\n",
       "      <td>1.000000e+00</td>\n",
       "      <td>1.000000</td>\n",
       "      <td>0.010000</td>\n",
       "      <td>1.000000</td>\n",
       "      <td>0.000000e+00</td>\n",
       "      <td>1.500000</td>\n",
       "      <td>0.000000e+00</td>\n",
       "    </tr>\n",
       "    <tr>\n",
       "      <th>25%</th>\n",
       "      <td>NaN</td>\n",
       "      <td>NaN</td>\n",
       "      <td>1.000000</td>\n",
       "      <td>6.398300e+02</td>\n",
       "      <td>1.000000e+03</td>\n",
       "      <td>3.000000</td>\n",
       "      <td>0.370000</td>\n",
       "      <td>1.050000</td>\n",
       "      <td>5.000000e+02</td>\n",
       "      <td>1.550000</td>\n",
       "      <td>4.000000e+02</td>\n",
       "    </tr>\n",
       "    <tr>\n",
       "      <th>50%</th>\n",
       "      <td>NaN</td>\n",
       "      <td>NaN</td>\n",
       "      <td>2.000000</td>\n",
       "      <td>3.831125e+03</td>\n",
       "      <td>5.873500e+03</td>\n",
       "      <td>9.000000</td>\n",
       "      <td>0.690000</td>\n",
       "      <td>1.180000</td>\n",
       "      <td>2.100000e+03</td>\n",
       "      <td>1.680000</td>\n",
       "      <td>1.912000e+03</td>\n",
       "    </tr>\n",
       "    <tr>\n",
       "      <th>75%</th>\n",
       "      <td>NaN</td>\n",
       "      <td>NaN</td>\n",
       "      <td>2.000000</td>\n",
       "      <td>2.014495e+04</td>\n",
       "      <td>2.843675e+04</td>\n",
       "      <td>25.000000</td>\n",
       "      <td>1.432500</td>\n",
       "      <td>1.550000</td>\n",
       "      <td>9.494250e+03</td>\n",
       "      <td>2.040000</td>\n",
       "      <td>1.038675e+04</td>\n",
       "    </tr>\n",
       "    <tr>\n",
       "      <th>max</th>\n",
       "      <td>NaN</td>\n",
       "      <td>NaN</td>\n",
       "      <td>2.000000</td>\n",
       "      <td>8.868824e+06</td>\n",
       "      <td>5.741963e+06</td>\n",
       "      <td>1700.000000</td>\n",
       "      <td>44.040000</td>\n",
       "      <td>40.000000</td>\n",
       "      <td>1.017951e+06</td>\n",
       "      <td>40.000000</td>\n",
       "      <td>3.600734e+06</td>\n",
       "    </tr>\n",
       "  </tbody>\n",
       "</table>\n",
       "</div>"
      ],
      "text/plain": [
       "                 TRADE_DATE SYMBOL1        MARKET        VOLUME     TRADE_QTY  \\\n",
       "count                 28012   28012  28012.000000  2.801200e+04  2.801200e+04   \n",
       "unique                  248     213           NaN           NaN           NaN   \n",
       "top     2022-03-13 00:00:00    JOIB           NaN           NaN           NaN   \n",
       "freq                    135     247           NaN           NaN           NaN   \n",
       "first   2022-01-02 00:00:00     NaN           NaN           NaN           NaN   \n",
       "last    2022-12-29 00:00:00     NaN           NaN           NaN           NaN   \n",
       "mean                    NaN     NaN      1.385906  6.312677e+04  4.270346e+04   \n",
       "std                     NaN     NaN      0.750480  3.022558e+05  1.451785e+05   \n",
       "min                     NaN     NaN      0.000000  2.000000e-02  1.000000e+00   \n",
       "25%                     NaN     NaN      1.000000  6.398300e+02  1.000000e+03   \n",
       "50%                     NaN     NaN      2.000000  3.831125e+03  5.873500e+03   \n",
       "75%                     NaN     NaN      2.000000  2.014495e+04  2.843675e+04   \n",
       "max                     NaN     NaN      2.000000  8.868824e+06  5.741963e+06   \n",
       "\n",
       "        NO_OF_TRADES           LOW  BEST_ASK_PRICE  BEST_ASK_QTY  \\\n",
       "count   28012.000000  28012.000000    28012.000000  2.801200e+04   \n",
       "unique           NaN           NaN             NaN           NaN   \n",
       "top              NaN           NaN             NaN           NaN   \n",
       "freq             NaN           NaN             NaN           NaN   \n",
       "first            NaN           NaN             NaN           NaN   \n",
       "last             NaN           NaN             NaN           NaN   \n",
       "mean       28.061545      1.680022        1.620775  1.979999e+04   \n",
       "std        66.231007      4.580905        1.520599  6.742718e+04   \n",
       "min         1.000000      0.010000        1.000000  0.000000e+00   \n",
       "25%         3.000000      0.370000        1.050000  5.000000e+02   \n",
       "50%         9.000000      0.690000        1.180000  2.100000e+03   \n",
       "75%        25.000000      1.432500        1.550000  9.494250e+03   \n",
       "max      1700.000000     44.040000       40.000000  1.017951e+06   \n",
       "\n",
       "        BEST_BID_PRICE  BEST_BID_QTY  \n",
       "count     28012.000000  2.801200e+04  \n",
       "unique             NaN           NaN  \n",
       "top                NaN           NaN  \n",
       "freq               NaN           NaN  \n",
       "first              NaN           NaN  \n",
       "last               NaN           NaN  \n",
       "mean          2.113421  2.452341e+04  \n",
       "std           1.500857  1.008184e+05  \n",
       "min           1.500000  0.000000e+00  \n",
       "25%           1.550000  4.000000e+02  \n",
       "50%           1.680000  1.912000e+03  \n",
       "75%           2.040000  1.038675e+04  \n",
       "max          40.000000  3.600734e+06  "
      ]
     },
     "execution_count": 16,
     "metadata": {},
     "output_type": "execute_result"
    }
   ],
   "source": [
    "df_Low.describe(include='all')"
   ]
  },
  {
   "cell_type": "code",
   "execution_count": 17,
   "metadata": {
    "colab": {
     "base_uri": "https://localhost:8080/"
    },
    "id": "Z9i8bQOOnPG6",
    "outputId": "6c4dbf5f-02e4-4ef8-92f8-1d9b8ffb0c7d"
   },
   "outputs": [
    {
     "data": {
      "text/plain": [
       "TRADE_DATE        datetime64[ns]\n",
       "SYMBOL1                   object\n",
       "MARKET                     int64\n",
       "VOLUME                   float64\n",
       "TRADE_QTY                  int64\n",
       "NO_OF_TRADES               int64\n",
       "HIGH                     float64\n",
       "BEST_ASK_PRICE           float64\n",
       "BEST_ASK_QTY             float64\n",
       "BEST_BID_PRICE           float64\n",
       "BEST_BID_QTY             float64\n",
       "dtype: object"
      ]
     },
     "execution_count": 17,
     "metadata": {},
     "output_type": "execute_result"
    }
   ],
   "source": [
    "df_High.dtypes"
   ]
  },
  {
   "cell_type": "code",
   "execution_count": 18,
   "metadata": {},
   "outputs": [
    {
     "data": {
      "text/plain": [
       "TRADE_DATE        datetime64[ns]\n",
       "SYMBOL1                   object\n",
       "MARKET                     int64\n",
       "VOLUME                   float64\n",
       "TRADE_QTY                  int64\n",
       "NO_OF_TRADES               int64\n",
       "LOW                      float64\n",
       "BEST_ASK_PRICE           float64\n",
       "BEST_ASK_QTY             float64\n",
       "BEST_BID_PRICE           float64\n",
       "BEST_BID_QTY             float64\n",
       "dtype: object"
      ]
     },
     "execution_count": 18,
     "metadata": {},
     "output_type": "execute_result"
    }
   ],
   "source": [
    "df_Low.dtypes"
   ]
  },
  {
   "cell_type": "code",
   "execution_count": 19,
   "metadata": {
    "colab": {
     "base_uri": "https://localhost:8080/"
    },
    "id": "1zq_lR4JBrJR",
    "outputId": "32875bb6-47f6-43bf-92f6-fb67a99938d1"
   },
   "outputs": [
    {
     "data": {
      "text/plain": [
       "TRADE_DATE          248\n",
       "SYMBOL1             213\n",
       "MARKET                3\n",
       "VOLUME            24466\n",
       "TRADE_QTY         15430\n",
       "NO_OF_TRADES        500\n",
       "HIGH               1072\n",
       "BEST_ASK_PRICE      551\n",
       "BEST_ASK_QTY      11371\n",
       "BEST_BID_PRICE      551\n",
       "BEST_BID_QTY      10083\n",
       "dtype: int64"
      ]
     },
     "execution_count": 19,
     "metadata": {},
     "output_type": "execute_result"
    }
   ],
   "source": [
    "# Find the number of unique values for each feature using the function nunique()\n",
    "df_High.nunique()"
   ]
  },
  {
   "cell_type": "code",
   "execution_count": 20,
   "metadata": {},
   "outputs": [
    {
     "data": {
      "text/plain": [
       "TRADE_DATE          248\n",
       "SYMBOL1             213\n",
       "MARKET                3\n",
       "VOLUME            24466\n",
       "TRADE_QTY         15430\n",
       "NO_OF_TRADES        500\n",
       "LOW                1007\n",
       "BEST_ASK_PRICE      551\n",
       "BEST_ASK_QTY      11371\n",
       "BEST_BID_PRICE      551\n",
       "BEST_BID_QTY      10083\n",
       "dtype: int64"
      ]
     },
     "execution_count": 20,
     "metadata": {},
     "output_type": "execute_result"
    }
   ],
   "source": [
    "df_Low.nunique()"
   ]
  },
  {
   "cell_type": "markdown",
   "metadata": {
    "id": "0wYHvlx50_XV"
   },
   "source": [
    "# 1. Apply Python programming language to demonstrate the descriptive analytics techniques by applying the following:"
   ]
  },
  {
   "cell_type": "markdown",
   "metadata": {
    "id": "nkvWFhhBggcY"
   },
   "source": [
    "## a. Analyze at least three features by using appropriate measures and visualization charts"
   ]
  },
  {
   "cell_type": "markdown",
   "metadata": {
    "id": "vbOMTNuxHBPA"
   },
   "source": [
    "### Appropriate measures"
   ]
  },
  {
   "cell_type": "code",
   "execution_count": 21,
   "metadata": {
    "colab": {
     "base_uri": "https://localhost:8080/"
    },
    "id": "AdZohWuk-Hgp",
    "outputId": "efd1bfa5-06ee-46fc-eaae-25b182cc5328",
    "scrolled": true
   },
   "outputs": [
    {
     "data": {
      "text/plain": [
       "count    2.801200e+04\n",
       "mean     6.312677e+04\n",
       "std      3.022558e+05\n",
       "min      2.000000e-02\n",
       "25%      6.398300e+02\n",
       "50%      3.831125e+03\n",
       "75%      2.014495e+04\n",
       "max      8.868824e+06\n",
       "Name: VOLUME, dtype: float64"
      ]
     },
     "execution_count": 21,
     "metadata": {},
     "output_type": "execute_result"
    }
   ],
   "source": [
    "df_High['VOLUME'].describe()"
   ]
  },
  {
   "cell_type": "code",
   "execution_count": 22,
   "metadata": {
    "colab": {
     "base_uri": "https://localhost:8080/"
    },
    "id": "iKaZgVYn-MBA",
    "outputId": "2f04d038-c2d4-4b5a-ba1d-faa84b5713a8"
   },
   "outputs": [
    {
     "data": {
      "text/plain": [
       "count    2.801200e+04\n",
       "mean     4.270346e+04\n",
       "std      1.451785e+05\n",
       "min      1.000000e+00\n",
       "25%      1.000000e+03\n",
       "50%      5.873500e+03\n",
       "75%      2.843675e+04\n",
       "max      5.741963e+06\n",
       "Name: TRADE_QTY, dtype: float64"
      ]
     },
     "execution_count": 22,
     "metadata": {},
     "output_type": "execute_result"
    }
   ],
   "source": [
    "df_High['TRADE_QTY'].describe()"
   ]
  },
  {
   "cell_type": "code",
   "execution_count": 23,
   "metadata": {
    "colab": {
     "base_uri": "https://localhost:8080/"
    },
    "id": "Fr7gcU5y-TwA",
    "outputId": "82449c8d-622a-4dca-c6e0-4ad928c7b7aa"
   },
   "outputs": [
    {
     "data": {
      "text/plain": [
       "count    2.801200e+04\n",
       "mean     2.452341e+04\n",
       "std      1.008184e+05\n",
       "min      0.000000e+00\n",
       "25%      4.000000e+02\n",
       "50%      1.912000e+03\n",
       "75%      1.038675e+04\n",
       "max      3.600734e+06\n",
       "Name: BEST_BID_QTY, dtype: float64"
      ]
     },
     "execution_count": 23,
     "metadata": {},
     "output_type": "execute_result"
    }
   ],
   "source": [
    "df_Low['BEST_BID_QTY'].describe()"
   ]
  },
  {
   "cell_type": "code",
   "execution_count": 24,
   "metadata": {
    "colab": {
     "base_uri": "https://localhost:8080/"
    },
    "id": "TXYK2Y2F-9GB",
    "outputId": "2e5c7479-ce65-467f-ac18-83c32087b190"
   },
   "outputs": [
    {
     "data": {
      "text/plain": [
       "MARKET  BEST_BID_QTY\n",
       "0       0.0               7296.659341\n",
       "        1.0              51888.428571\n",
       "        2.0              12635.000000\n",
       "        3.0              17307.500000\n",
       "        4.0              13523.000000\n",
       "                            ...      \n",
       "2       929727.0          3436.000000\n",
       "        978199.0        177775.000000\n",
       "        1044480.0        35907.000000\n",
       "        1052570.0        42540.000000\n",
       "        2364140.0       128757.000000\n",
       "Name: TRADE_QTY, Length: 12255, dtype: float64"
      ]
     },
     "execution_count": 24,
     "metadata": {},
     "output_type": "execute_result"
    }
   ],
   "source": [
    "df_High.groupby([\"MARKET\",\"BEST_BID_QTY\"]).TRADE_QTY.mean()"
   ]
  },
  {
   "cell_type": "code",
   "execution_count": 25,
   "metadata": {
    "colab": {
     "base_uri": "https://localhost:8080/",
     "height": 556
    },
    "id": "EM5oo_x8_v79",
    "outputId": "1a76e579-3fff-44f7-c056-dfb3e62da945"
   },
   "outputs": [
    {
     "name": "stderr",
     "output_type": "stream",
     "text": [
      "C:\\Users\\USER\\AppData\\Local\\Temp\\ipykernel_13940\\1477094466.py:1: FutureWarning: The default value of numeric_only in DataFrame.corr is deprecated. In a future version, it will default to False. Select only valid columns or specify the value of numeric_only to silence this warning.\n",
      "  df_High.corr()\n"
     ]
    },
    {
     "data": {
      "text/html": [
       "<div>\n",
       "<style scoped>\n",
       "    .dataframe tbody tr th:only-of-type {\n",
       "        vertical-align: middle;\n",
       "    }\n",
       "\n",
       "    .dataframe tbody tr th {\n",
       "        vertical-align: top;\n",
       "    }\n",
       "\n",
       "    .dataframe thead th {\n",
       "        text-align: right;\n",
       "    }\n",
       "</style>\n",
       "<table border=\"1\" class=\"dataframe\">\n",
       "  <thead>\n",
       "    <tr style=\"text-align: right;\">\n",
       "      <th></th>\n",
       "      <th>MARKET</th>\n",
       "      <th>VOLUME</th>\n",
       "      <th>TRADE_QTY</th>\n",
       "      <th>NO_OF_TRADES</th>\n",
       "      <th>HIGH</th>\n",
       "      <th>BEST_ASK_PRICE</th>\n",
       "      <th>BEST_ASK_QTY</th>\n",
       "      <th>BEST_BID_PRICE</th>\n",
       "      <th>BEST_BID_QTY</th>\n",
       "    </tr>\n",
       "  </thead>\n",
       "  <tbody>\n",
       "    <tr>\n",
       "      <th>MARKET</th>\n",
       "      <td>1.000000</td>\n",
       "      <td>-0.034048</td>\n",
       "      <td>0.045583</td>\n",
       "      <td>0.001102</td>\n",
       "      <td>-0.089998</td>\n",
       "      <td>0.001116</td>\n",
       "      <td>-0.099576</td>\n",
       "      <td>0.001093</td>\n",
       "      <td>-0.089226</td>\n",
       "    </tr>\n",
       "    <tr>\n",
       "      <th>VOLUME</th>\n",
       "      <td>-0.034048</td>\n",
       "      <td>1.000000</td>\n",
       "      <td>0.620277</td>\n",
       "      <td>0.777427</td>\n",
       "      <td>0.310333</td>\n",
       "      <td>0.777378</td>\n",
       "      <td>-0.026209</td>\n",
       "      <td>0.777434</td>\n",
       "      <td>-0.011380</td>\n",
       "    </tr>\n",
       "    <tr>\n",
       "      <th>TRADE_QTY</th>\n",
       "      <td>0.045583</td>\n",
       "      <td>0.620277</td>\n",
       "      <td>1.000000</td>\n",
       "      <td>0.449219</td>\n",
       "      <td>-0.013221</td>\n",
       "      <td>0.449198</td>\n",
       "      <td>0.080231</td>\n",
       "      <td>0.449170</td>\n",
       "      <td>0.075985</td>\n",
       "    </tr>\n",
       "    <tr>\n",
       "      <th>NO_OF_TRADES</th>\n",
       "      <td>0.001102</td>\n",
       "      <td>0.777427</td>\n",
       "      <td>0.449219</td>\n",
       "      <td>1.000000</td>\n",
       "      <td>0.288890</td>\n",
       "      <td>0.999997</td>\n",
       "      <td>-0.020228</td>\n",
       "      <td>0.999998</td>\n",
       "      <td>0.001323</td>\n",
       "    </tr>\n",
       "    <tr>\n",
       "      <th>HIGH</th>\n",
       "      <td>-0.089998</td>\n",
       "      <td>0.310333</td>\n",
       "      <td>-0.013221</td>\n",
       "      <td>0.288890</td>\n",
       "      <td>1.000000</td>\n",
       "      <td>0.289028</td>\n",
       "      <td>-0.086154</td>\n",
       "      <td>0.289048</td>\n",
       "      <td>-0.070636</td>\n",
       "    </tr>\n",
       "    <tr>\n",
       "      <th>BEST_ASK_PRICE</th>\n",
       "      <td>0.001116</td>\n",
       "      <td>0.777378</td>\n",
       "      <td>0.449198</td>\n",
       "      <td>0.999997</td>\n",
       "      <td>0.289028</td>\n",
       "      <td>1.000000</td>\n",
       "      <td>-0.020253</td>\n",
       "      <td>0.999999</td>\n",
       "      <td>0.001313</td>\n",
       "    </tr>\n",
       "    <tr>\n",
       "      <th>BEST_ASK_QTY</th>\n",
       "      <td>-0.099576</td>\n",
       "      <td>-0.026209</td>\n",
       "      <td>0.080231</td>\n",
       "      <td>-0.020228</td>\n",
       "      <td>-0.086154</td>\n",
       "      <td>-0.020253</td>\n",
       "      <td>1.000000</td>\n",
       "      <td>-0.020260</td>\n",
       "      <td>0.271098</td>\n",
       "    </tr>\n",
       "    <tr>\n",
       "      <th>BEST_BID_PRICE</th>\n",
       "      <td>0.001093</td>\n",
       "      <td>0.777434</td>\n",
       "      <td>0.449170</td>\n",
       "      <td>0.999998</td>\n",
       "      <td>0.289048</td>\n",
       "      <td>0.999999</td>\n",
       "      <td>-0.020260</td>\n",
       "      <td>1.000000</td>\n",
       "      <td>0.001308</td>\n",
       "    </tr>\n",
       "    <tr>\n",
       "      <th>BEST_BID_QTY</th>\n",
       "      <td>-0.089226</td>\n",
       "      <td>-0.011380</td>\n",
       "      <td>0.075985</td>\n",
       "      <td>0.001323</td>\n",
       "      <td>-0.070636</td>\n",
       "      <td>0.001313</td>\n",
       "      <td>0.271098</td>\n",
       "      <td>0.001308</td>\n",
       "      <td>1.000000</td>\n",
       "    </tr>\n",
       "  </tbody>\n",
       "</table>\n",
       "</div>"
      ],
      "text/plain": [
       "                  MARKET    VOLUME  TRADE_QTY  NO_OF_TRADES      HIGH  \\\n",
       "MARKET          1.000000 -0.034048   0.045583      0.001102 -0.089998   \n",
       "VOLUME         -0.034048  1.000000   0.620277      0.777427  0.310333   \n",
       "TRADE_QTY       0.045583  0.620277   1.000000      0.449219 -0.013221   \n",
       "NO_OF_TRADES    0.001102  0.777427   0.449219      1.000000  0.288890   \n",
       "HIGH           -0.089998  0.310333  -0.013221      0.288890  1.000000   \n",
       "BEST_ASK_PRICE  0.001116  0.777378   0.449198      0.999997  0.289028   \n",
       "BEST_ASK_QTY   -0.099576 -0.026209   0.080231     -0.020228 -0.086154   \n",
       "BEST_BID_PRICE  0.001093  0.777434   0.449170      0.999998  0.289048   \n",
       "BEST_BID_QTY   -0.089226 -0.011380   0.075985      0.001323 -0.070636   \n",
       "\n",
       "                BEST_ASK_PRICE  BEST_ASK_QTY  BEST_BID_PRICE  BEST_BID_QTY  \n",
       "MARKET                0.001116     -0.099576        0.001093     -0.089226  \n",
       "VOLUME                0.777378     -0.026209        0.777434     -0.011380  \n",
       "TRADE_QTY             0.449198      0.080231        0.449170      0.075985  \n",
       "NO_OF_TRADES          0.999997     -0.020228        0.999998      0.001323  \n",
       "HIGH                  0.289028     -0.086154        0.289048     -0.070636  \n",
       "BEST_ASK_PRICE        1.000000     -0.020253        0.999999      0.001313  \n",
       "BEST_ASK_QTY         -0.020253      1.000000       -0.020260      0.271098  \n",
       "BEST_BID_PRICE        0.999999     -0.020260        1.000000      0.001308  \n",
       "BEST_BID_QTY          0.001313      0.271098        0.001308      1.000000  "
      ]
     },
     "execution_count": 25,
     "metadata": {},
     "output_type": "execute_result"
    }
   ],
   "source": [
    "df_High.corr()"
   ]
  },
  {
   "cell_type": "code",
   "execution_count": 38,
   "metadata": {
    "colab": {
     "base_uri": "https://localhost:8080/",
     "height": 424
    },
    "id": "H_klLMkhNPr6",
    "outputId": "0990d3f3-c70a-4f79-aa13-e88293bcac90"
   },
   "outputs": [
    {
     "data": {
      "text/html": [
       "<div>\n",
       "<style scoped>\n",
       "    .dataframe tbody tr th:only-of-type {\n",
       "        vertical-align: middle;\n",
       "    }\n",
       "\n",
       "    .dataframe tbody tr th {\n",
       "        vertical-align: top;\n",
       "    }\n",
       "\n",
       "    .dataframe thead th {\n",
       "        text-align: right;\n",
       "    }\n",
       "</style>\n",
       "<table border=\"1\" class=\"dataframe\">\n",
       "  <thead>\n",
       "    <tr style=\"text-align: right;\">\n",
       "      <th></th>\n",
       "      <th>SYMBOL1</th>\n",
       "      <th>frequency</th>\n",
       "      <th>relative_frequency</th>\n",
       "      <th>cumulative_frequency</th>\n",
       "      <th>cumulative_relative_frequency</th>\n",
       "      <th>quartile</th>\n",
       "    </tr>\n",
       "  </thead>\n",
       "  <tbody>\n",
       "    <tr>\n",
       "      <th>0</th>\n",
       "      <td>AAIN</td>\n",
       "      <td>33</td>\n",
       "      <td>0.001178</td>\n",
       "      <td>33</td>\n",
       "      <td>0.001178</td>\n",
       "      <td>Q1</td>\n",
       "    </tr>\n",
       "    <tr>\n",
       "      <th>1</th>\n",
       "      <td>AALU</td>\n",
       "      <td>115</td>\n",
       "      <td>0.004105</td>\n",
       "      <td>148</td>\n",
       "      <td>0.005283</td>\n",
       "      <td>Q2</td>\n",
       "    </tr>\n",
       "    <tr>\n",
       "      <th>2</th>\n",
       "      <td>ABCO</td>\n",
       "      <td>197</td>\n",
       "      <td>0.007033</td>\n",
       "      <td>345</td>\n",
       "      <td>0.012316</td>\n",
       "      <td>Q3</td>\n",
       "    </tr>\n",
       "    <tr>\n",
       "      <th>3</th>\n",
       "      <td>ABLA</td>\n",
       "      <td>190</td>\n",
       "      <td>0.006783</td>\n",
       "      <td>535</td>\n",
       "      <td>0.019099</td>\n",
       "      <td>Q3</td>\n",
       "    </tr>\n",
       "    <tr>\n",
       "      <th>4</th>\n",
       "      <td>ABMS</td>\n",
       "      <td>14</td>\n",
       "      <td>0.000500</td>\n",
       "      <td>549</td>\n",
       "      <td>0.019599</td>\n",
       "      <td>Q1</td>\n",
       "    </tr>\n",
       "    <tr>\n",
       "      <th>...</th>\n",
       "      <td>...</td>\n",
       "      <td>...</td>\n",
       "      <td>...</td>\n",
       "      <td>...</td>\n",
       "      <td>...</td>\n",
       "      <td>...</td>\n",
       "    </tr>\n",
       "    <tr>\n",
       "      <th>208</th>\n",
       "      <td>WIRE</td>\n",
       "      <td>205</td>\n",
       "      <td>0.007318</td>\n",
       "      <td>27621</td>\n",
       "      <td>0.986042</td>\n",
       "      <td>Q3</td>\n",
       "    </tr>\n",
       "    <tr>\n",
       "      <th>209</th>\n",
       "      <td>WIVA</td>\n",
       "      <td>175</td>\n",
       "      <td>0.006247</td>\n",
       "      <td>27796</td>\n",
       "      <td>0.992289</td>\n",
       "      <td>Q3</td>\n",
       "    </tr>\n",
       "    <tr>\n",
       "      <th>210</th>\n",
       "      <td>WOOD</td>\n",
       "      <td>2</td>\n",
       "      <td>0.000071</td>\n",
       "      <td>27798</td>\n",
       "      <td>0.992360</td>\n",
       "      <td>Q1</td>\n",
       "    </tr>\n",
       "    <tr>\n",
       "      <th>211</th>\n",
       "      <td>ZARA</td>\n",
       "      <td>106</td>\n",
       "      <td>0.003784</td>\n",
       "      <td>27904</td>\n",
       "      <td>0.996145</td>\n",
       "      <td>Q2</td>\n",
       "    </tr>\n",
       "    <tr>\n",
       "      <th>212</th>\n",
       "      <td>ZEIC</td>\n",
       "      <td>108</td>\n",
       "      <td>0.003855</td>\n",
       "      <td>28012</td>\n",
       "      <td>1.000000</td>\n",
       "      <td>Q2</td>\n",
       "    </tr>\n",
       "  </tbody>\n",
       "</table>\n",
       "<p>213 rows × 6 columns</p>\n",
       "</div>"
      ],
      "text/plain": [
       "    SYMBOL1  frequency  relative_frequency  cumulative_frequency  \\\n",
       "0      AAIN         33            0.001178                    33   \n",
       "1      AALU        115            0.004105                   148   \n",
       "2      ABCO        197            0.007033                   345   \n",
       "3      ABLA        190            0.006783                   535   \n",
       "4      ABMS         14            0.000500                   549   \n",
       "..      ...        ...                 ...                   ...   \n",
       "208    WIRE        205            0.007318                 27621   \n",
       "209    WIVA        175            0.006247                 27796   \n",
       "210    WOOD          2            0.000071                 27798   \n",
       "211    ZARA        106            0.003784                 27904   \n",
       "212    ZEIC        108            0.003855                 28012   \n",
       "\n",
       "     cumulative_relative_frequency quartile  \n",
       "0                         0.001178       Q1  \n",
       "1                         0.005283       Q2  \n",
       "2                         0.012316       Q3  \n",
       "3                         0.019099       Q3  \n",
       "4                         0.019599       Q1  \n",
       "..                             ...      ...  \n",
       "208                       0.986042       Q3  \n",
       "209                       0.992289       Q3  \n",
       "210                       0.992360       Q1  \n",
       "211                       0.996145       Q2  \n",
       "212                       1.000000       Q2  \n",
       "\n",
       "[213 rows x 6 columns]"
      ]
     },
     "execution_count": 38,
     "metadata": {},
     "output_type": "execute_result"
    }
   ],
   "source": [
    "frequency = df_High['SYMBOL1'].value_counts()\n",
    "df_by_sec_code = df_High.groupby('SYMBOL1').size().reset_index(name='frequency')\n",
    "relative_frequency = frequency / len(df_High)\n",
    "df_by_sec_code['relative_frequency'] = df_by_sec_code['frequency'] / len(df_High)\n",
    "cumulative_frequency = frequency.cumsum()\n",
    "df_by_sec_code['cumulative_frequency'] = df_by_sec_code['frequency'].cumsum()\n",
    "cumulative_frequency_relative = cumulative_frequency / len(df_High)\n",
    "df_by_sec_code['cumulative_relative_frequency'] = df_by_sec_code['cumulative_frequency'] / len(df_High)\n",
    "quartiles = frequency.quantile([0.25, 0.5, 0.75])\n",
    "complaints_quartile = pd.cut(frequency,bins=3,labels=(['Q1', 'Q2', 'Q3']))\n",
    "quartiles = df_by_sec_code['frequency'].quantile([0.25, 0.5, 0.75])\n",
    "df_by_sec_code['quartile'] = pd.cut(df_by_sec_code['frequency'], bins=3, labels=(['Q1', 'Q2', 'Q3']))\n",
    "df_by_sec_code"
   ]
  },
  {
   "cell_type": "code",
   "execution_count": 39,
   "metadata": {
    "colab": {
     "base_uri": "https://localhost:8080/"
    },
    "id": "cPELrIBQSsfs",
    "outputId": "afad74e0-99e2-4efc-8400-8f013de1f35b"
   },
   "outputs": [
    {
     "data": {
      "text/plain": [
       "0       -0.223406\n",
       "1       -0.227671\n",
       "2       -0.233325\n",
       "3       -0.242787\n",
       "4       -0.239941\n",
       "           ...   \n",
       "28007   -0.243243\n",
       "28008   -0.097338\n",
       "28009   -0.243243\n",
       "28010   -0.238284\n",
       "28011   -0.243045\n",
       "Name: z-scoreBBQ, Length: 28012, dtype: float64"
      ]
     },
     "execution_count": 39,
     "metadata": {},
     "output_type": "execute_result"
    }
   ],
   "source": [
    "mean = df_High['BEST_BID_QTY'].mean()\n",
    "std = df_High['BEST_BID_QTY'].std()\n",
    "df_High['z-scoreBBQ'] = (df_High['BEST_BID_QTY'] - mean) / std\n",
    "df_High['z-scoreBBQ']"
   ]
  },
  {
   "cell_type": "code",
   "execution_count": 40,
   "metadata": {
    "colab": {
     "base_uri": "https://localhost:8080/"
    },
    "id": "4NvL360yTQ3j",
    "outputId": "639a0923-b11e-4834-e9ab-d751bbabbaa3"
   },
   "outputs": [
    {
     "data": {
      "text/plain": [
       "0       -0.514212\n",
       "1       -0.514212\n",
       "2        0.818268\n",
       "3       -0.514212\n",
       "4       -0.514212\n",
       "           ...   \n",
       "28007    0.818268\n",
       "28008    0.818268\n",
       "28009    0.818268\n",
       "28010   -0.514212\n",
       "28011   -0.514212\n",
       "Name: z_score, Length: 28012, dtype: float64"
      ]
     },
     "execution_count": 40,
     "metadata": {},
     "output_type": "execute_result"
    }
   ],
   "source": [
    "mean = df_High['MARKET'].mean()\n",
    "std = df_High['MARKET'].std()\n",
    "df_High['z_score'] = (df_High['MARKET'] - mean) / std\n",
    "df_High['z_score']"
   ]
  },
  {
   "cell_type": "code",
   "execution_count": null,
   "metadata": {},
   "outputs": [],
   "source": [
    "idxOutliers = df_High[(df_High['z_score'] > -0.5) | (df_High['z_score'] < -0.5)]['z_score']\n",
    "idxOutliers"
   ]
  },
  {
   "cell_type": "code",
   "execution_count": null,
   "metadata": {},
   "outputs": [],
   "source": [
    "idxOutliers.value_counts()"
   ]
  },
  {
   "cell_type": "markdown",
   "metadata": {
    "id": "XTAxC5PPHMBf"
   },
   "source": [
    "### Visualization charts"
   ]
  },
  {
   "cell_type": "code",
   "execution_count": null,
   "metadata": {
    "colab": {
     "base_uri": "https://localhost:8080/",
     "height": 449
    },
    "id": "3Eg6dChqXDqh",
    "outputId": "6eaa0a9b-3267-4881-94b1-4858dfa5e339"
   },
   "outputs": [],
   "source": [
    "# Density plot\n",
    "sns.kdeplot(df_High['z_score'])\n",
    "plt.show()"
   ]
  },
  {
   "cell_type": "code",
   "execution_count": 44,
   "metadata": {
    "colab": {
     "base_uri": "https://localhost:8080/",
     "height": 449
    },
    "id": "cmAtLAKXW4h5",
    "outputId": "a0cec502-2665-4326-c744-cfd318f246da"
   },
   "outputs": [
    {
     "data": {
      "image/png": "[encoded data removed]",
      "text/plain": [
       "<Figure size 640x480 with 1 Axes>"
      ]
     },
     "metadata": {},
     "output_type": "display_data"
    }
   ],
   "source": [
    "# Density plot\n",
    "sns.kdeplot(df_High['TRADE_DATE'])\n",
    "plt.show()"
   ]
  },
  {
   "cell_type": "code",
   "execution_count": 45,
   "metadata": {
    "colab": {
     "base_uri": "https://localhost:8080/",
     "height": 449
    },
    "id": "Knte1jIrWKo6",
    "outputId": "ce9172b6-a1c7-4cc8-f7d5-942b301ea823"
   },
   "outputs": [
    {
     "data": {
      "image/png": "[encoded data removed]",
      "text/plain": [
       "<Figure size 640x480 with 1 Axes>"
      ]
     },
     "metadata": {},
     "output_type": "display_data"
    }
   ],
   "source": [
    "# Box plot\n",
    "sns.boxplot(x=df_High['MARKET'])\n",
    "plt.show()"
   ]
  },
  {
   "cell_type": "code",
   "execution_count": 46,
   "metadata": {
    "colab": {
     "base_uri": "https://localhost:8080/",
     "height": 466
    },
    "id": "wIErFlykk4vK",
    "outputId": "7b457485-e25f-4b1d-d484-2d8cb11f89b7"
   },
   "outputs": [
    {
     "data": {
      "text/plain": [
       "<Axes: xlabel='MARKET', ylabel='TRADE_QTY'>"
      ]
     },
     "execution_count": 46,
     "metadata": {},
     "output_type": "execute_result"
    },
    {
     "data": {
      "image/png": "[encoded data removed]",
      "text/plain": [
       "<Figure size 640x480 with 1 Axes>"
      ]
     },
     "metadata": {},
     "output_type": "display_data"
    }
   ],
   "source": [
    "sns.barplot(x= df_High['MARKET'], y= df_High['TRADE_QTY'])"
   ]
  },
  {
   "cell_type": "code",
   "execution_count": 47,
   "metadata": {
    "colab": {
     "base_uri": "https://localhost:8080/",
     "height": 465
    },
    "id": "yzfU9CS1ckp7",
    "outputId": "f30e0017-c772-4aea-eca5-d700542eb0c9"
   },
   "outputs": [
    {
     "data": {
      "image/png": "[encoded data removed]",
      "text/plain": [
       "<Figure size 640x480 with 1 Axes>"
      ]
     },
     "metadata": {},
     "output_type": "display_data"
    }
   ],
   "source": [
    "sns.lineplot(x=df_High['BEST_BID_QTY'], y=df_Low['VOLUME'])\n",
    "plt.show()"
   ]
  },
  {
   "cell_type": "code",
   "execution_count": 48,
   "metadata": {
    "colab": {
     "base_uri": "https://localhost:8080/",
     "height": 506
    },
    "id": "f05b2941",
    "outputId": "d4389ee4-8f3a-498d-fe8a-3155de623484"
   },
   "outputs": [
    {
     "data": {
      "image/png": "[encoded data removed]",
      "text/plain": [
       "<Figure size 500x500 with 1 Axes>"
      ]
     },
     "metadata": {},
     "output_type": "display_data"
    }
   ],
   "source": [
    "sns.displot(x=\"BEST_ASK_PRICE\", data=df_Low) \n",
    "plt.show()"
   ]
  },
  {
   "cell_type": "code",
   "execution_count": 49,
   "metadata": {
    "colab": {
     "base_uri": "https://localhost:8080/",
     "height": 611
    },
    "id": "AvFHTXZ-kGe1",
    "outputId": "eb631011-8b4e-4480-f640-ef08f61fba9a"
   },
   "outputs": [
    {
     "name": "stderr",
     "output_type": "stream",
     "text": [
      "C:\\Users\\USER\\AppData\\Local\\Temp\\ipykernel_13940\\2894185791.py:1: FutureWarning: The default value of numeric_only in DataFrame.corr is deprecated. In a future version, it will default to False. Select only valid columns or specify the value of numeric_only to silence this warning.\n",
      "  sns.heatmap(df_High.corr())\n"
     ]
    },
    {
     "data": {
      "text/plain": [
       "<function matplotlib.pyplot.show(close=None, block=None)>"
      ]
     },
     "execution_count": 49,
     "metadata": {},
     "output_type": "execute_result"
    },
    {
     "data": {
      "image/png": "[encoded data removed]",
      "text/plain": [
       "<Figure size 640x480 with 2 Axes>"
      ]
     },
     "metadata": {},
     "output_type": "display_data"
    }
   ],
   "source": [
    "sns.heatmap(df_High.corr())\n",
    "plt.show"
   ]
  },
  {
   "cell_type": "code",
   "execution_count": 50,
   "metadata": {
    "colab": {
     "base_uri": "https://localhost:8080/",
     "height": 449
    },
    "id": "NCSalK2JDusm",
    "outputId": "cb8d99fc-6fb2-4a6f-f047-d292ef7177e9"
   },
   "outputs": [
    {
     "data": {
      "image/png": "[encoded data removed]",
      "text/plain": [
       "<Figure size 640x480 with 1 Axes>"
      ]
     },
     "metadata": {},
     "output_type": "display_data"
    }
   ],
   "source": [
    "sns.lineplot(y=df_High['VOLUME'], x= df_High['TRADE_DATE'])\n",
    "plt.show()"
   ]
  },
  {
   "cell_type": "code",
   "execution_count": 51,
   "metadata": {
    "colab": {
     "base_uri": "https://localhost:8080/",
     "height": 449
    },
    "id": "l5LIJtR9h0dS",
    "outputId": "a0509ff1-2896-4925-ee58-ca84b31e06bc"
   },
   "outputs": [
    {
     "data": {
      "image/png": "[encoded data removed]",
      "text/plain": [
       "<Figure size 640x480 with 1 Axes>"
      ]
     },
     "metadata": {},
     "output_type": "display_data"
    }
   ],
   "source": [
    "sns.countplot(x=\"MARKET\",data = df_Low)\n",
    "plt.show()"
   ]
  },
  {
   "cell_type": "code",
   "execution_count": 52,
   "metadata": {
    "colab": {
     "base_uri": "https://localhost:8080/",
     "height": 482
    },
    "id": "t4N2gtjywsFs",
    "outputId": "afcf3cc8-d93b-43a6-e379-7bc8c953edcd"
   },
   "outputs": [
    {
     "data": {
      "text/plain": [
       "<Axes: xlabel='VOLUME', ylabel='TRADE_QTY'>"
      ]
     },
     "execution_count": 52,
     "metadata": {},
     "output_type": "execute_result"
    },
    {
     "data": {
      "image/png": "[encoded data removed]",
      "text/plain": [
       "<Figure size 640x480 with 1 Axes>"
      ]
     },
     "metadata": {},
     "output_type": "display_data"
    }
   ],
   "source": [
    "sns.scatterplot(x=\"VOLUME\", y=\"TRADE_QTY\", data=df_Low)"
   ]
  },
  {
   "cell_type": "code",
   "execution_count": 53,
   "metadata": {
    "colab": {
     "base_uri": "https://localhost:8080/",
     "height": 466
    },
    "id": "wCfG1mM7Qxmf",
    "outputId": "cc2b1605-3c2b-4f64-9591-80c2caddba54"
   },
   "outputs": [
    {
     "data": {
      "text/plain": [
       "<Axes: xlabel='BEST_ASK_PRICE', ylabel='BEST_BID_PRICE'>"
      ]
     },
     "execution_count": 53,
     "metadata": {},
     "output_type": "execute_result"
    },
    {
     "data": {
      "image/png": "[encoded data removed]",
      "text/plain": [
       "<Figure size 640x480 with 1 Axes>"
      ]
     },
     "metadata": {},
     "output_type": "display_data"
    }
   ],
   "source": [
    "sns.scatterplot(x=\"BEST_ASK_PRICE\", y=\"BEST_BID_PRICE\", data=df_Low)"
   ]
  },
  {
   "cell_type": "code",
   "execution_count": 54,
   "metadata": {
    "colab": {
     "base_uri": "https://localhost:8080/",
     "height": 482
    },
    "id": "aj1TjHfBPI0k",
    "outputId": "c2c4efea-edcf-4da9-974c-af6f807894a7"
   },
   "outputs": [
    {
     "data": {
      "text/plain": [
       "<Axes: xlabel='NO_OF_TRADES', ylabel='VOLUME'>"
      ]
     },
     "execution_count": 54,
     "metadata": {},
     "output_type": "execute_result"
    },
    {
     "data": {
      "image/png": "[encoded data removed]",
      "text/plain": [
       "<Figure size 640x480 with 1 Axes>"
      ]
     },
     "metadata": {},
     "output_type": "display_data"
    }
   ],
   "source": [
    "sns.scatterplot(x=\"NO_OF_TRADES\", y=\"VOLUME\", data=df_High)"
   ]
  },
  {
   "cell_type": "markdown",
   "metadata": {
    "id": "0CxcldQae5MS"
   },
   "source": [
    "## b. Using a contingency table and association measures, find an association between at least two features"
   ]
  },
  {
   "cell_type": "code",
   "execution_count": 55,
   "metadata": {
    "colab": {
     "base_uri": "https://localhost:8080/",
     "height": 331
    },
    "id": "qRLnXWh-e3gx",
    "outputId": "69c9e760-8ca1-4e5b-f522-b1efc83da2ff"
   },
   "outputs": [
    {
     "data": {
      "text/html": [
       "<div>\n",
       "<style scoped>\n",
       "    .dataframe tbody tr th:only-of-type {\n",
       "        vertical-align: middle;\n",
       "    }\n",
       "\n",
       "    .dataframe tbody tr th {\n",
       "        vertical-align: top;\n",
       "    }\n",
       "\n",
       "    .dataframe thead th {\n",
       "        text-align: right;\n",
       "    }\n",
       "</style>\n",
       "<table border=\"1\" class=\"dataframe\">\n",
       "  <thead>\n",
       "    <tr style=\"text-align: right;\">\n",
       "      <th>VOLUME</th>\n",
       "      <th>0.02</th>\n",
       "      <th>0.03</th>\n",
       "      <th>0.04</th>\n",
       "      <th>0.06</th>\n",
       "      <th>0.08</th>\n",
       "      <th>0.09</th>\n",
       "      <th>0.12</th>\n",
       "      <th>0.16</th>\n",
       "      <th>0.17</th>\n",
       "      <th>0.18</th>\n",
       "      <th>...</th>\n",
       "      <th>6795976.03</th>\n",
       "      <th>6935515.56</th>\n",
       "      <th>6936994.64</th>\n",
       "      <th>7327564.15</th>\n",
       "      <th>7333132.22</th>\n",
       "      <th>7795035.95</th>\n",
       "      <th>8438649.83</th>\n",
       "      <th>8733137.45</th>\n",
       "      <th>8868824.37</th>\n",
       "      <th>All</th>\n",
       "    </tr>\n",
       "    <tr>\n",
       "      <th>MARKET</th>\n",
       "      <th></th>\n",
       "      <th></th>\n",
       "      <th></th>\n",
       "      <th></th>\n",
       "      <th></th>\n",
       "      <th></th>\n",
       "      <th></th>\n",
       "      <th></th>\n",
       "      <th></th>\n",
       "      <th></th>\n",
       "      <th></th>\n",
       "      <th></th>\n",
       "      <th></th>\n",
       "      <th></th>\n",
       "      <th></th>\n",
       "      <th></th>\n",
       "      <th></th>\n",
       "      <th></th>\n",
       "      <th></th>\n",
       "      <th></th>\n",
       "      <th></th>\n",
       "    </tr>\n",
       "  </thead>\n",
       "  <tbody>\n",
       "    <tr>\n",
       "      <th>0</th>\n",
       "      <td>2</td>\n",
       "      <td>2</td>\n",
       "      <td>4</td>\n",
       "      <td>1</td>\n",
       "      <td>1</td>\n",
       "      <td>2</td>\n",
       "      <td>1</td>\n",
       "      <td>1</td>\n",
       "      <td>1</td>\n",
       "      <td>9</td>\n",
       "      <td>...</td>\n",
       "      <td>0</td>\n",
       "      <td>0</td>\n",
       "      <td>0</td>\n",
       "      <td>0</td>\n",
       "      <td>0</td>\n",
       "      <td>0</td>\n",
       "      <td>0</td>\n",
       "      <td>0</td>\n",
       "      <td>0</td>\n",
       "      <td>4569</td>\n",
       "    </tr>\n",
       "    <tr>\n",
       "      <th>1</th>\n",
       "      <td>0</td>\n",
       "      <td>0</td>\n",
       "      <td>0</td>\n",
       "      <td>0</td>\n",
       "      <td>0</td>\n",
       "      <td>0</td>\n",
       "      <td>0</td>\n",
       "      <td>0</td>\n",
       "      <td>0</td>\n",
       "      <td>0</td>\n",
       "      <td>...</td>\n",
       "      <td>1</td>\n",
       "      <td>0</td>\n",
       "      <td>0</td>\n",
       "      <td>1</td>\n",
       "      <td>1</td>\n",
       "      <td>0</td>\n",
       "      <td>1</td>\n",
       "      <td>0</td>\n",
       "      <td>1</td>\n",
       "      <td>8064</td>\n",
       "    </tr>\n",
       "    <tr>\n",
       "      <th>2</th>\n",
       "      <td>0</td>\n",
       "      <td>0</td>\n",
       "      <td>0</td>\n",
       "      <td>0</td>\n",
       "      <td>0</td>\n",
       "      <td>0</td>\n",
       "      <td>1</td>\n",
       "      <td>0</td>\n",
       "      <td>1</td>\n",
       "      <td>1</td>\n",
       "      <td>...</td>\n",
       "      <td>0</td>\n",
       "      <td>1</td>\n",
       "      <td>1</td>\n",
       "      <td>0</td>\n",
       "      <td>0</td>\n",
       "      <td>1</td>\n",
       "      <td>0</td>\n",
       "      <td>1</td>\n",
       "      <td>0</td>\n",
       "      <td>15379</td>\n",
       "    </tr>\n",
       "    <tr>\n",
       "      <th>All</th>\n",
       "      <td>2</td>\n",
       "      <td>2</td>\n",
       "      <td>4</td>\n",
       "      <td>1</td>\n",
       "      <td>1</td>\n",
       "      <td>2</td>\n",
       "      <td>2</td>\n",
       "      <td>1</td>\n",
       "      <td>2</td>\n",
       "      <td>10</td>\n",
       "      <td>...</td>\n",
       "      <td>1</td>\n",
       "      <td>1</td>\n",
       "      <td>1</td>\n",
       "      <td>1</td>\n",
       "      <td>1</td>\n",
       "      <td>1</td>\n",
       "      <td>1</td>\n",
       "      <td>1</td>\n",
       "      <td>1</td>\n",
       "      <td>28012</td>\n",
       "    </tr>\n",
       "  </tbody>\n",
       "</table>\n",
       "<p>4 rows × 24467 columns</p>\n",
       "</div>"
      ],
      "text/plain": [
       "VOLUME  0.02  0.03  0.04  0.06  0.08  0.09  0.12  0.16  0.17  0.18  ...  \\\n",
       "MARKET                                                              ...   \n",
       "0          2     2     4     1     1     2     1     1     1     9  ...   \n",
       "1          0     0     0     0     0     0     0     0     0     0  ...   \n",
       "2          0     0     0     0     0     0     1     0     1     1  ...   \n",
       "All        2     2     4     1     1     2     2     1     2    10  ...   \n",
       "\n",
       "VOLUME  6795976.03  6935515.56  6936994.64  7327564.15  7333132.22  \\\n",
       "MARKET                                                               \n",
       "0                0           0           0           0           0   \n",
       "1                1           0           0           1           1   \n",
       "2                0           1           1           0           0   \n",
       "All              1           1           1           1           1   \n",
       "\n",
       "VOLUME  7795035.95  8438649.83  8733137.45  8868824.37    All  \n",
       "MARKET                                                         \n",
       "0                0           0           0           0   4569  \n",
       "1                0           1           0           1   8064  \n",
       "2                1           0           1           0  15379  \n",
       "All              1           1           1           1  28012  \n",
       "\n",
       "[4 rows x 24467 columns]"
      ]
     },
     "execution_count": 55,
     "metadata": {},
     "output_type": "execute_result"
    }
   ],
   "source": [
    "contingency_table = pd.crosstab(\n",
    "    index=df_High['MARKET'],\n",
    "    columns=df_High['VOLUME'],\n",
    "    margins=True\n",
    ")\n",
    "contingency_table"
   ]
  },
  {
   "cell_type": "code",
   "execution_count": 56,
   "metadata": {},
   "outputs": [
    {
     "data": {
      "text/html": [
       "<div>\n",
       "<style scoped>\n",
       "    .dataframe tbody tr th:only-of-type {\n",
       "        vertical-align: middle;\n",
       "    }\n",
       "\n",
       "    .dataframe tbody tr th {\n",
       "        vertical-align: top;\n",
       "    }\n",
       "\n",
       "    .dataframe thead th {\n",
       "        text-align: right;\n",
       "    }\n",
       "</style>\n",
       "<table border=\"1\" class=\"dataframe\">\n",
       "  <thead>\n",
       "    <tr style=\"text-align: right;\">\n",
       "      <th></th>\n",
       "      <th>TRADE_DATE</th>\n",
       "      <th>SYMBOL1</th>\n",
       "      <th>MARKET</th>\n",
       "      <th>VOLUME</th>\n",
       "      <th>TRADE_QTY</th>\n",
       "      <th>NO_OF_TRADES</th>\n",
       "      <th>LOW</th>\n",
       "      <th>BEST_ASK_PRICE</th>\n",
       "      <th>BEST_ASK_QTY</th>\n",
       "      <th>BEST_BID_PRICE</th>\n",
       "      <th>BEST_BID_QTY</th>\n",
       "    </tr>\n",
       "  </thead>\n",
       "  <tbody>\n",
       "    <tr>\n",
       "      <th>0</th>\n",
       "      <td>2022-01-02</td>\n",
       "      <td>JOIB</td>\n",
       "      <td>1</td>\n",
       "      <td>199083.73</td>\n",
       "      <td>54378</td>\n",
       "      <td>73</td>\n",
       "      <td>3.65</td>\n",
       "      <td>2.65</td>\n",
       "      <td>585.0</td>\n",
       "      <td>3.13</td>\n",
       "      <td>2000.0</td>\n",
       "    </tr>\n",
       "    <tr>\n",
       "      <th>1</th>\n",
       "      <td>2022-01-02</td>\n",
       "      <td>JOKB</td>\n",
       "      <td>1</td>\n",
       "      <td>12707.76</td>\n",
       "      <td>9009</td>\n",
       "      <td>17</td>\n",
       "      <td>1.41</td>\n",
       "      <td>1.36</td>\n",
       "      <td>493.0</td>\n",
       "      <td>1.86</td>\n",
       "      <td>1570.0</td>\n",
       "    </tr>\n",
       "    <tr>\n",
       "      <th>2</th>\n",
       "      <td>2022-01-02</td>\n",
       "      <td>JCBK</td>\n",
       "      <td>2</td>\n",
       "      <td>727.41</td>\n",
       "      <td>726</td>\n",
       "      <td>7</td>\n",
       "      <td>1.00</td>\n",
       "      <td>1.14</td>\n",
       "      <td>1853.0</td>\n",
       "      <td>1.64</td>\n",
       "      <td>1000.0</td>\n",
       "    </tr>\n",
       "    <tr>\n",
       "      <th>3</th>\n",
       "      <td>2022-01-02</td>\n",
       "      <td>THBK</td>\n",
       "      <td>1</td>\n",
       "      <td>1558.10</td>\n",
       "      <td>394</td>\n",
       "      <td>5</td>\n",
       "      <td>3.95</td>\n",
       "      <td>1.09</td>\n",
       "      <td>660.0</td>\n",
       "      <td>1.59</td>\n",
       "      <td>46.0</td>\n",
       "    </tr>\n",
       "    <tr>\n",
       "      <th>4</th>\n",
       "      <td>2022-01-02</td>\n",
       "      <td>SIBK</td>\n",
       "      <td>1</td>\n",
       "      <td>29030.98</td>\n",
       "      <td>14867</td>\n",
       "      <td>11</td>\n",
       "      <td>1.95</td>\n",
       "      <td>1.23</td>\n",
       "      <td>1000.0</td>\n",
       "      <td>1.73</td>\n",
       "      <td>333.0</td>\n",
       "    </tr>\n",
       "  </tbody>\n",
       "</table>\n",
       "</div>"
      ],
      "text/plain": [
       "  TRADE_DATE SYMBOL1  MARKET     VOLUME  TRADE_QTY  NO_OF_TRADES   LOW  \\\n",
       "0 2022-01-02    JOIB       1  199083.73      54378            73  3.65   \n",
       "1 2022-01-02    JOKB       1   12707.76       9009            17  1.41   \n",
       "2 2022-01-02    JCBK       2     727.41        726             7  1.00   \n",
       "3 2022-01-02    THBK       1    1558.10        394             5  3.95   \n",
       "4 2022-01-02    SIBK       1   29030.98      14867            11  1.95   \n",
       "\n",
       "   BEST_ASK_PRICE  BEST_ASK_QTY  BEST_BID_PRICE  BEST_BID_QTY  \n",
       "0            2.65         585.0            3.13        2000.0  \n",
       "1            1.36         493.0            1.86        1570.0  \n",
       "2            1.14        1853.0            1.64        1000.0  \n",
       "3            1.09         660.0            1.59          46.0  \n",
       "4            1.23        1000.0            1.73         333.0  "
      ]
     },
     "execution_count": 56,
     "metadata": {},
     "output_type": "execute_result"
    }
   ],
   "source": [
    "df_Low.head()"
   ]
  },
  {
   "cell_type": "code",
   "execution_count": 57,
   "metadata": {
    "colab": {
     "base_uri": "https://localhost:8080/"
    },
    "id": "wmQr7Az1zIrx",
    "outputId": "290a3720-47ca-4705-c5a9-8ad7d9ebe81a"
   },
   "outputs": [
    {
     "data": {
      "text/plain": [
       "SYMBOL1           JOIBJOKBJCBKTHBKSIBKUBSIABCOINVBCAPLCABKBOJXBA...\n",
       "MARKET                                                        38822\n",
       "VOLUME                                                1768306984.28\n",
       "TRADE_QTY                                                1196209374\n",
       "NO_OF_TRADES                                                 786060\n",
       "HIGH                                                        48007.4\n",
       "BEST_ASK_PRICE                                             45401.16\n",
       "BEST_ASK_QTY                                            554637272.0\n",
       "BEST_BID_PRICE                                             59201.16\n",
       "BEST_BID_QTY                                            686949820.0\n",
       "dtype: object"
      ]
     },
     "execution_count": 57,
     "metadata": {},
     "output_type": "execute_result"
    }
   ],
   "source": [
    "# Calculate marginal totals for each variable\n",
    "marginal_totals_High = df_High[['SYMBOL1','MARKET', 'VOLUME', 'TRADE_QTY', 'NO_OF_TRADES', 'HIGH', 'BEST_ASK_PRICE', 'BEST_ASK_QTY', 'BEST_BID_PRICE', 'BEST_BID_QTY']].sum()\n",
    "marginal_totals_High"
   ]
  },
  {
   "cell_type": "code",
   "execution_count": 58,
   "metadata": {},
   "outputs": [
    {
     "data": {
      "text/plain": [
       "SYMBOL1           JOIBJOKBJCBKTHBKSIBKUBSIABCOINVBCAPLCABKBOJXBA...\n",
       "MARKET                                                        38822\n",
       "VOLUME                                                1768306984.28\n",
       "TRADE_QTY                                                1196209374\n",
       "NO_OF_TRADES                                                 786060\n",
       "LOW                                                        47060.77\n",
       "BEST_ASK_PRICE                                             45401.16\n",
       "BEST_ASK_QTY                                            554637272.0\n",
       "BEST_BID_PRICE                                             59201.16\n",
       "BEST_BID_QTY                                            686949820.0\n",
       "dtype: object"
      ]
     },
     "execution_count": 58,
     "metadata": {},
     "output_type": "execute_result"
    }
   ],
   "source": [
    "marginal_totals_Low = df_Low[['SYMBOL1','MARKET', 'VOLUME', 'TRADE_QTY', 'NO_OF_TRADES', 'LOW', 'BEST_ASK_PRICE', 'BEST_ASK_QTY', 'BEST_BID_PRICE', 'BEST_BID_QTY']].sum()\n",
    "marginal_totals_Low"
   ]
  },
  {
   "cell_type": "code",
   "execution_count": 59,
   "metadata": {
    "colab": {
     "base_uri": "https://localhost:8080/",
     "height": 424
    },
    "id": "W4z5xJvn1Jrq",
    "outputId": "70c15b88-b91b-420d-87b6-63303197bab7"
   },
   "outputs": [
    {
     "data": {
      "text/html": [
       "<div>\n",
       "<style scoped>\n",
       "    .dataframe tbody tr th:only-of-type {\n",
       "        vertical-align: middle;\n",
       "    }\n",
       "\n",
       "    .dataframe tbody tr th {\n",
       "        vertical-align: top;\n",
       "    }\n",
       "\n",
       "    .dataframe thead th {\n",
       "        text-align: right;\n",
       "    }\n",
       "</style>\n",
       "<table border=\"1\" class=\"dataframe\">\n",
       "  <thead>\n",
       "    <tr style=\"text-align: right;\">\n",
       "      <th></th>\n",
       "      <th>MARKET</th>\n",
       "      <th>VOLUME</th>\n",
       "      <th>TRADE_QTY</th>\n",
       "      <th>NO_OF_TRADES</th>\n",
       "      <th>HIGH</th>\n",
       "      <th>BEST_ASK_PRICE</th>\n",
       "      <th>BEST_ASK_QTY</th>\n",
       "      <th>BEST_BID_PRICE</th>\n",
       "      <th>BEST_BID_QTY</th>\n",
       "    </tr>\n",
       "  </thead>\n",
       "  <tbody>\n",
       "    <tr>\n",
       "      <th>0.00</th>\n",
       "      <td>16.310867</td>\n",
       "      <td>NaN</td>\n",
       "      <td>NaN</td>\n",
       "      <td>NaN</td>\n",
       "      <td>NaN</td>\n",
       "      <td>NaN</td>\n",
       "      <td>0.453377</td>\n",
       "      <td>NaN</td>\n",
       "      <td>1.842068</td>\n",
       "    </tr>\n",
       "    <tr>\n",
       "      <th>0.02</th>\n",
       "      <td>NaN</td>\n",
       "      <td>0.00714</td>\n",
       "      <td>NaN</td>\n",
       "      <td>NaN</td>\n",
       "      <td>0.217764</td>\n",
       "      <td>NaN</td>\n",
       "      <td>NaN</td>\n",
       "      <td>NaN</td>\n",
       "      <td>NaN</td>\n",
       "    </tr>\n",
       "    <tr>\n",
       "      <th>0.03</th>\n",
       "      <td>NaN</td>\n",
       "      <td>0.00714</td>\n",
       "      <td>NaN</td>\n",
       "      <td>NaN</td>\n",
       "      <td>0.435528</td>\n",
       "      <td>NaN</td>\n",
       "      <td>NaN</td>\n",
       "      <td>NaN</td>\n",
       "      <td>NaN</td>\n",
       "    </tr>\n",
       "    <tr>\n",
       "      <th>0.04</th>\n",
       "      <td>NaN</td>\n",
       "      <td>0.01428</td>\n",
       "      <td>NaN</td>\n",
       "      <td>NaN</td>\n",
       "      <td>0.835356</td>\n",
       "      <td>NaN</td>\n",
       "      <td>NaN</td>\n",
       "      <td>NaN</td>\n",
       "      <td>NaN</td>\n",
       "    </tr>\n",
       "    <tr>\n",
       "      <th>0.05</th>\n",
       "      <td>NaN</td>\n",
       "      <td>NaN</td>\n",
       "      <td>NaN</td>\n",
       "      <td>NaN</td>\n",
       "      <td>0.189205</td>\n",
       "      <td>NaN</td>\n",
       "      <td>NaN</td>\n",
       "      <td>NaN</td>\n",
       "      <td>NaN</td>\n",
       "    </tr>\n",
       "    <tr>\n",
       "      <th>...</th>\n",
       "      <td>...</td>\n",
       "      <td>...</td>\n",
       "      <td>...</td>\n",
       "      <td>...</td>\n",
       "      <td>...</td>\n",
       "      <td>...</td>\n",
       "      <td>...</td>\n",
       "      <td>...</td>\n",
       "      <td>...</td>\n",
       "    </tr>\n",
       "    <tr>\n",
       "      <th>7333132.22</th>\n",
       "      <td>NaN</td>\n",
       "      <td>0.00357</td>\n",
       "      <td>NaN</td>\n",
       "      <td>NaN</td>\n",
       "      <td>NaN</td>\n",
       "      <td>NaN</td>\n",
       "      <td>NaN</td>\n",
       "      <td>NaN</td>\n",
       "      <td>NaN</td>\n",
       "    </tr>\n",
       "    <tr>\n",
       "      <th>7795035.95</th>\n",
       "      <td>NaN</td>\n",
       "      <td>0.00357</td>\n",
       "      <td>NaN</td>\n",
       "      <td>NaN</td>\n",
       "      <td>NaN</td>\n",
       "      <td>NaN</td>\n",
       "      <td>NaN</td>\n",
       "      <td>NaN</td>\n",
       "      <td>NaN</td>\n",
       "    </tr>\n",
       "    <tr>\n",
       "      <th>8438649.83</th>\n",
       "      <td>NaN</td>\n",
       "      <td>0.00357</td>\n",
       "      <td>NaN</td>\n",
       "      <td>NaN</td>\n",
       "      <td>NaN</td>\n",
       "      <td>NaN</td>\n",
       "      <td>NaN</td>\n",
       "      <td>NaN</td>\n",
       "      <td>NaN</td>\n",
       "    </tr>\n",
       "    <tr>\n",
       "      <th>8733137.45</th>\n",
       "      <td>NaN</td>\n",
       "      <td>0.00357</td>\n",
       "      <td>NaN</td>\n",
       "      <td>NaN</td>\n",
       "      <td>NaN</td>\n",
       "      <td>NaN</td>\n",
       "      <td>NaN</td>\n",
       "      <td>NaN</td>\n",
       "      <td>NaN</td>\n",
       "    </tr>\n",
       "    <tr>\n",
       "      <th>8868824.37</th>\n",
       "      <td>NaN</td>\n",
       "      <td>0.00357</td>\n",
       "      <td>NaN</td>\n",
       "      <td>NaN</td>\n",
       "      <td>NaN</td>\n",
       "      <td>NaN</td>\n",
       "      <td>NaN</td>\n",
       "      <td>NaN</td>\n",
       "      <td>NaN</td>\n",
       "    </tr>\n",
       "  </tbody>\n",
       "</table>\n",
       "<p>51062 rows × 9 columns</p>\n",
       "</div>"
      ],
      "text/plain": [
       "               MARKET   VOLUME  TRADE_QTY  NO_OF_TRADES      HIGH  \\\n",
       "0.00        16.310867      NaN        NaN           NaN       NaN   \n",
       "0.02              NaN  0.00714        NaN           NaN  0.217764   \n",
       "0.03              NaN  0.00714        NaN           NaN  0.435528   \n",
       "0.04              NaN  0.01428        NaN           NaN  0.835356   \n",
       "0.05              NaN      NaN        NaN           NaN  0.189205   \n",
       "...               ...      ...        ...           ...       ...   \n",
       "7333132.22        NaN  0.00357        NaN           NaN       NaN   \n",
       "7795035.95        NaN  0.00357        NaN           NaN       NaN   \n",
       "8438649.83        NaN  0.00357        NaN           NaN       NaN   \n",
       "8733137.45        NaN  0.00357        NaN           NaN       NaN   \n",
       "8868824.37        NaN  0.00357        NaN           NaN       NaN   \n",
       "\n",
       "            BEST_ASK_PRICE  BEST_ASK_QTY  BEST_BID_PRICE  BEST_BID_QTY  \n",
       "0.00                   NaN      0.453377             NaN      1.842068  \n",
       "0.02                   NaN           NaN             NaN           NaN  \n",
       "0.03                   NaN           NaN             NaN           NaN  \n",
       "0.04                   NaN           NaN             NaN           NaN  \n",
       "0.05                   NaN           NaN             NaN           NaN  \n",
       "...                    ...           ...             ...           ...  \n",
       "7333132.22             NaN           NaN             NaN           NaN  \n",
       "7795035.95             NaN           NaN             NaN           NaN  \n",
       "8438649.83             NaN           NaN             NaN           NaN  \n",
       "8733137.45             NaN           NaN             NaN           NaN  \n",
       "8868824.37             NaN           NaN             NaN           NaN  \n",
       "\n",
       "[51062 rows x 9 columns]"
      ]
     },
     "execution_count": 59,
     "metadata": {},
     "output_type": "execute_result"
    }
   ],
   "source": [
    "# Calculate row percentages\n",
    "row_percentages = df_High[['MARKET', 'VOLUME', 'TRADE_QTY', 'NO_OF_TRADES', 'HIGH', 'BEST_ASK_PRICE', 'BEST_ASK_QTY', 'BEST_BID_PRICE', 'BEST_BID_QTY']].apply(lambda x: x.value_counts(normalize=True) * 100)\n",
    "row_percentages"
   ]
  },
  {
   "cell_type": "code",
   "execution_count": 60,
   "metadata": {
    "colab": {
     "base_uri": "https://localhost:8080/",
     "height": 424
    },
    "id": "6p1GJzk73Kuy",
    "outputId": "755efd1e-e70e-4249-c11f-17c3872cc538"
   },
   "outputs": [
    {
     "data": {
      "text/html": [
       "<div>\n",
       "<style scoped>\n",
       "    .dataframe tbody tr th:only-of-type {\n",
       "        vertical-align: middle;\n",
       "    }\n",
       "\n",
       "    .dataframe tbody tr th {\n",
       "        vertical-align: top;\n",
       "    }\n",
       "\n",
       "    .dataframe thead th {\n",
       "        text-align: right;\n",
       "    }\n",
       "</style>\n",
       "<table border=\"1\" class=\"dataframe\">\n",
       "  <thead>\n",
       "    <tr style=\"text-align: right;\">\n",
       "      <th></th>\n",
       "      <th>MARKET</th>\n",
       "      <th>VOLUME</th>\n",
       "      <th>TRADE_QTY</th>\n",
       "      <th>NO_OF_TRADES</th>\n",
       "      <th>LOW</th>\n",
       "      <th>BEST_ASK_PRICE</th>\n",
       "      <th>BEST_ASK_QTY</th>\n",
       "      <th>BEST_BID_PRICE</th>\n",
       "      <th>BEST_BID_QTY</th>\n",
       "    </tr>\n",
       "  </thead>\n",
       "  <tbody>\n",
       "    <tr>\n",
       "      <th>0.00</th>\n",
       "      <td>16.310867</td>\n",
       "      <td>NaN</td>\n",
       "      <td>NaN</td>\n",
       "      <td>NaN</td>\n",
       "      <td>NaN</td>\n",
       "      <td>NaN</td>\n",
       "      <td>0.453377</td>\n",
       "      <td>NaN</td>\n",
       "      <td>1.842068</td>\n",
       "    </tr>\n",
       "    <tr>\n",
       "      <th>0.01</th>\n",
       "      <td>NaN</td>\n",
       "      <td>NaN</td>\n",
       "      <td>NaN</td>\n",
       "      <td>NaN</td>\n",
       "      <td>0.028559</td>\n",
       "      <td>NaN</td>\n",
       "      <td>NaN</td>\n",
       "      <td>NaN</td>\n",
       "      <td>NaN</td>\n",
       "    </tr>\n",
       "    <tr>\n",
       "      <th>0.02</th>\n",
       "      <td>NaN</td>\n",
       "      <td>0.00714</td>\n",
       "      <td>NaN</td>\n",
       "      <td>NaN</td>\n",
       "      <td>0.456947</td>\n",
       "      <td>NaN</td>\n",
       "      <td>NaN</td>\n",
       "      <td>NaN</td>\n",
       "      <td>NaN</td>\n",
       "    </tr>\n",
       "    <tr>\n",
       "      <th>0.03</th>\n",
       "      <td>NaN</td>\n",
       "      <td>0.00714</td>\n",
       "      <td>NaN</td>\n",
       "      <td>NaN</td>\n",
       "      <td>0.510496</td>\n",
       "      <td>NaN</td>\n",
       "      <td>NaN</td>\n",
       "      <td>NaN</td>\n",
       "      <td>NaN</td>\n",
       "    </tr>\n",
       "    <tr>\n",
       "      <th>0.04</th>\n",
       "      <td>NaN</td>\n",
       "      <td>0.01428</td>\n",
       "      <td>NaN</td>\n",
       "      <td>NaN</td>\n",
       "      <td>0.614023</td>\n",
       "      <td>NaN</td>\n",
       "      <td>NaN</td>\n",
       "      <td>NaN</td>\n",
       "      <td>NaN</td>\n",
       "    </tr>\n",
       "    <tr>\n",
       "      <th>...</th>\n",
       "      <td>...</td>\n",
       "      <td>...</td>\n",
       "      <td>...</td>\n",
       "      <td>...</td>\n",
       "      <td>...</td>\n",
       "      <td>...</td>\n",
       "      <td>...</td>\n",
       "      <td>...</td>\n",
       "      <td>...</td>\n",
       "    </tr>\n",
       "    <tr>\n",
       "      <th>7333132.22</th>\n",
       "      <td>NaN</td>\n",
       "      <td>0.00357</td>\n",
       "      <td>NaN</td>\n",
       "      <td>NaN</td>\n",
       "      <td>NaN</td>\n",
       "      <td>NaN</td>\n",
       "      <td>NaN</td>\n",
       "      <td>NaN</td>\n",
       "      <td>NaN</td>\n",
       "    </tr>\n",
       "    <tr>\n",
       "      <th>7795035.95</th>\n",
       "      <td>NaN</td>\n",
       "      <td>0.00357</td>\n",
       "      <td>NaN</td>\n",
       "      <td>NaN</td>\n",
       "      <td>NaN</td>\n",
       "      <td>NaN</td>\n",
       "      <td>NaN</td>\n",
       "      <td>NaN</td>\n",
       "      <td>NaN</td>\n",
       "    </tr>\n",
       "    <tr>\n",
       "      <th>8438649.83</th>\n",
       "      <td>NaN</td>\n",
       "      <td>0.00357</td>\n",
       "      <td>NaN</td>\n",
       "      <td>NaN</td>\n",
       "      <td>NaN</td>\n",
       "      <td>NaN</td>\n",
       "      <td>NaN</td>\n",
       "      <td>NaN</td>\n",
       "      <td>NaN</td>\n",
       "    </tr>\n",
       "    <tr>\n",
       "      <th>8733137.45</th>\n",
       "      <td>NaN</td>\n",
       "      <td>0.00357</td>\n",
       "      <td>NaN</td>\n",
       "      <td>NaN</td>\n",
       "      <td>NaN</td>\n",
       "      <td>NaN</td>\n",
       "      <td>NaN</td>\n",
       "      <td>NaN</td>\n",
       "      <td>NaN</td>\n",
       "    </tr>\n",
       "    <tr>\n",
       "      <th>8868824.37</th>\n",
       "      <td>NaN</td>\n",
       "      <td>0.00357</td>\n",
       "      <td>NaN</td>\n",
       "      <td>NaN</td>\n",
       "      <td>NaN</td>\n",
       "      <td>NaN</td>\n",
       "      <td>NaN</td>\n",
       "      <td>NaN</td>\n",
       "      <td>NaN</td>\n",
       "    </tr>\n",
       "  </tbody>\n",
       "</table>\n",
       "<p>51042 rows × 9 columns</p>\n",
       "</div>"
      ],
      "text/plain": [
       "               MARKET   VOLUME  TRADE_QTY  NO_OF_TRADES       LOW  \\\n",
       "0.00        16.310867      NaN        NaN           NaN       NaN   \n",
       "0.01              NaN      NaN        NaN           NaN  0.028559   \n",
       "0.02              NaN  0.00714        NaN           NaN  0.456947   \n",
       "0.03              NaN  0.00714        NaN           NaN  0.510496   \n",
       "0.04              NaN  0.01428        NaN           NaN  0.614023   \n",
       "...               ...      ...        ...           ...       ...   \n",
       "7333132.22        NaN  0.00357        NaN           NaN       NaN   \n",
       "7795035.95        NaN  0.00357        NaN           NaN       NaN   \n",
       "8438649.83        NaN  0.00357        NaN           NaN       NaN   \n",
       "8733137.45        NaN  0.00357        NaN           NaN       NaN   \n",
       "8868824.37        NaN  0.00357        NaN           NaN       NaN   \n",
       "\n",
       "            BEST_ASK_PRICE  BEST_ASK_QTY  BEST_BID_PRICE  BEST_BID_QTY  \n",
       "0.00                   NaN      0.453377             NaN      1.842068  \n",
       "0.01                   NaN           NaN             NaN           NaN  \n",
       "0.02                   NaN           NaN             NaN           NaN  \n",
       "0.03                   NaN           NaN             NaN           NaN  \n",
       "0.04                   NaN           NaN             NaN           NaN  \n",
       "...                    ...           ...             ...           ...  \n",
       "7333132.22             NaN           NaN             NaN           NaN  \n",
       "7795035.95             NaN           NaN             NaN           NaN  \n",
       "8438649.83             NaN           NaN             NaN           NaN  \n",
       "8733137.45             NaN           NaN             NaN           NaN  \n",
       "8868824.37             NaN           NaN             NaN           NaN  \n",
       "\n",
       "[51042 rows x 9 columns]"
      ]
     },
     "execution_count": 60,
     "metadata": {},
     "output_type": "execute_result"
    }
   ],
   "source": [
    "# Calculate column percentages\n",
    "column_percentages = df_Low[['MARKET', 'VOLUME', 'TRADE_QTY', 'NO_OF_TRADES', 'LOW', 'BEST_ASK_PRICE', 'BEST_ASK_QTY', 'BEST_BID_PRICE', 'BEST_BID_QTY']].apply(lambda x: x.groupby(x).count() / len(df_Low) * 100)\n",
    "column_percentages"
   ]
  },
  {
   "cell_type": "code",
   "execution_count": 61,
   "metadata": {
    "colab": {
     "base_uri": "https://localhost:8080/"
    },
    "id": "3rJrxtZt3q5k",
    "outputId": "10a6c46d-0f8d-440a-989b-cc866d9d21a0"
   },
   "outputs": [
    {
     "name": "stdout",
     "output_type": "stream",
     "text": [
      "Average Satisfaction Rating: 16687.613808367845\n"
     ]
    }
   ],
   "source": [
    "# Calculate average satisfaction rating\n",
    "average_satisfaction = df_High[['MARKET', 'VOLUME', 'TRADE_QTY', 'NO_OF_TRADES', 'HIGH', 'BEST_ASK_PRICE', 'BEST_ASK_QTY', 'BEST_BID_PRICE', 'BEST_BID_QTY']].mean().mean()\n",
    "print(\"Average Satisfaction Rating:\", average_satisfaction)"
   ]
  },
  {
   "cell_type": "markdown",
   "metadata": {
    "id": "jD0hGVEs4bD2"
   },
   "source": [
    "# 2. Apply Python programming language to demonstrate these predictive analytic techniques by applying the following:"
   ]
  },
  {
   "cell_type": "markdown",
   "metadata": {
    "id": "H2gOUkK842ho"
   },
   "source": [
    "### a. Apply a feature selection technique to find the best features that help the model achieve the best stock price prediction."
   ]
  },
  {
   "cell_type": "markdown",
   "metadata": {
    "id": "b2YwKuDFZCkz"
   },
   "source": [
    "### Removing features with low variance method (HIGH)"
   ]
  },
  {
   "cell_type": "code",
   "execution_count": 62,
   "metadata": {},
   "outputs": [
    {
     "data": {
      "text/html": [
       "<div>\n",
       "<style scoped>\n",
       "    .dataframe tbody tr th:only-of-type {\n",
       "        vertical-align: middle;\n",
       "    }\n",
       "\n",
       "    .dataframe tbody tr th {\n",
       "        vertical-align: top;\n",
       "    }\n",
       "\n",
       "    .dataframe thead th {\n",
       "        text-align: right;\n",
       "    }\n",
       "</style>\n",
       "<table border=\"1\" class=\"dataframe\">\n",
       "  <thead>\n",
       "    <tr style=\"text-align: right;\">\n",
       "      <th></th>\n",
       "      <th>TRADE_DATE</th>\n",
       "      <th>SYMBOL1</th>\n",
       "      <th>MARKET</th>\n",
       "      <th>VOLUME</th>\n",
       "      <th>TRADE_QTY</th>\n",
       "      <th>NO_OF_TRADES</th>\n",
       "      <th>HIGH</th>\n",
       "      <th>BEST_ASK_PRICE</th>\n",
       "      <th>BEST_ASK_QTY</th>\n",
       "      <th>BEST_BID_PRICE</th>\n",
       "      <th>BEST_BID_QTY</th>\n",
       "      <th>z-scoreBBQ</th>\n",
       "      <th>z_score</th>\n",
       "    </tr>\n",
       "  </thead>\n",
       "  <tbody>\n",
       "    <tr>\n",
       "      <th>0</th>\n",
       "      <td>2022-01-02</td>\n",
       "      <td>JOIB</td>\n",
       "      <td>1</td>\n",
       "      <td>199083.73</td>\n",
       "      <td>54378</td>\n",
       "      <td>73</td>\n",
       "      <td>3.67</td>\n",
       "      <td>2.65</td>\n",
       "      <td>585.0</td>\n",
       "      <td>3.13</td>\n",
       "      <td>2000.0</td>\n",
       "      <td>-0.223406</td>\n",
       "      <td>-0.514212</td>\n",
       "    </tr>\n",
       "    <tr>\n",
       "      <th>1</th>\n",
       "      <td>2022-01-02</td>\n",
       "      <td>JOKB</td>\n",
       "      <td>1</td>\n",
       "      <td>12707.76</td>\n",
       "      <td>9009</td>\n",
       "      <td>17</td>\n",
       "      <td>1.42</td>\n",
       "      <td>1.36</td>\n",
       "      <td>493.0</td>\n",
       "      <td>1.86</td>\n",
       "      <td>1570.0</td>\n",
       "      <td>-0.227671</td>\n",
       "      <td>-0.514212</td>\n",
       "    </tr>\n",
       "    <tr>\n",
       "      <th>2</th>\n",
       "      <td>2022-01-02</td>\n",
       "      <td>JCBK</td>\n",
       "      <td>2</td>\n",
       "      <td>727.41</td>\n",
       "      <td>726</td>\n",
       "      <td>7</td>\n",
       "      <td>1.03</td>\n",
       "      <td>1.14</td>\n",
       "      <td>1853.0</td>\n",
       "      <td>1.64</td>\n",
       "      <td>1000.0</td>\n",
       "      <td>-0.233325</td>\n",
       "      <td>0.818268</td>\n",
       "    </tr>\n",
       "    <tr>\n",
       "      <th>3</th>\n",
       "      <td>2022-01-02</td>\n",
       "      <td>THBK</td>\n",
       "      <td>1</td>\n",
       "      <td>1558.10</td>\n",
       "      <td>394</td>\n",
       "      <td>5</td>\n",
       "      <td>3.97</td>\n",
       "      <td>1.09</td>\n",
       "      <td>660.0</td>\n",
       "      <td>1.59</td>\n",
       "      <td>46.0</td>\n",
       "      <td>-0.242787</td>\n",
       "      <td>-0.514212</td>\n",
       "    </tr>\n",
       "    <tr>\n",
       "      <th>4</th>\n",
       "      <td>2022-01-02</td>\n",
       "      <td>SIBK</td>\n",
       "      <td>1</td>\n",
       "      <td>29030.98</td>\n",
       "      <td>14867</td>\n",
       "      <td>11</td>\n",
       "      <td>1.98</td>\n",
       "      <td>1.23</td>\n",
       "      <td>1000.0</td>\n",
       "      <td>1.73</td>\n",
       "      <td>333.0</td>\n",
       "      <td>-0.239941</td>\n",
       "      <td>-0.514212</td>\n",
       "    </tr>\n",
       "  </tbody>\n",
       "</table>\n",
       "</div>"
      ],
      "text/plain": [
       "  TRADE_DATE SYMBOL1  MARKET     VOLUME  TRADE_QTY  NO_OF_TRADES  HIGH  \\\n",
       "0 2022-01-02    JOIB       1  199083.73      54378            73  3.67   \n",
       "1 2022-01-02    JOKB       1   12707.76       9009            17  1.42   \n",
       "2 2022-01-02    JCBK       2     727.41        726             7  1.03   \n",
       "3 2022-01-02    THBK       1    1558.10        394             5  3.97   \n",
       "4 2022-01-02    SIBK       1   29030.98      14867            11  1.98   \n",
       "\n",
       "   BEST_ASK_PRICE  BEST_ASK_QTY  BEST_BID_PRICE  BEST_BID_QTY  z-scoreBBQ  \\\n",
       "0            2.65         585.0            3.13        2000.0   -0.223406   \n",
       "1            1.36         493.0            1.86        1570.0   -0.227671   \n",
       "2            1.14        1853.0            1.64        1000.0   -0.233325   \n",
       "3            1.09         660.0            1.59          46.0   -0.242787   \n",
       "4            1.23        1000.0            1.73         333.0   -0.239941   \n",
       "\n",
       "    z_score  \n",
       "0 -0.514212  \n",
       "1 -0.514212  \n",
       "2  0.818268  \n",
       "3 -0.514212  \n",
       "4 -0.514212  "
      ]
     },
     "execution_count": 62,
     "metadata": {},
     "output_type": "execute_result"
    }
   ],
   "source": [
    "df_High.head()"
   ]
  },
  {
   "cell_type": "code",
   "execution_count": 63,
   "metadata": {
    "id": "DbO8YlNdD2P5"
   },
   "outputs": [],
   "source": [
    "feature_vector1=df_High.drop([\"HIGH\",\"TRADE_DATE\",\"z-scoreBBQ\",\"z_score\",\"SYMBOL1\"], axis=1)\n",
    "target_vector1=df_High[\"HIGH\"]"
   ]
  },
  {
   "cell_type": "code",
   "execution_count": 64,
   "metadata": {},
   "outputs": [],
   "source": [
    "from sklearn.feature_selection import VarianceThreshold\n",
    "from sklearn.model_selection import train_test_split"
   ]
  },
  {
   "cell_type": "code",
   "execution_count": 109,
   "metadata": {
    "id": "E14AlrLDEjIr"
   },
   "outputs": [],
   "source": [
    "X_train1, X_test1, y_train1, y_test1 = train_test_split(feature_vector1, target_vector1, test_size=0.4, random_state=0)"
   ]
  },
  {
   "cell_type": "code",
   "execution_count": 110,
   "metadata": {
    "colab": {
     "base_uri": "https://localhost:8080/",
     "height": 0
    },
    "id": "UWBFDZ46Eu_1",
    "outputId": "743681c6-6ce9-4464-d616-e6a1a58f7c0e"
   },
   "outputs": [
    {
     "data": {
      "text/html": [
       "<style>#sk-container-id-3 {color: black;background-color: white;}#sk-container-id-3 pre{padding: 0;}#sk-container-id-3 div.sk-toggleable {background-color: white;}#sk-container-id-3 label.sk-toggleable__label {cursor: pointer;display: block;width: 100%;margin-bottom: 0;padding: 0.3em;box-sizing: border-box;text-align: center;}#sk-container-id-3 label.sk-toggleable__label-arrow:before {content: \"▸\";float: left;margin-right: 0.25em;color: #696969;}#sk-container-id-3 label.sk-toggleable__label-arrow:hover:before {color: black;}#sk-container-id-3 div.sk-estimator:hover label.sk-toggleable__label-arrow:before {color: black;}#sk-container-id-3 div.sk-toggleable__content {max-height: 0;max-width: 0;overflow: hidden;text-align: left;background-color: #f0f8ff;}#sk-container-id-3 div.sk-toggleable__content pre {margin: 0.2em;color: black;border-radius: 0.25em;background-color: #f0f8ff;}#sk-container-id-3 input.sk-toggleable__control:checked~div.sk-toggleable__content {max-height: 200px;max-width: 100%;overflow: auto;}#sk-container-id-3 input.sk-toggleable__control:checked~label.sk-toggleable__label-arrow:before {content: \"▾\";}#sk-container-id-3 div.sk-estimator input.sk-toggleable__control:checked~label.sk-toggleable__label {background-color: #d4ebff;}#sk-container-id-3 div.sk-label input.sk-toggleable__control:checked~label.sk-toggleable__label {background-color: #d4ebff;}#sk-container-id-3 input.sk-hidden--visually {border: 0;clip: rect(1px 1px 1px 1px);clip: rect(1px, 1px, 1px, 1px);height: 1px;margin: -1px;overflow: hidden;padding: 0;position: absolute;width: 1px;}#sk-container-id-3 div.sk-estimator {font-family: monospace;background-color: #f0f8ff;border: 1px dotted black;border-radius: 0.25em;box-sizing: border-box;margin-bottom: 0.5em;}#sk-container-id-3 div.sk-estimator:hover {background-color: #d4ebff;}#sk-container-id-3 div.sk-parallel-item::after {content: \"\";width: 100%;border-bottom: 1px solid gray;flex-grow: 1;}#sk-container-id-3 div.sk-label:hover label.sk-toggleable__label {background-color: #d4ebff;}#sk-container-id-3 div.sk-serial::before {content: \"\";position: absolute;border-left: 1px solid gray;box-sizing: border-box;top: 0;bottom: 0;left: 50%;z-index: 0;}#sk-container-id-3 div.sk-serial {display: flex;flex-direction: column;align-items: center;background-color: white;padding-right: 0.2em;padding-left: 0.2em;position: relative;}#sk-container-id-3 div.sk-item {position: relative;z-index: 1;}#sk-container-id-3 div.sk-parallel {display: flex;align-items: stretch;justify-content: center;background-color: white;position: relative;}#sk-container-id-3 div.sk-item::before, #sk-container-id-3 div.sk-parallel-item::before {content: \"\";position: absolute;border-left: 1px solid gray;box-sizing: border-box;top: 0;bottom: 0;left: 50%;z-index: -1;}#sk-container-id-3 div.sk-parallel-item {display: flex;flex-direction: column;z-index: 1;position: relative;background-color: white;}#sk-container-id-3 div.sk-parallel-item:first-child::after {align-self: flex-end;width: 50%;}#sk-container-id-3 div.sk-parallel-item:last-child::after {align-self: flex-start;width: 50%;}#sk-container-id-3 div.sk-parallel-item:only-child::after {width: 0;}#sk-container-id-3 div.sk-dashed-wrapped {border: 1px dashed gray;margin: 0 0.4em 0.5em 0.4em;box-sizing: border-box;padding-bottom: 0.4em;background-color: white;}#sk-container-id-3 div.sk-label label {font-family: monospace;font-weight: bold;display: inline-block;line-height: 1.2em;}#sk-container-id-3 div.sk-label-container {text-align: center;}#sk-container-id-3 div.sk-container {/* jupyter's `normalize.less` sets `[hidden] { display: none; }` but bootstrap.min.css set `[hidden] { display: none !important; }` so we also need the `!important` here to be able to override the default hidden behavior on the sphinx rendered scikit-learn.org. See: https://github.com/scikit-learn/scikit-learn/issues/21755 */display: inline-block !important;position: relative;}#sk-container-id-3 div.sk-text-repr-fallback {display: none;}</style><div id=\"sk-container-id-3\" class=\"sk-top-container\"><div class=\"sk-text-repr-fallback\"><pre>LinearRegression()</pre><b>In a Jupyter environment, please rerun this cell to show the HTML representation or trust the notebook. <br />On GitHub, the HTML representation is unable to render, please try loading this page with nbviewer.org.</b></div><div class=\"sk-container\" hidden><div class=\"sk-item\"><div class=\"sk-estimator sk-toggleable\"><input class=\"sk-toggleable__control sk-hidden--visually\" id=\"sk-estimator-id-3\" type=\"checkbox\" checked><label for=\"sk-estimator-id-3\" class=\"sk-toggleable__label sk-toggleable__label-arrow\">LinearRegression</label><div class=\"sk-toggleable__content\"><pre>LinearRegression()</pre></div></div></div></div></div>"
      ],
      "text/plain": [
       "LinearRegression()"
      ]
     },
     "execution_count": 110,
     "metadata": {},
     "output_type": "execute_result"
    }
   ],
   "source": [
    "from sklearn.linear_model import LinearRegression\n",
    "regressor1 = LinearRegression()\n",
    "regressor1.fit(X_train1, y_train1)"
   ]
  },
  {
   "cell_type": "code",
   "execution_count": 111,
   "metadata": {
    "colab": {
     "base_uri": "https://localhost:8080/"
    },
    "id": "7TKgfKuUFK_U",
    "outputId": "43421692-bab7-4f47-af18-fc5242667720"
   },
   "outputs": [
    {
     "data": {
      "text/plain": [
       "array([1.74873227, 0.79632955, 2.05102389, ..., 1.29774309, 2.5997059 ,\n",
       "       1.62457352])"
      ]
     },
     "execution_count": 111,
     "metadata": {},
     "output_type": "execute_result"
    }
   ],
   "source": [
    "y_pred1 = regressor1.predict(X_test1)\n",
    "y_pred1"
   ]
  },
  {
   "cell_type": "code",
   "execution_count": 112,
   "metadata": {
    "colab": {
     "base_uri": "https://localhost:8080/",
     "height": 0
    },
    "id": "7RmDFNBVI2KK",
    "outputId": "0586fda2-39b1-4fa3-f349-9322121b31d1"
   },
   "outputs": [
    {
     "data": {
      "text/html": [
       "<div>\n",
       "<style scoped>\n",
       "    .dataframe tbody tr th:only-of-type {\n",
       "        vertical-align: middle;\n",
       "    }\n",
       "\n",
       "    .dataframe tbody tr th {\n",
       "        vertical-align: top;\n",
       "    }\n",
       "\n",
       "    .dataframe thead th {\n",
       "        text-align: right;\n",
       "    }\n",
       "</style>\n",
       "<table border=\"1\" class=\"dataframe\">\n",
       "  <thead>\n",
       "    <tr style=\"text-align: right;\">\n",
       "      <th></th>\n",
       "      <th>Actual</th>\n",
       "      <th>Predicted</th>\n",
       "    </tr>\n",
       "  </thead>\n",
       "  <tbody>\n",
       "    <tr>\n",
       "      <th>17783</th>\n",
       "      <td>0.47</td>\n",
       "      <td>1.748732</td>\n",
       "    </tr>\n",
       "    <tr>\n",
       "      <th>25579</th>\n",
       "      <td>0.15</td>\n",
       "      <td>0.796330</td>\n",
       "    </tr>\n",
       "    <tr>\n",
       "      <th>13639</th>\n",
       "      <td>1.28</td>\n",
       "      <td>2.051024</td>\n",
       "    </tr>\n",
       "    <tr>\n",
       "      <th>1885</th>\n",
       "      <td>1.15</td>\n",
       "      <td>2.154627</td>\n",
       "    </tr>\n",
       "    <tr>\n",
       "      <th>15132</th>\n",
       "      <td>2.11</td>\n",
       "      <td>1.416963</td>\n",
       "    </tr>\n",
       "    <tr>\n",
       "      <th>...</th>\n",
       "      <td>...</td>\n",
       "      <td>...</td>\n",
       "    </tr>\n",
       "    <tr>\n",
       "      <th>24890</th>\n",
       "      <td>0.17</td>\n",
       "      <td>-0.611531</td>\n",
       "    </tr>\n",
       "    <tr>\n",
       "      <th>19349</th>\n",
       "      <td>2.89</td>\n",
       "      <td>2.066004</td>\n",
       "    </tr>\n",
       "    <tr>\n",
       "      <th>4234</th>\n",
       "      <td>1.00</td>\n",
       "      <td>1.297743</td>\n",
       "    </tr>\n",
       "    <tr>\n",
       "      <th>17219</th>\n",
       "      <td>0.20</td>\n",
       "      <td>2.599706</td>\n",
       "    </tr>\n",
       "    <tr>\n",
       "      <th>13498</th>\n",
       "      <td>0.04</td>\n",
       "      <td>1.624574</td>\n",
       "    </tr>\n",
       "  </tbody>\n",
       "</table>\n",
       "<p>11205 rows × 2 columns</p>\n",
       "</div>"
      ],
      "text/plain": [
       "       Actual  Predicted\n",
       "17783    0.47   1.748732\n",
       "25579    0.15   0.796330\n",
       "13639    1.28   2.051024\n",
       "1885     1.15   2.154627\n",
       "15132    2.11   1.416963\n",
       "...       ...        ...\n",
       "24890    0.17  -0.611531\n",
       "19349    2.89   2.066004\n",
       "4234     1.00   1.297743\n",
       "17219    0.20   2.599706\n",
       "13498    0.04   1.624574\n",
       "\n",
       "[11205 rows x 2 columns]"
      ]
     },
     "execution_count": 112,
     "metadata": {},
     "output_type": "execute_result"
    }
   ],
   "source": [
    "df1 = pd.DataFrame({'Actual': y_test1, 'Predicted': y_pred1})\n",
    "df1"
   ]
  },
  {
   "cell_type": "code",
   "execution_count": 113,
   "metadata": {
    "colab": {
     "base_uri": "https://localhost:8080/"
    },
    "id": "sj2I55tyFQB4",
    "outputId": "4e84a61c-3908-42c8-dc75-976331a25974"
   },
   "outputs": [
    {
     "data": {
      "text/plain": [
       "0.1788879883864437"
      ]
     },
     "execution_count": 113,
     "metadata": {},
     "output_type": "execute_result"
    }
   ],
   "source": [
    "regressor1.score(feature_vector1, target_vector1)"
   ]
  },
  {
   "cell_type": "code",
   "execution_count": 114,
   "metadata": {
    "colab": {
     "base_uri": "https://localhost:8080/"
    },
    "id": "GZcuUNdSFThy",
    "outputId": "c574da61-7c19-4b70-f710-7b42bb5e885d"
   },
   "outputs": [
    {
     "name": "stdout",
     "output_type": "stream",
     "text": [
      "-188.88611992357193\n"
     ]
    }
   ],
   "source": [
    "print(regressor1.intercept_)"
   ]
  },
  {
   "cell_type": "code",
   "execution_count": 115,
   "metadata": {
    "colab": {
     "base_uri": "https://localhost:8080/"
    },
    "id": "nQaUo2gaFVDV",
    "outputId": "04720615-6079-47d9-b6c9-3e95937269b4"
   },
   "outputs": [
    {
     "name": "stdout",
     "output_type": "stream",
     "text": [
      "[-4.41182987e-01  6.88061606e-06 -9.92457334e-06 -2.85030885e+00\n",
      " -8.94535646e+00 -3.08536184e-06  1.35242702e+02 -1.81940679e-06]\n"
     ]
    }
   ],
   "source": [
    "print(regressor1.coef_)"
   ]
  },
  {
   "cell_type": "markdown",
   "metadata": {
    "id": "KVNA2oVkaiHp"
   },
   "source": [
    "### SelectKBest method (HIGH)"
   ]
  },
  {
   "cell_type": "code",
   "execution_count": 72,
   "metadata": {
    "colab": {
     "base_uri": "https://localhost:8080/"
    },
    "id": "a7tsk0VUazlU",
    "outputId": "d61a43ad-39bb-4c2d-a9fa-71e195373b34"
   },
   "outputs": [
    {
     "name": "stdout",
     "output_type": "stream",
     "text": [
      "Selected features: Index(['MARKET', 'VOLUME', 'TRADE_QTY', 'NO_OF_TRADES', 'BEST_ASK_PRICE',\n",
      "       'BEST_ASK_QTY', 'BEST_BID_PRICE', 'BEST_BID_QTY'],\n",
      "      dtype='object')\n",
      "MAE: 1.5381231022330832\n",
      "MSE: 18.559820232239662\n",
      "RMSE: 4.308110981885177\n",
      "R2: 0.18641303290295663\n"
     ]
    }
   ],
   "source": [
    "from sklearn.feature_selection import SelectKBest, f_regression\n",
    "# split the data into training and testing sets\n",
    "X_train2, X_test2, y_train2, y_test2 = train_test_split(feature_vector1, target_vector1, test_size=0.33, random_state=15)\n",
    "\n",
    "# instantiate the feature selection model\n",
    "selector2 = SelectKBest(f_regression, k=8)\n",
    "\n",
    "# fit the model on the training data\n",
    "selector2.fit(X_train2, y_train2)\n",
    "\n",
    "# transform the training and testing sets to keep only the selected features\n",
    "X_train_selected2 = selector2.transform(X_train2)\n",
    "X_test_selected2 = selector2.transform(X_test2)\n",
    "\n",
    "# train a linear regression model on the selected features\n",
    "model2 = LinearRegression()\n",
    "model2.fit(X_train_selected2, y_train2)\n",
    "\n",
    "# make predictions on the testing set\n",
    "y_pred2 = model2.predict(X_test_selected2)\n",
    "\n",
    "# calculate regression metrics\n",
    "mae2 = mean_absolute_error(y_test2, y_pred2)\n",
    "mse2 = mean_squared_error(y_test2, y_pred2)\n",
    "rmse2 = mean_squared_error(y_test2, y_pred2, squared=False)\n",
    "r22 = r2_score(y_test2, y_pred2)\n",
    "\n",
    "# print the selected features and regression metrics\n",
    "print(\"Selected features:\", feature_vector1.columns[selector2.get_support()])\n",
    "print(\"MAE:\", mae2)\n",
    "print(\"MSE:\", mse2)\n",
    "print(\"RMSE:\", rmse2)\n",
    "print(\"R2:\", r22)"
   ]
  },
  {
   "cell_type": "markdown",
   "metadata": {
    "id": "5-1W2X2leMGW"
   },
   "source": [
    "### Sequential Feature Selection (HIGH)"
   ]
  },
  {
   "cell_type": "code",
   "execution_count": 73,
   "metadata": {
    "colab": {
     "base_uri": "https://localhost:8080/"
    },
    "id": "FjiUppbzetY4",
    "outputId": "ab30f3fe-711b-4bd4-e423-6d457102b58d"
   },
   "outputs": [
    {
     "name": "stdout",
     "output_type": "stream",
     "text": [
      "Selected features: Index(['MARKET', 'VOLUME', 'TRADE_QTY', 'NO_OF_TRADES', 'BEST_ASK_QTY',\n",
      "       'BEST_BID_PRICE'],\n",
      "      dtype='object')\n",
      "Regression Metrics:\n",
      "MAE: 1.4797041232234296\n",
      "MSE: 16.770098474609256\n",
      "RMSE: 4.095131069283284\n",
      "R²: 0.1900416493898074\n"
     ]
    }
   ],
   "source": [
    "from sklearn.feature_selection import SequentialFeatureSelector\n",
    "\n",
    "# Split the dataset into training and testing sets\n",
    "X_train3, X_test3, y_train3, y_test3 = train_test_split(feature_vector1,target_vector1, test_size=0.2, random_state=42)\n",
    "\n",
    "model3 = LinearRegression()\n",
    "sfs3 = SequentialFeatureSelector(model3, n_features_to_select=6, direction='backward') #backward\n",
    "sfs3.fit(X_train3, y_train3)\n",
    "selected_features3 = feature_vector1.columns[sfs3.get_support()]\n",
    "print(\"Selected features:\", selected_features3)\n",
    "\n",
    "X_train_selected3 = sfs3.transform(X_train3)\n",
    "X_test_selected3 = sfs3.transform(X_test3)\n",
    "model3.fit(X_train_selected3, y_train3)\n",
    "\n",
    "y_pred3 = model3.predict(X_test_selected3)\n",
    "\n",
    "# Calculate the regression metrics\n",
    "mae3 = mean_absolute_error(y_test3, y_pred3)\n",
    "mse3 = mean_squared_error(y_test3, y_pred3)\n",
    "rmse3 = mean_squared_error(y_test3, y_pred3, squared=False)\n",
    "r23 = r2_score(y_test3, y_pred3)\n",
    "\n",
    "print(\"Regression Metrics:\")\n",
    "print(\"MAE:\", mae3)\n",
    "print(\"MSE:\", mse3)\n",
    "print(\"RMSE:\", rmse3)\n",
    "print(\"R²:\", r23)"
   ]
  },
  {
   "cell_type": "markdown",
   "metadata": {
    "id": "TDF4guBVZZGs"
   },
   "source": [
    "### Removing features with low variance method (LOW)"
   ]
  },
  {
   "cell_type": "code",
   "execution_count": 74,
   "metadata": {},
   "outputs": [
    {
     "data": {
      "text/html": [
       "<div>\n",
       "<style scoped>\n",
       "    .dataframe tbody tr th:only-of-type {\n",
       "        vertical-align: middle;\n",
       "    }\n",
       "\n",
       "    .dataframe tbody tr th {\n",
       "        vertical-align: top;\n",
       "    }\n",
       "\n",
       "    .dataframe thead th {\n",
       "        text-align: right;\n",
       "    }\n",
       "</style>\n",
       "<table border=\"1\" class=\"dataframe\">\n",
       "  <thead>\n",
       "    <tr style=\"text-align: right;\">\n",
       "      <th></th>\n",
       "      <th>TRADE_DATE</th>\n",
       "      <th>SYMBOL1</th>\n",
       "      <th>MARKET</th>\n",
       "      <th>VOLUME</th>\n",
       "      <th>TRADE_QTY</th>\n",
       "      <th>NO_OF_TRADES</th>\n",
       "      <th>LOW</th>\n",
       "      <th>BEST_ASK_PRICE</th>\n",
       "      <th>BEST_ASK_QTY</th>\n",
       "      <th>BEST_BID_PRICE</th>\n",
       "      <th>BEST_BID_QTY</th>\n",
       "    </tr>\n",
       "  </thead>\n",
       "  <tbody>\n",
       "    <tr>\n",
       "      <th>0</th>\n",
       "      <td>2022-01-02</td>\n",
       "      <td>JOIB</td>\n",
       "      <td>1</td>\n",
       "      <td>199083.73</td>\n",
       "      <td>54378</td>\n",
       "      <td>73</td>\n",
       "      <td>3.65</td>\n",
       "      <td>2.65</td>\n",
       "      <td>585.0</td>\n",
       "      <td>3.13</td>\n",
       "      <td>2000.0</td>\n",
       "    </tr>\n",
       "    <tr>\n",
       "      <th>1</th>\n",
       "      <td>2022-01-02</td>\n",
       "      <td>JOKB</td>\n",
       "      <td>1</td>\n",
       "      <td>12707.76</td>\n",
       "      <td>9009</td>\n",
       "      <td>17</td>\n",
       "      <td>1.41</td>\n",
       "      <td>1.36</td>\n",
       "      <td>493.0</td>\n",
       "      <td>1.86</td>\n",
       "      <td>1570.0</td>\n",
       "    </tr>\n",
       "    <tr>\n",
       "      <th>2</th>\n",
       "      <td>2022-01-02</td>\n",
       "      <td>JCBK</td>\n",
       "      <td>2</td>\n",
       "      <td>727.41</td>\n",
       "      <td>726</td>\n",
       "      <td>7</td>\n",
       "      <td>1.00</td>\n",
       "      <td>1.14</td>\n",
       "      <td>1853.0</td>\n",
       "      <td>1.64</td>\n",
       "      <td>1000.0</td>\n",
       "    </tr>\n",
       "    <tr>\n",
       "      <th>3</th>\n",
       "      <td>2022-01-02</td>\n",
       "      <td>THBK</td>\n",
       "      <td>1</td>\n",
       "      <td>1558.10</td>\n",
       "      <td>394</td>\n",
       "      <td>5</td>\n",
       "      <td>3.95</td>\n",
       "      <td>1.09</td>\n",
       "      <td>660.0</td>\n",
       "      <td>1.59</td>\n",
       "      <td>46.0</td>\n",
       "    </tr>\n",
       "    <tr>\n",
       "      <th>4</th>\n",
       "      <td>2022-01-02</td>\n",
       "      <td>SIBK</td>\n",
       "      <td>1</td>\n",
       "      <td>29030.98</td>\n",
       "      <td>14867</td>\n",
       "      <td>11</td>\n",
       "      <td>1.95</td>\n",
       "      <td>1.23</td>\n",
       "      <td>1000.0</td>\n",
       "      <td>1.73</td>\n",
       "      <td>333.0</td>\n",
       "    </tr>\n",
       "  </tbody>\n",
       "</table>\n",
       "</div>"
      ],
      "text/plain": [
       "  TRADE_DATE SYMBOL1  MARKET     VOLUME  TRADE_QTY  NO_OF_TRADES   LOW  \\\n",
       "0 2022-01-02    JOIB       1  199083.73      54378            73  3.65   \n",
       "1 2022-01-02    JOKB       1   12707.76       9009            17  1.41   \n",
       "2 2022-01-02    JCBK       2     727.41        726             7  1.00   \n",
       "3 2022-01-02    THBK       1    1558.10        394             5  3.95   \n",
       "4 2022-01-02    SIBK       1   29030.98      14867            11  1.95   \n",
       "\n",
       "   BEST_ASK_PRICE  BEST_ASK_QTY  BEST_BID_PRICE  BEST_BID_QTY  \n",
       "0            2.65         585.0            3.13        2000.0  \n",
       "1            1.36         493.0            1.86        1570.0  \n",
       "2            1.14        1853.0            1.64        1000.0  \n",
       "3            1.09         660.0            1.59          46.0  \n",
       "4            1.23        1000.0            1.73         333.0  "
      ]
     },
     "execution_count": 74,
     "metadata": {},
     "output_type": "execute_result"
    }
   ],
   "source": [
    "df_Low.head()"
   ]
  },
  {
   "cell_type": "code",
   "execution_count": 75,
   "metadata": {
    "id": "oY8RP0AVZfyl"
   },
   "outputs": [],
   "source": [
    "feature_vector2=df_Low.drop([\"TRADE_DATE\",\"SYMBOL1\", \"LOW\"], axis=1)\n",
    "target_vector2=df_Low[\"LOW\"]"
   ]
  },
  {
   "cell_type": "code",
   "execution_count": 76,
   "metadata": {
    "id": "uB7mv_BlZ-YH"
   },
   "outputs": [],
   "source": [
    "X_train4, X_test4, y_train4, y_test4 = train_test_split(feature_vector2, target_vector2, test_size=0.33, random_state=15)"
   ]
  },
  {
   "cell_type": "code",
   "execution_count": 77,
   "metadata": {
    "colab": {
     "base_uri": "https://localhost:8080/",
     "height": 0
    },
    "id": "Wp43GppRaBU9",
    "outputId": "8543b343-2103-42df-e706-4992e5a0a417"
   },
   "outputs": [
    {
     "data": {
      "text/html": [
       "<style>#sk-container-id-2 {color: black;background-color: white;}#sk-container-id-2 pre{padding: 0;}#sk-container-id-2 div.sk-toggleable {background-color: white;}#sk-container-id-2 label.sk-toggleable__label {cursor: pointer;display: block;width: 100%;margin-bottom: 0;padding: 0.3em;box-sizing: border-box;text-align: center;}#sk-container-id-2 label.sk-toggleable__label-arrow:before {content: \"▸\";float: left;margin-right: 0.25em;color: #696969;}#sk-container-id-2 label.sk-toggleable__label-arrow:hover:before {color: black;}#sk-container-id-2 div.sk-estimator:hover label.sk-toggleable__label-arrow:before {color: black;}#sk-container-id-2 div.sk-toggleable__content {max-height: 0;max-width: 0;overflow: hidden;text-align: left;background-color: #f0f8ff;}#sk-container-id-2 div.sk-toggleable__content pre {margin: 0.2em;color: black;border-radius: 0.25em;background-color: #f0f8ff;}#sk-container-id-2 input.sk-toggleable__control:checked~div.sk-toggleable__content {max-height: 200px;max-width: 100%;overflow: auto;}#sk-container-id-2 input.sk-toggleable__control:checked~label.sk-toggleable__label-arrow:before {content: \"▾\";}#sk-container-id-2 div.sk-estimator input.sk-toggleable__control:checked~label.sk-toggleable__label {background-color: #d4ebff;}#sk-container-id-2 div.sk-label input.sk-toggleable__control:checked~label.sk-toggleable__label {background-color: #d4ebff;}#sk-container-id-2 input.sk-hidden--visually {border: 0;clip: rect(1px 1px 1px 1px);clip: rect(1px, 1px, 1px, 1px);height: 1px;margin: -1px;overflow: hidden;padding: 0;position: absolute;width: 1px;}#sk-container-id-2 div.sk-estimator {font-family: monospace;background-color: #f0f8ff;border: 1px dotted black;border-radius: 0.25em;box-sizing: border-box;margin-bottom: 0.5em;}#sk-container-id-2 div.sk-estimator:hover {background-color: #d4ebff;}#sk-container-id-2 div.sk-parallel-item::after {content: \"\";width: 100%;border-bottom: 1px solid gray;flex-grow: 1;}#sk-container-id-2 div.sk-label:hover label.sk-toggleable__label {background-color: #d4ebff;}#sk-container-id-2 div.sk-serial::before {content: \"\";position: absolute;border-left: 1px solid gray;box-sizing: border-box;top: 0;bottom: 0;left: 50%;z-index: 0;}#sk-container-id-2 div.sk-serial {display: flex;flex-direction: column;align-items: center;background-color: white;padding-right: 0.2em;padding-left: 0.2em;position: relative;}#sk-container-id-2 div.sk-item {position: relative;z-index: 1;}#sk-container-id-2 div.sk-parallel {display: flex;align-items: stretch;justify-content: center;background-color: white;position: relative;}#sk-container-id-2 div.sk-item::before, #sk-container-id-2 div.sk-parallel-item::before {content: \"\";position: absolute;border-left: 1px solid gray;box-sizing: border-box;top: 0;bottom: 0;left: 50%;z-index: -1;}#sk-container-id-2 div.sk-parallel-item {display: flex;flex-direction: column;z-index: 1;position: relative;background-color: white;}#sk-container-id-2 div.sk-parallel-item:first-child::after {align-self: flex-end;width: 50%;}#sk-container-id-2 div.sk-parallel-item:last-child::after {align-self: flex-start;width: 50%;}#sk-container-id-2 div.sk-parallel-item:only-child::after {width: 0;}#sk-container-id-2 div.sk-dashed-wrapped {border: 1px dashed gray;margin: 0 0.4em 0.5em 0.4em;box-sizing: border-box;padding-bottom: 0.4em;background-color: white;}#sk-container-id-2 div.sk-label label {font-family: monospace;font-weight: bold;display: inline-block;line-height: 1.2em;}#sk-container-id-2 div.sk-label-container {text-align: center;}#sk-container-id-2 div.sk-container {/* jupyter's `normalize.less` sets `[hidden] { display: none; }` but bootstrap.min.css set `[hidden] { display: none !important; }` so we also need the `!important` here to be able to override the default hidden behavior on the sphinx rendered scikit-learn.org. See: https://github.com/scikit-learn/scikit-learn/issues/21755 */display: inline-block !important;position: relative;}#sk-container-id-2 div.sk-text-repr-fallback {display: none;}</style><div id=\"sk-container-id-2\" class=\"sk-top-container\"><div class=\"sk-text-repr-fallback\"><pre>LinearRegression()</pre><b>In a Jupyter environment, please rerun this cell to show the HTML representation or trust the notebook. <br />On GitHub, the HTML representation is unable to render, please try loading this page with nbviewer.org.</b></div><div class=\"sk-container\" hidden><div class=\"sk-item\"><div class=\"sk-estimator sk-toggleable\"><input class=\"sk-toggleable__control sk-hidden--visually\" id=\"sk-estimator-id-2\" type=\"checkbox\" checked><label for=\"sk-estimator-id-2\" class=\"sk-toggleable__label sk-toggleable__label-arrow\">LinearRegression</label><div class=\"sk-toggleable__content\"><pre>LinearRegression()</pre></div></div></div></div></div>"
      ],
      "text/plain": [
       "LinearRegression()"
      ]
     },
     "execution_count": 77,
     "metadata": {},
     "output_type": "execute_result"
    }
   ],
   "source": [
    "from sklearn.linear_model import LinearRegression\n",
    "regressor2 = LinearRegression()\n",
    "regressor2.fit(X_train4, y_train4)"
   ]
  },
  {
   "cell_type": "code",
   "execution_count": 78,
   "metadata": {
    "colab": {
     "base_uri": "https://localhost:8080/"
    },
    "id": "oM4IW1VUaEaw",
    "outputId": "fa47539a-14a9-45ae-c2fa-852eac1c3926"
   },
   "outputs": [
    {
     "data": {
      "text/plain": [
       "array([1.39795423, 2.65091449, 2.02571433, ..., 1.09229096, 1.73212879,\n",
       "       0.81149898])"
      ]
     },
     "execution_count": 78,
     "metadata": {},
     "output_type": "execute_result"
    }
   ],
   "source": [
    "y_pred4 = regressor2.predict(X_test4)\n",
    "y_pred4"
   ]
  },
  {
   "cell_type": "code",
   "execution_count": 79,
   "metadata": {
    "colab": {
     "base_uri": "https://localhost:8080/",
     "height": 0
    },
    "id": "0gVr6LWRaGbd",
    "outputId": "25944a34-b463-43de-8528-d80b59eaa9c4"
   },
   "outputs": [
    {
     "data": {
      "text/html": [
       "<div>\n",
       "<style scoped>\n",
       "    .dataframe tbody tr th:only-of-type {\n",
       "        vertical-align: middle;\n",
       "    }\n",
       "\n",
       "    .dataframe tbody tr th {\n",
       "        vertical-align: top;\n",
       "    }\n",
       "\n",
       "    .dataframe thead th {\n",
       "        text-align: right;\n",
       "    }\n",
       "</style>\n",
       "<table border=\"1\" class=\"dataframe\">\n",
       "  <thead>\n",
       "    <tr style=\"text-align: right;\">\n",
       "      <th></th>\n",
       "      <th>Actual</th>\n",
       "      <th>Predicted</th>\n",
       "    </tr>\n",
       "  </thead>\n",
       "  <tbody>\n",
       "    <tr>\n",
       "      <th>3838</th>\n",
       "      <td>0.71</td>\n",
       "      <td>1.397954</td>\n",
       "    </tr>\n",
       "    <tr>\n",
       "      <th>22862</th>\n",
       "      <td>0.38</td>\n",
       "      <td>2.650914</td>\n",
       "    </tr>\n",
       "    <tr>\n",
       "      <th>12521</th>\n",
       "      <td>4.67</td>\n",
       "      <td>2.025714</td>\n",
       "    </tr>\n",
       "    <tr>\n",
       "      <th>3705</th>\n",
       "      <td>0.40</td>\n",
       "      <td>1.206960</td>\n",
       "    </tr>\n",
       "    <tr>\n",
       "      <th>6526</th>\n",
       "      <td>38.40</td>\n",
       "      <td>26.624466</td>\n",
       "    </tr>\n",
       "    <tr>\n",
       "      <th>...</th>\n",
       "      <td>...</td>\n",
       "      <td>...</td>\n",
       "    </tr>\n",
       "    <tr>\n",
       "      <th>7906</th>\n",
       "      <td>0.36</td>\n",
       "      <td>2.131352</td>\n",
       "    </tr>\n",
       "    <tr>\n",
       "      <th>12921</th>\n",
       "      <td>24.70</td>\n",
       "      <td>7.709380</td>\n",
       "    </tr>\n",
       "    <tr>\n",
       "      <th>25237</th>\n",
       "      <td>0.50</td>\n",
       "      <td>1.092291</td>\n",
       "    </tr>\n",
       "    <tr>\n",
       "      <th>4892</th>\n",
       "      <td>0.59</td>\n",
       "      <td>1.732129</td>\n",
       "    </tr>\n",
       "    <tr>\n",
       "      <th>4862</th>\n",
       "      <td>0.23</td>\n",
       "      <td>0.811499</td>\n",
       "    </tr>\n",
       "  </tbody>\n",
       "</table>\n",
       "<p>9244 rows × 2 columns</p>\n",
       "</div>"
      ],
      "text/plain": [
       "       Actual  Predicted\n",
       "3838     0.71   1.397954\n",
       "22862    0.38   2.650914\n",
       "12521    4.67   2.025714\n",
       "3705     0.40   1.206960\n",
       "6526    38.40  26.624466\n",
       "...       ...        ...\n",
       "7906     0.36   2.131352\n",
       "12921   24.70   7.709380\n",
       "25237    0.50   1.092291\n",
       "4892     0.59   1.732129\n",
       "4862     0.23   0.811499\n",
       "\n",
       "[9244 rows x 2 columns]"
      ]
     },
     "execution_count": 79,
     "metadata": {},
     "output_type": "execute_result"
    }
   ],
   "source": [
    "df2 = pd.DataFrame({'Actual': y_test4, 'Predicted': y_pred4})\n",
    "df2"
   ]
  },
  {
   "cell_type": "code",
   "execution_count": 80,
   "metadata": {
    "colab": {
     "base_uri": "https://localhost:8080/"
    },
    "id": "6UTmKmuEaMW9",
    "outputId": "48646466-4783-4bbe-a200-c604470d3c6a"
   },
   "outputs": [
    {
     "data": {
      "text/plain": [
       "0.17641615751324125"
      ]
     },
     "execution_count": 80,
     "metadata": {},
     "output_type": "execute_result"
    }
   ],
   "source": [
    "regressor2.score(feature_vector2, target_vector2)"
   ]
  },
  {
   "cell_type": "code",
   "execution_count": 81,
   "metadata": {
    "colab": {
     "base_uri": "https://localhost:8080/"
    },
    "id": "3EkXeE_maXbp",
    "outputId": "2dd60976-b565-4b0d-fe5b-5993b6207829"
   },
   "outputs": [
    {
     "name": "stdout",
     "output_type": "stream",
     "text": [
      "-158.46892317717143\n"
     ]
    }
   ],
   "source": [
    "print(regressor2.intercept_)"
   ]
  },
  {
   "cell_type": "code",
   "execution_count": 82,
   "metadata": {
    "colab": {
     "base_uri": "https://localhost:8080/"
    },
    "id": "NWRLAL44aavO",
    "outputId": "96d9b58d-1dde-428a-e36f-b2c3e88181e9"
   },
   "outputs": [
    {
     "name": "stdout",
     "output_type": "stream",
     "text": [
      "[-4.02550133e-01  6.55655324e-06 -9.59249682e-06 -2.47769470e+00\n",
      "  2.57038429e+00 -2.83961711e-06  1.07009699e+02 -1.72699852e-06]\n"
     ]
    }
   ],
   "source": [
    "print(regressor2.coef_)"
   ]
  },
  {
   "cell_type": "markdown",
   "metadata": {
    "id": "SOKf0yXRa7Yh"
   },
   "source": [
    "### SelectKBest method (LOW)"
   ]
  },
  {
   "cell_type": "code",
   "execution_count": 83,
   "metadata": {
    "colab": {
     "base_uri": "https://localhost:8080/"
    },
    "id": "TBbt-qwubBdI",
    "outputId": "a27df9a4-7898-4639-c4f5-5001aef172ed"
   },
   "outputs": [
    {
     "name": "stdout",
     "output_type": "stream",
     "text": [
      "Selected features: Index(['MARKET', 'VOLUME', 'TRADE_QTY', 'NO_OF_TRADES', 'BEST_ASK_PRICE',\n",
      "       'BEST_ASK_QTY', 'BEST_BID_PRICE', 'BEST_BID_QTY'],\n",
      "      dtype='object')\n",
      "MAE: 1.5150098072492377\n",
      "MSE: 17.99222828510346\n",
      "RMSE: 4.241724682850534\n",
      "R2: 0.1812086455638381\n"
     ]
    }
   ],
   "source": [
    "from sklearn.feature_selection import SelectKBest, f_regression\n",
    "# split the data into training and testing sets\n",
    "X_train5, X_test5, y_train5, y_test5 = train_test_split(feature_vector2, target_vector2, test_size=0.33, random_state=15)\n",
    "\n",
    "# instantiate the feature selection model\n",
    "selector5 = SelectKBest(f_regression, k=8)\n",
    "\n",
    "# fit the model on the training data\n",
    "selector5.fit(X_train5, y_train5)\n",
    "\n",
    "# transform the training and testing sets to keep only the selected features\n",
    "X_train_selected5 = selector5.transform(X_train5)\n",
    "X_test_selected5 = selector5.transform(X_test5)\n",
    "\n",
    "# train a linear regression model on the selected features\n",
    "model5 = LinearRegression()\n",
    "model5.fit(X_train_selected5, y_train5)\n",
    "\n",
    "# make predictions on the testing set\n",
    "y_pred5 = model5.predict(X_test_selected5)\n",
    "\n",
    "# calculate regression metrics\n",
    "mae5 = mean_absolute_error(y_test5, y_pred5)\n",
    "mse5 = mean_squared_error(y_test5, y_pred5)\n",
    "rmse5 = mean_squared_error(y_test5, y_pred5, squared=False)\n",
    "r25 = r2_score(y_test5, y_pred5)\n",
    "\n",
    "# print the selected features and regression metrics\n",
    "print(\"Selected features:\", feature_vector2.columns[selector5.get_support()])\n",
    "print(\"MAE:\", mae5)\n",
    "print(\"MSE:\", mse5)\n",
    "print(\"RMSE:\", rmse5)\n",
    "print(\"R2:\", r25)"
   ]
  },
  {
   "cell_type": "markdown",
   "metadata": {
    "id": "dsuQ9sJli_I8"
   },
   "source": [
    "### Sequential Feature Selection (LOW)"
   ]
  },
  {
   "cell_type": "code",
   "execution_count": 84,
   "metadata": {
    "colab": {
     "base_uri": "https://localhost:8080/"
    },
    "id": "2MJRPGwajDyz",
    "outputId": "5ecc7e0a-653d-49f9-e901-3178cce4e7f6"
   },
   "outputs": [
    {
     "name": "stdout",
     "output_type": "stream",
     "text": [
      "Selected features: Index(['MARKET', 'VOLUME', 'TRADE_QTY', 'NO_OF_TRADES', 'BEST_ASK_QTY',\n",
      "       'BEST_BID_PRICE', 'BEST_BID_QTY'],\n",
      "      dtype='object')\n",
      "Regression Metrics:\n",
      "MAE: 1.4549044975018681\n",
      "MSE: 16.27351277621996\n",
      "RMSE: 4.034044220905363\n",
      "R²: 0.1847477931268292\n"
     ]
    }
   ],
   "source": [
    "from sklearn.feature_selection import SequentialFeatureSelector\n",
    "\n",
    "# Split the dataset into training and testing sets\n",
    "X_train6, X_test6, y_train6, y_test6 = train_test_split(feature_vector2,target_vector2, test_size=0.2, random_state=42)\n",
    "\n",
    "model6 = LinearRegression()\n",
    "sfs6 = SequentialFeatureSelector(model6, n_features_to_select=7, direction='backward') #backward\n",
    "sfs6.fit(X_train6, y_train6)\n",
    "selected_features6 = feature_vector2.columns[sfs6.get_support()]\n",
    "print(\"Selected features:\", selected_features6)\n",
    "\n",
    "X_train_selected6 = sfs6.transform(X_train6)\n",
    "X_test_selected6 = sfs6.transform(X_test6)\n",
    "model6.fit(X_train_selected6, y_train6)\n",
    "\n",
    "y_pred6 = model6.predict(X_test_selected6)\n",
    "\n",
    "# Calculate the regression metrics\n",
    "mae6 = mean_absolute_error(y_test6, y_pred6)\n",
    "mse6 = mean_squared_error(y_test6, y_pred6)\n",
    "rmse6 = mean_squared_error(y_test6, y_pred6, squared=False)\n",
    "r26 = r2_score(y_test6, y_pred6)\n",
    "\n",
    "print(\"Regression Metrics:\")\n",
    "print(\"MAE:\", mae6)\n",
    "print(\"MSE:\", mse6)\n",
    "print(\"RMSE:\", rmse6)\n",
    "print(\"R²:\", r26)"
   ]
  },
  {
   "cell_type": "markdown",
   "metadata": {
    "id": "UPULNDrgDq7j"
   },
   "source": [
    "## b. Predict the “high” label (peak stock price) and “low” label (trough stock price) using different techniques."
   ]
  },
  {
   "cell_type": "code",
   "execution_count": 116,
   "metadata": {},
   "outputs": [
    {
     "data": {
      "image/png": "[encoded data removed]",
      "text/plain": [
       "<Figure size 640x480 with 1 Axes>"
      ]
     },
     "metadata": {},
     "output_type": "display_data"
    }
   ],
   "source": [
    "df1.plot(x='Actual', y= 'Predicted', style='o')\n",
    "plt.show()"
   ]
  },
  {
   "cell_type": "markdown",
   "metadata": {
    "id": "SUdO9BSIj7R_"
   },
   "source": [
    "## c. Compare the results of the different techniques using appropriate evaluation measures"
   ]
  },
  {
   "cell_type": "code",
   "execution_count": null,
   "metadata": {
    "id": "wcj6pQ_MkBJG"
   },
   "outputs": [],
   "source": []
  },
  {
   "cell_type": "markdown",
   "metadata": {
    "id": "bJneVlaTkghp"
   },
   "source": [
    "## d. Visualize the results using proper charts to show the quality of the different predictive models."
   ]
  },
  {
   "cell_type": "code",
   "execution_count": 119,
   "metadata": {},
   "outputs": [
    {
     "data": {
      "image/png": "[encoded data removed]",
      "text/plain": [
       "<Figure size 640x480 with 1 Axes>"
      ]
     },
     "metadata": {},
     "output_type": "display_data"
    }
   ],
   "source": [
    "plt.scatter(y_test1, y_pred1)\n",
    "plt.xlabel(\"Actual High\")\n",
    "plt.ylabel(\"Predicted High\")\n",
    "plt.title(\"Linear Regression - High\")\n",
    "plt.show()"
   ]
  },
  {
   "cell_type": "code",
   "execution_count": null,
   "metadata": {
    "id": "LNkG-xV7qNZY"
   },
   "outputs": [],
   "source": [
    "X=df['VOLUME']\n",
    "y=df['HIGH']"
   ]
  },
  {
   "cell_type": "code",
   "execution_count": null,
   "metadata": {
    "colab": {
     "base_uri": "https://localhost:8080/",
     "height": 448
    },
    "id": "_utmq7VLqFPq",
    "outputId": "609d4505-457b-4543-ba74-df2d1cc4e9aa"
   },
   "outputs": [],
   "source": [
    "#plot\n",
    "plt.scatter(X, target_vector1, color = 'blue')\n",
    "plt.plot(feature_vector1, regressor1.predict(feature_vector1), color = 'black')\n",
    "plt.show()"
   ]
  },
  {
   "cell_type": "code",
   "execution_count": null,
   "metadata": {
    "colab": {
     "base_uri": "https://localhost:8080/",
     "height": 449
    },
    "id": "3ionoP1upVZ_",
    "outputId": "278a2bb8-c7a4-4220-986e-ddb459dd17e2"
   },
   "outputs": [],
   "source": [
    "df.plot(x='HIGH', y='LOW', style='o')\n",
    "plt.show()"
   ]
  },
  {
   "cell_type": "code",
   "execution_count": null,
   "metadata": {},
   "outputs": [],
   "source": []
  },
  {
   "cell_type": "code",
   "execution_count": null,
   "metadata": {},
   "outputs": [],
   "source": []
  }
 ],
 "metadata": {
  "colab": {
   "collapsed_sections": [
    "S17IlPwhuQTu",
    "MD7cTe1L1dO5",
    "0wYHvlx50_XV",
    "nkvWFhhBggcY",
    "vbOMTNuxHBPA",
    "XTAxC5PPHMBf",
    "0CxcldQae5MS",
    "H2gOUkK842ho",
    "UPULNDrgDq7j",
    "b2YwKuDFZCkz",
    "KVNA2oVkaiHp",
    "5-1W2X2leMGW",
    "TDF4guBVZZGs",
    "SOKf0yXRa7Yh",
    "dsuQ9sJli_I8",
    "SUdO9BSIj7R_",
    "bJneVlaTkghp"
   ],
   "provenance": []
  },
  "kernelspec": {
   "display_name": "Python 3 (ipykernel)",
   "language": "python",
   "name": "python3"
  },
  "language_info": {
   "codemirror_mode": {
    "name": "ipython",
    "version": 3
   },
   "file_extension": ".py",
   "mimetype": "text/x-python",
   "name": "python",
   "nbconvert_exporter": "python",
   "pygments_lexer": "ipython3",
   "version": "3.10.9"
  }
 },
 "nbformat": 4,
 "nbformat_minor": 1
}
