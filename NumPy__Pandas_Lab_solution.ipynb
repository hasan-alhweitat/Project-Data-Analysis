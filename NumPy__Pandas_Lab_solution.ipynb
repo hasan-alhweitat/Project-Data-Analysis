{
  "nbformat": 4,
  "nbformat_minor": 0,
  "metadata": {
    "colab": {
      "provenance": []
    },
    "kernelspec": {
      "name": "python3",
      "display_name": "Python 3"
    },
    "language_info": {
      "name": "python"
    }
  },
  "cells": [
    {
      "cell_type": "markdown",
      "source": [
        "<br>\n",
        "\n",
        "<center><img src=\"https://www.htu.edu.jo/images/ThumbnailsCoverPhotos/HTU%20Logo-250px.png\" alt=\"HTU\"  width=\"180px\" align=\"center\"> \n",
        "\n",
        "\n",
        "<br>\n",
        "\n",
        "<p> \n",
        "School of Computing and Informatics <br>\n",
        "Department of Data Science and Artificial Intelligence <br>\n",
        "Data Anlaytics, Course Code:  10204210   <br>\n",
        "\n",
        "</p></center>"
      ],
      "metadata": {
        "id": "gBoYHzFX3rAT"
      }
    },
    {
      "cell_type": "markdown",
      "source": [
        "##Pandas"
      ],
      "metadata": {
        "id": "wu_7ghfQ4aJE"
      }
    },
    {
      "cell_type": "markdown",
      "source": [
        "Import necessary libraries "
      ],
      "metadata": {
        "id": "KQzyuKaAeRKu"
      }
    },
    {
      "cell_type": "code",
      "source": [
        "import pandas as pd\n",
        "import numpy as np"
      ],
      "metadata": {
        "id": "ff0e2KEWePZ5"
      },
      "execution_count": null,
      "outputs": []
    },
    {
      "cell_type": "markdown",
      "source": [
        "####Exercise 1"
      ],
      "metadata": {
        "id": "BWg-BILVEO-e"
      }
    },
    {
      "cell_type": "markdown",
      "source": [
        "1. Given the following table:\n",
        "\n",
        "  Create a Series from table and then multiply values by 2 and sorted in another series named Series2."
      ],
      "metadata": {
        "id": "w-ekWHIxRm-j"
      }
    },
    {
      "cell_type": "markdown",
      "source": [
        "![image.png](data:image/png;base64,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)"
      ],
      "metadata": {
        "id": "WlmFdQy8RerD"
      }
    },
    {
      "cell_type": "code",
      "source": [
        "Series1=pd.Series([100,200,300,400,500], index=['A','B','C','D','E'])\n",
        "Series2=Series1*2\n",
        "Series2"
      ],
      "metadata": {
        "id": "OaFHEYQYvzSp",
        "colab": {
          "base_uri": "https://localhost:8080/"
        },
        "outputId": "812f1d12-078f-4d4e-85e9-6e50997f617c"
      },
      "execution_count": null,
      "outputs": [
        {
          "output_type": "execute_result",
          "data": {
            "text/plain": [
              "A     200\n",
              "B     400\n",
              "C     600\n",
              "D     800\n",
              "E    1000\n",
              "dtype: int64"
            ]
          },
          "metadata": {},
          "execution_count": 25
        }
      ]
    },
    {
      "cell_type": "markdown",
      "source": [
        "####Exercise 2"
      ],
      "metadata": {
        "id": "5c_YqL_tcyJS"
      }
    },
    {
      "cell_type": "markdown",
      "source": [
        "Inspecting a DataFrame"
      ],
      "metadata": {
        "id": "SeWBIdFwD0ee"
      }
    },
    {
      "cell_type": "markdown",
      "source": [
        "When you get a new DataFrame to work with, the first thing you need to do is explore it and see what it contains. There are several useful methods and attributes for this.\n",
        "\n",
        "\n",
        "\n",
        "*   .head() returns the first few rows (the “head” of the DataFrame).\n",
        "*   .info() shows information on each of the columns, such as the data type and number of missing values.\n",
        "*    .shape returns the number of rows and columns of the DataFrame.\n",
        "*    .describe() calculates a few summary statistics for each column.\n",
        "\n",
        "\n",
        "\n",
        "\n"
      ],
      "metadata": {
        "id": "7Gy3HIDuD4lV"
      }
    },
    {
      "cell_type": "markdown",
      "source": [
        "1. Create a dataframe and explore the E-Commerce Data - Actual transactions from UK retailer dataset using the provided methods."
      ],
      "metadata": {
        "id": "RlWiQ5ACE9lN"
      }
    },
    {
      "cell_type": "code",
      "source": [
        "df_ecommerce= pd.read_csv(\"/content/Ecommerce.csv\")"
      ],
      "metadata": {
        "id": "miE4CLzsQfaQ"
      },
      "execution_count": null,
      "outputs": []
    },
    {
      "cell_type": "code",
      "source": [
        "print(df_ecommerce.head())\n",
        "print(\"------------------------------------------------------------\")\n",
        "print(df_ecommerce.info())\n",
        "print(\"------------------------------------------------------------\")\n",
        "print(df_ecommerce.shape)\n",
        "print(\"------------------------------------------------------------\")\n",
        "print(df_ecommerce.describe())"
      ],
      "metadata": {
        "colab": {
          "base_uri": "https://localhost:8080/"
        },
        "id": "4KoCVy6Xu4sK",
        "outputId": "4ac419bd-95a8-42d5-b674-ed3dc2dc0764"
      },
      "execution_count": null,
      "outputs": [
        {
          "output_type": "stream",
          "name": "stdout",
          "text": [
            "  InvoiceNo StockCode                          Description  Quantity  \\\n",
            "0    536365    85123A   WHITE HANGING HEART T-LIGHT HOLDER         6   \n",
            "1    536365     71053                  WHITE METAL LANTERN         6   \n",
            "2    536365    84406B       CREAM CUPID HEARTS COAT HANGER         8   \n",
            "3    536365    84029G  KNITTED UNION FLAG HOT WATER BOTTLE         6   \n",
            "4    536365    84029E       RED WOOLLY HOTTIE WHITE HEART.         6   \n",
            "\n",
            "      InvoiceDate  UnitPrice  CustomerID         Country  \n",
            "0  12/1/2010 8:26       2.55       17850  United Kingdom  \n",
            "1  12/1/2010 8:26       3.39       17850  United Kingdom  \n",
            "2  12/1/2010 8:26       2.75       17850  United Kingdom  \n",
            "3  12/1/2010 8:26       3.39       17850  United Kingdom  \n",
            "4  12/1/2010 8:26       3.39       17850  United Kingdom  \n",
            "------------------------------------------------------------\n",
            "<class 'pandas.core.frame.DataFrame'>\n",
            "RangeIndex: 249 entries, 0 to 248\n",
            "Data columns (total 8 columns):\n",
            " #   Column       Non-Null Count  Dtype  \n",
            "---  ------       --------------  -----  \n",
            " 0   InvoiceNo    249 non-null    object \n",
            " 1   StockCode    249 non-null    object \n",
            " 2   Description  249 non-null    object \n",
            " 3   Quantity     249 non-null    int64  \n",
            " 4   InvoiceDate  249 non-null    object \n",
            " 5   UnitPrice    249 non-null    float64\n",
            " 6   CustomerID   249 non-null    int64  \n",
            " 7   Country      249 non-null    object \n",
            "dtypes: float64(1), int64(2), object(5)\n",
            "memory usage: 15.7+ KB\n",
            "None\n",
            "------------------------------------------------------------\n",
            "(249, 8)\n",
            "------------------------------------------------------------\n",
            "         Quantity   UnitPrice    CustomerID\n",
            "count  249.000000  249.000000    249.000000\n",
            "mean    21.939759    4.085301  15733.421687\n",
            "std     51.416237   10.780657   1944.804172\n",
            "min    -24.000000    0.100000  12431.000000\n",
            "25%      3.000000    1.450000  14688.000000\n",
            "50%      6.000000    2.550000  16029.000000\n",
            "75%     23.000000    4.250000  17548.000000\n",
            "max    432.000000  165.000000  18074.000000\n"
          ]
        }
      ]
    },
    {
      "cell_type": "markdown",
      "source": [
        "2. Given the following dataframe: \n",
        "\n",
        "        df1 = pd.DataFrame(np.arange(10).reshape((2, 5)),\n",
        "\n",
        "        index=['three', 'one'],\n",
        "\n",
        "        columns=['d', 'a', 'b', 'c', 'e'])\n",
        "\n",
        " Write a python code to sort the dataframe by column. \n"
      ],
      "metadata": {
        "id": "Qbio0SHcOWtS"
      }
    },
    {
      "cell_type": "code",
      "source": [
        "import pandas as pd\n",
        "import numpy as np\n",
        "df1 = pd.DataFrame(np.arange(10).reshape((2, 5)),\n",
        "  index=['three', 'one'],\n",
        "  columns=['d', 'a', 'b', 'c', 'e'])\n"
      ],
      "metadata": {
        "id": "fnCC4dgp3oeu"
      },
      "execution_count": null,
      "outputs": []
    },
    {
      "cell_type": "code",
      "source": [
        "df1.sort_index(axis=1)"
      ],
      "metadata": {
        "colab": {
          "base_uri": "https://localhost:8080/",
          "height": 112
        },
        "id": "2RWZFwm0Cbae",
        "outputId": "1d172c29-2e68-4874-cc47-7879072bf608"
      },
      "execution_count": null,
      "outputs": [
        {
          "output_type": "execute_result",
          "data": {
            "text/plain": [
              "       a  b  c  d  e\n",
              "three  1  2  3  0  4\n",
              "one    6  7  8  5  9"
            ],
            "text/html": [
              "\n",
              "  <div id=\"df-e7fdd337-96df-4e86-9789-0ad556a77cac\">\n",
              "    <div class=\"colab-df-container\">\n",
              "      <div>\n",
              "<style scoped>\n",
              "    .dataframe tbody tr th:only-of-type {\n",
              "        vertical-align: middle;\n",
              "    }\n",
              "\n",
              "    .dataframe tbody tr th {\n",
              "        vertical-align: top;\n",
              "    }\n",
              "\n",
              "    .dataframe thead th {\n",
              "        text-align: right;\n",
              "    }\n",
              "</style>\n",
              "<table border=\"1\" class=\"dataframe\">\n",
              "  <thead>\n",
              "    <tr style=\"text-align: right;\">\n",
              "      <th></th>\n",
              "      <th>a</th>\n",
              "      <th>b</th>\n",
              "      <th>c</th>\n",
              "      <th>d</th>\n",
              "      <th>e</th>\n",
              "    </tr>\n",
              "  </thead>\n",
              "  <tbody>\n",
              "    <tr>\n",
              "      <th>three</th>\n",
              "      <td>1</td>\n",
              "      <td>2</td>\n",
              "      <td>3</td>\n",
              "      <td>0</td>\n",
              "      <td>4</td>\n",
              "    </tr>\n",
              "    <tr>\n",
              "      <th>one</th>\n",
              "      <td>6</td>\n",
              "      <td>7</td>\n",
              "      <td>8</td>\n",
              "      <td>5</td>\n",
              "      <td>9</td>\n",
              "    </tr>\n",
              "  </tbody>\n",
              "</table>\n",
              "</div>\n",
              "      <button class=\"colab-df-convert\" onclick=\"convertToInteractive('df-e7fdd337-96df-4e86-9789-0ad556a77cac')\"\n",
              "              title=\"Convert this dataframe to an interactive table.\"\n",
              "              style=\"display:none;\">\n",
              "        \n",
              "  <svg xmlns=\"http://www.w3.org/2000/svg\" height=\"24px\"viewBox=\"0 0 24 24\"\n",
              "       width=\"24px\">\n",
              "    <path d=\"M0 0h24v24H0V0z\" fill=\"none\"/>\n",
              "    <path d=\"M18.56 5.44l.94 2.06.94-2.06 2.06-.94-2.06-.94-.94-2.06-.94 2.06-2.06.94zm-11 1L8.5 8.5l.94-2.06 2.06-.94-2.06-.94L8.5 2.5l-.94 2.06-2.06.94zm10 10l.94 2.06.94-2.06 2.06-.94-2.06-.94-.94-2.06-.94 2.06-2.06.94z\"/><path d=\"M17.41 7.96l-1.37-1.37c-.4-.4-.92-.59-1.43-.59-.52 0-1.04.2-1.43.59L10.3 9.45l-7.72 7.72c-.78.78-.78 2.05 0 2.83L4 21.41c.39.39.9.59 1.41.59.51 0 1.02-.2 1.41-.59l7.78-7.78 2.81-2.81c.8-.78.8-2.07 0-2.86zM5.41 20L4 18.59l7.72-7.72 1.47 1.35L5.41 20z\"/>\n",
              "  </svg>\n",
              "      </button>\n",
              "      \n",
              "  <style>\n",
              "    .colab-df-container {\n",
              "      display:flex;\n",
              "      flex-wrap:wrap;\n",
              "      gap: 12px;\n",
              "    }\n",
              "\n",
              "    .colab-df-convert {\n",
              "      background-color: #E8F0FE;\n",
              "      border: none;\n",
              "      border-radius: 50%;\n",
              "      cursor: pointer;\n",
              "      display: none;\n",
              "      fill: #1967D2;\n",
              "      height: 32px;\n",
              "      padding: 0 0 0 0;\n",
              "      width: 32px;\n",
              "    }\n",
              "\n",
              "    .colab-df-convert:hover {\n",
              "      background-color: #E2EBFA;\n",
              "      box-shadow: 0px 1px 2px rgba(60, 64, 67, 0.3), 0px 1px 3px 1px rgba(60, 64, 67, 0.15);\n",
              "      fill: #174EA6;\n",
              "    }\n",
              "\n",
              "    [theme=dark] .colab-df-convert {\n",
              "      background-color: #3B4455;\n",
              "      fill: #D2E3FC;\n",
              "    }\n",
              "\n",
              "    [theme=dark] .colab-df-convert:hover {\n",
              "      background-color: #434B5C;\n",
              "      box-shadow: 0px 1px 3px 1px rgba(0, 0, 0, 0.15);\n",
              "      filter: drop-shadow(0px 1px 2px rgba(0, 0, 0, 0.3));\n",
              "      fill: #FFFFFF;\n",
              "    }\n",
              "  </style>\n",
              "\n",
              "      <script>\n",
              "        const buttonEl =\n",
              "          document.querySelector('#df-e7fdd337-96df-4e86-9789-0ad556a77cac button.colab-df-convert');\n",
              "        buttonEl.style.display =\n",
              "          google.colab.kernel.accessAllowed ? 'block' : 'none';\n",
              "\n",
              "        async function convertToInteractive(key) {\n",
              "          const element = document.querySelector('#df-e7fdd337-96df-4e86-9789-0ad556a77cac');\n",
              "          const dataTable =\n",
              "            await google.colab.kernel.invokeFunction('convertToInteractive',\n",
              "                                                     [key], {});\n",
              "          if (!dataTable) return;\n",
              "\n",
              "          const docLinkHtml = 'Like what you see? Visit the ' +\n",
              "            '<a target=\"_blank\" href=https://colab.research.google.com/notebooks/data_table.ipynb>data table notebook</a>'\n",
              "            + ' to learn more about interactive tables.';\n",
              "          element.innerHTML = '';\n",
              "          dataTable['output_type'] = 'display_data';\n",
              "          await google.colab.output.renderOutput(dataTable, element);\n",
              "          const docLink = document.createElement('div');\n",
              "          docLink.innerHTML = docLinkHtml;\n",
              "          element.appendChild(docLink);\n",
              "        }\n",
              "      </script>\n",
              "    </div>\n",
              "  </div>\n",
              "  "
            ]
          },
          "metadata": {},
          "execution_count": 15
        }
      ]
    },
    {
      "cell_type": "markdown",
      "source": [
        "4.\tGiven the following dataframe: \n",
        "\n",
        "   \n",
        "\n",
        "```\n",
        " df = pd.DataFrame( {\n",
        "      \n",
        "    'A': ['A1', 'A2', 'A3', 'A4', 'A5'],\n",
        "\n",
        "    'B': ['B1', 'B2', 'B3', 'B4', 'B5'],\n",
        "\n",
        "    'C': ['C1', 'C2', 'C3', 'C4', 'C5'],\n",
        "\n",
        "    'D': ['D1', 'D2', 'D3', 'D4', 'D5'],\n",
        "\n",
        "    'E': ['E1', 'E2', 'E3', 'E4', 'E5']})\n",
        "```\n",
        "\n",
        "\n",
        "\n",
        "\n",
        "\n",
        "Write a python code to swap rows and columns. \n"
      ],
      "metadata": {
        "id": "8mZBZzYFv_IE"
      }
    },
    {
      "cell_type": "code",
      "source": [
        "df = pd.DataFrame( {\n",
        "    'A': ['A1', 'A2', 'A3', 'A4', 'A5'],\n",
        "    'B': ['B1', 'B2', 'B3', 'B4', 'B5'],\n",
        "    'C': ['C1', 'C2', 'C3', 'C4', 'C5'],\n",
        "    'D': ['D1', 'D2', 'D3', 'D4', 'D5'],\n",
        "    'E': ['E1', 'E2', 'E3', 'E4', 'E5']})\n",
        "df.T"
      ],
      "metadata": {
        "id": "u6u64pKLD4Ej",
        "colab": {
          "base_uri": "https://localhost:8080/",
          "height": 206
        },
        "outputId": "7f029e83-c096-4436-83cb-a295cf915de0"
      },
      "execution_count": null,
      "outputs": [
        {
          "output_type": "execute_result",
          "data": {
            "text/plain": [
              "    0   1   2   3   4\n",
              "A  A1  A2  A3  A4  A5\n",
              "B  B1  B2  B3  B4  B5\n",
              "C  C1  C2  C3  C4  C5\n",
              "D  D1  D2  D3  D4  D5\n",
              "E  E1  E2  E3  E4  E5"
            ],
            "text/html": [
              "\n",
              "  <div id=\"df-e2402ad8-f52b-43bb-a8c0-3bfabf6f8d86\">\n",
              "    <div class=\"colab-df-container\">\n",
              "      <div>\n",
              "<style scoped>\n",
              "    .dataframe tbody tr th:only-of-type {\n",
              "        vertical-align: middle;\n",
              "    }\n",
              "\n",
              "    .dataframe tbody tr th {\n",
              "        vertical-align: top;\n",
              "    }\n",
              "\n",
              "    .dataframe thead th {\n",
              "        text-align: right;\n",
              "    }\n",
              "</style>\n",
              "<table border=\"1\" class=\"dataframe\">\n",
              "  <thead>\n",
              "    <tr style=\"text-align: right;\">\n",
              "      <th></th>\n",
              "      <th>0</th>\n",
              "      <th>1</th>\n",
              "      <th>2</th>\n",
              "      <th>3</th>\n",
              "      <th>4</th>\n",
              "    </tr>\n",
              "  </thead>\n",
              "  <tbody>\n",
              "    <tr>\n",
              "      <th>A</th>\n",
              "      <td>A1</td>\n",
              "      <td>A2</td>\n",
              "      <td>A3</td>\n",
              "      <td>A4</td>\n",
              "      <td>A5</td>\n",
              "    </tr>\n",
              "    <tr>\n",
              "      <th>B</th>\n",
              "      <td>B1</td>\n",
              "      <td>B2</td>\n",
              "      <td>B3</td>\n",
              "      <td>B4</td>\n",
              "      <td>B5</td>\n",
              "    </tr>\n",
              "    <tr>\n",
              "      <th>C</th>\n",
              "      <td>C1</td>\n",
              "      <td>C2</td>\n",
              "      <td>C3</td>\n",
              "      <td>C4</td>\n",
              "      <td>C5</td>\n",
              "    </tr>\n",
              "    <tr>\n",
              "      <th>D</th>\n",
              "      <td>D1</td>\n",
              "      <td>D2</td>\n",
              "      <td>D3</td>\n",
              "      <td>D4</td>\n",
              "      <td>D5</td>\n",
              "    </tr>\n",
              "    <tr>\n",
              "      <th>E</th>\n",
              "      <td>E1</td>\n",
              "      <td>E2</td>\n",
              "      <td>E3</td>\n",
              "      <td>E4</td>\n",
              "      <td>E5</td>\n",
              "    </tr>\n",
              "  </tbody>\n",
              "</table>\n",
              "</div>\n",
              "      <button class=\"colab-df-convert\" onclick=\"convertToInteractive('df-e2402ad8-f52b-43bb-a8c0-3bfabf6f8d86')\"\n",
              "              title=\"Convert this dataframe to an interactive table.\"\n",
              "              style=\"display:none;\">\n",
              "        \n",
              "  <svg xmlns=\"http://www.w3.org/2000/svg\" height=\"24px\"viewBox=\"0 0 24 24\"\n",
              "       width=\"24px\">\n",
              "    <path d=\"M0 0h24v24H0V0z\" fill=\"none\"/>\n",
              "    <path d=\"M18.56 5.44l.94 2.06.94-2.06 2.06-.94-2.06-.94-.94-2.06-.94 2.06-2.06.94zm-11 1L8.5 8.5l.94-2.06 2.06-.94-2.06-.94L8.5 2.5l-.94 2.06-2.06.94zm10 10l.94 2.06.94-2.06 2.06-.94-2.06-.94-.94-2.06-.94 2.06-2.06.94z\"/><path d=\"M17.41 7.96l-1.37-1.37c-.4-.4-.92-.59-1.43-.59-.52 0-1.04.2-1.43.59L10.3 9.45l-7.72 7.72c-.78.78-.78 2.05 0 2.83L4 21.41c.39.39.9.59 1.41.59.51 0 1.02-.2 1.41-.59l7.78-7.78 2.81-2.81c.8-.78.8-2.07 0-2.86zM5.41 20L4 18.59l7.72-7.72 1.47 1.35L5.41 20z\"/>\n",
              "  </svg>\n",
              "      </button>\n",
              "      \n",
              "  <style>\n",
              "    .colab-df-container {\n",
              "      display:flex;\n",
              "      flex-wrap:wrap;\n",
              "      gap: 12px;\n",
              "    }\n",
              "\n",
              "    .colab-df-convert {\n",
              "      background-color: #E8F0FE;\n",
              "      border: none;\n",
              "      border-radius: 50%;\n",
              "      cursor: pointer;\n",
              "      display: none;\n",
              "      fill: #1967D2;\n",
              "      height: 32px;\n",
              "      padding: 0 0 0 0;\n",
              "      width: 32px;\n",
              "    }\n",
              "\n",
              "    .colab-df-convert:hover {\n",
              "      background-color: #E2EBFA;\n",
              "      box-shadow: 0px 1px 2px rgba(60, 64, 67, 0.3), 0px 1px 3px 1px rgba(60, 64, 67, 0.15);\n",
              "      fill: #174EA6;\n",
              "    }\n",
              "\n",
              "    [theme=dark] .colab-df-convert {\n",
              "      background-color: #3B4455;\n",
              "      fill: #D2E3FC;\n",
              "    }\n",
              "\n",
              "    [theme=dark] .colab-df-convert:hover {\n",
              "      background-color: #434B5C;\n",
              "      box-shadow: 0px 1px 3px 1px rgba(0, 0, 0, 0.15);\n",
              "      filter: drop-shadow(0px 1px 2px rgba(0, 0, 0, 0.3));\n",
              "      fill: #FFFFFF;\n",
              "    }\n",
              "  </style>\n",
              "\n",
              "      <script>\n",
              "        const buttonEl =\n",
              "          document.querySelector('#df-e2402ad8-f52b-43bb-a8c0-3bfabf6f8d86 button.colab-df-convert');\n",
              "        buttonEl.style.display =\n",
              "          google.colab.kernel.accessAllowed ? 'block' : 'none';\n",
              "\n",
              "        async function convertToInteractive(key) {\n",
              "          const element = document.querySelector('#df-e2402ad8-f52b-43bb-a8c0-3bfabf6f8d86');\n",
              "          const dataTable =\n",
              "            await google.colab.kernel.invokeFunction('convertToInteractive',\n",
              "                                                     [key], {});\n",
              "          if (!dataTable) return;\n",
              "\n",
              "          const docLinkHtml = 'Like what you see? Visit the ' +\n",
              "            '<a target=\"_blank\" href=https://colab.research.google.com/notebooks/data_table.ipynb>data table notebook</a>'\n",
              "            + ' to learn more about interactive tables.';\n",
              "          element.innerHTML = '';\n",
              "          dataTable['output_type'] = 'display_data';\n",
              "          await google.colab.output.renderOutput(dataTable, element);\n",
              "          const docLink = document.createElement('div');\n",
              "          docLink.innerHTML = docLinkHtml;\n",
              "          element.appendChild(docLink);\n",
              "        }\n",
              "      </script>\n",
              "    </div>\n",
              "  </div>\n",
              "  "
            ]
          },
          "metadata": {},
          "execution_count": 29
        }
      ]
    },
    {
      "cell_type": "markdown",
      "source": [
        "**Subsetting columns**\n",
        "\n",
        "When working with data, you may not need all of the variables in your dataset. Square brackets ([]) can be used to select only the columns that matter to you in an order that makes sense to you.\n",
        "\n",
        "Select StockCode, Quantity, and UnitPrice columns from the E-commerce dataset."
      ],
      "metadata": {
        "id": "2Yq1q61jzPLN"
      }
    },
    {
      "cell_type": "code",
      "source": [
        "df_ecommerce"
      ],
      "metadata": {
        "colab": {
          "base_uri": "https://localhost:8080/",
          "height": 797
        },
        "id": "lqcMqXWi7sDj",
        "outputId": "b1acc48d-44a6-411f-a287-b134a8300dda"
      },
      "execution_count": null,
      "outputs": [
        {
          "output_type": "execute_result",
          "data": {
            "text/plain": [
              "    InvoiceNo StockCode                          Description  Quantity  \\\n",
              "0      536365    85123A   WHITE HANGING HEART T-LIGHT HOLDER         6   \n",
              "1      536365     71053                  WHITE METAL LANTERN         6   \n",
              "2      536365    84406B       CREAM CUPID HEARTS COAT HANGER         8   \n",
              "3      536365    84029G  KNITTED UNION FLAG HOT WATER BOTTLE         6   \n",
              "4      536365    84029E       RED WOOLLY HOTTIE WHITE HEART.         6   \n",
              "..        ...       ...                                  ...       ...   \n",
              "244    536392     21891     TRADITIONAL WOODEN SKIPPING ROPE        12   \n",
              "245    536392     21889               WOODEN BOX OF DOMINOES        12   \n",
              "246    536392     22827   RUSTIC  SEVENTEEN DRAWER SIDEBOARD         1   \n",
              "247    536392     22127        PARTY CONES CARNIVAL ASSORTED        12   \n",
              "248    536392     22128           PARTY CONES CANDY ASSORTED        12   \n",
              "\n",
              "         InvoiceDate  UnitPrice  CustomerID         Country  \n",
              "0     12/1/2010 8:26       2.55       17850  United Kingdom  \n",
              "1     12/1/2010 8:26       3.39       17850  United Kingdom  \n",
              "2     12/1/2010 8:26       2.75       17850  United Kingdom  \n",
              "3     12/1/2010 8:26       3.39       17850  United Kingdom  \n",
              "4     12/1/2010 8:26       3.39       17850  United Kingdom  \n",
              "..               ...        ...         ...             ...  \n",
              "244  12/1/2010 10:29       1.25       13705  United Kingdom  \n",
              "245  12/1/2010 10:29       1.25       13705  United Kingdom  \n",
              "246  12/1/2010 10:29     165.00       13705  United Kingdom  \n",
              "247  12/1/2010 10:29       1.25       13705  United Kingdom  \n",
              "248  12/1/2010 10:29       1.25       13705  United Kingdom  \n",
              "\n",
              "[249 rows x 8 columns]"
            ],
            "text/html": [
              "\n",
              "  <div id=\"df-a88efb0a-7ed7-4736-b0d8-6278c0315940\">\n",
              "    <div class=\"colab-df-container\">\n",
              "      <div>\n",
              "<style scoped>\n",
              "    .dataframe tbody tr th:only-of-type {\n",
              "        vertical-align: middle;\n",
              "    }\n",
              "\n",
              "    .dataframe tbody tr th {\n",
              "        vertical-align: top;\n",
              "    }\n",
              "\n",
              "    .dataframe thead th {\n",
              "        text-align: right;\n",
              "    }\n",
              "</style>\n",
              "<table border=\"1\" class=\"dataframe\">\n",
              "  <thead>\n",
              "    <tr style=\"text-align: right;\">\n",
              "      <th></th>\n",
              "      <th>InvoiceNo</th>\n",
              "      <th>StockCode</th>\n",
              "      <th>Description</th>\n",
              "      <th>Quantity</th>\n",
              "      <th>InvoiceDate</th>\n",
              "      <th>UnitPrice</th>\n",
              "      <th>CustomerID</th>\n",
              "      <th>Country</th>\n",
              "    </tr>\n",
              "  </thead>\n",
              "  <tbody>\n",
              "    <tr>\n",
              "      <th>0</th>\n",
              "      <td>536365</td>\n",
              "      <td>85123A</td>\n",
              "      <td>WHITE HANGING HEART T-LIGHT HOLDER</td>\n",
              "      <td>6</td>\n",
              "      <td>12/1/2010 8:26</td>\n",
              "      <td>2.55</td>\n",
              "      <td>17850</td>\n",
              "      <td>United Kingdom</td>\n",
              "    </tr>\n",
              "    <tr>\n",
              "      <th>1</th>\n",
              "      <td>536365</td>\n",
              "      <td>71053</td>\n",
              "      <td>WHITE METAL LANTERN</td>\n",
              "      <td>6</td>\n",
              "      <td>12/1/2010 8:26</td>\n",
              "      <td>3.39</td>\n",
              "      <td>17850</td>\n",
              "      <td>United Kingdom</td>\n",
              "    </tr>\n",
              "    <tr>\n",
              "      <th>2</th>\n",
              "      <td>536365</td>\n",
              "      <td>84406B</td>\n",
              "      <td>CREAM CUPID HEARTS COAT HANGER</td>\n",
              "      <td>8</td>\n",
              "      <td>12/1/2010 8:26</td>\n",
              "      <td>2.75</td>\n",
              "      <td>17850</td>\n",
              "      <td>United Kingdom</td>\n",
              "    </tr>\n",
              "    <tr>\n",
              "      <th>3</th>\n",
              "      <td>536365</td>\n",
              "      <td>84029G</td>\n",
              "      <td>KNITTED UNION FLAG HOT WATER BOTTLE</td>\n",
              "      <td>6</td>\n",
              "      <td>12/1/2010 8:26</td>\n",
              "      <td>3.39</td>\n",
              "      <td>17850</td>\n",
              "      <td>United Kingdom</td>\n",
              "    </tr>\n",
              "    <tr>\n",
              "      <th>4</th>\n",
              "      <td>536365</td>\n",
              "      <td>84029E</td>\n",
              "      <td>RED WOOLLY HOTTIE WHITE HEART.</td>\n",
              "      <td>6</td>\n",
              "      <td>12/1/2010 8:26</td>\n",
              "      <td>3.39</td>\n",
              "      <td>17850</td>\n",
              "      <td>United Kingdom</td>\n",
              "    </tr>\n",
              "    <tr>\n",
              "      <th>...</th>\n",
              "      <td>...</td>\n",
              "      <td>...</td>\n",
              "      <td>...</td>\n",
              "      <td>...</td>\n",
              "      <td>...</td>\n",
              "      <td>...</td>\n",
              "      <td>...</td>\n",
              "      <td>...</td>\n",
              "    </tr>\n",
              "    <tr>\n",
              "      <th>244</th>\n",
              "      <td>536392</td>\n",
              "      <td>21891</td>\n",
              "      <td>TRADITIONAL WOODEN SKIPPING ROPE</td>\n",
              "      <td>12</td>\n",
              "      <td>12/1/2010 10:29</td>\n",
              "      <td>1.25</td>\n",
              "      <td>13705</td>\n",
              "      <td>United Kingdom</td>\n",
              "    </tr>\n",
              "    <tr>\n",
              "      <th>245</th>\n",
              "      <td>536392</td>\n",
              "      <td>21889</td>\n",
              "      <td>WOODEN BOX OF DOMINOES</td>\n",
              "      <td>12</td>\n",
              "      <td>12/1/2010 10:29</td>\n",
              "      <td>1.25</td>\n",
              "      <td>13705</td>\n",
              "      <td>United Kingdom</td>\n",
              "    </tr>\n",
              "    <tr>\n",
              "      <th>246</th>\n",
              "      <td>536392</td>\n",
              "      <td>22827</td>\n",
              "      <td>RUSTIC  SEVENTEEN DRAWER SIDEBOARD</td>\n",
              "      <td>1</td>\n",
              "      <td>12/1/2010 10:29</td>\n",
              "      <td>165.00</td>\n",
              "      <td>13705</td>\n",
              "      <td>United Kingdom</td>\n",
              "    </tr>\n",
              "    <tr>\n",
              "      <th>247</th>\n",
              "      <td>536392</td>\n",
              "      <td>22127</td>\n",
              "      <td>PARTY CONES CARNIVAL ASSORTED</td>\n",
              "      <td>12</td>\n",
              "      <td>12/1/2010 10:29</td>\n",
              "      <td>1.25</td>\n",
              "      <td>13705</td>\n",
              "      <td>United Kingdom</td>\n",
              "    </tr>\n",
              "    <tr>\n",
              "      <th>248</th>\n",
              "      <td>536392</td>\n",
              "      <td>22128</td>\n",
              "      <td>PARTY CONES CANDY ASSORTED</td>\n",
              "      <td>12</td>\n",
              "      <td>12/1/2010 10:29</td>\n",
              "      <td>1.25</td>\n",
              "      <td>13705</td>\n",
              "      <td>United Kingdom</td>\n",
              "    </tr>\n",
              "  </tbody>\n",
              "</table>\n",
              "<p>249 rows × 8 columns</p>\n",
              "</div>\n",
              "      <button class=\"colab-df-convert\" onclick=\"convertToInteractive('df-a88efb0a-7ed7-4736-b0d8-6278c0315940')\"\n",
              "              title=\"Convert this dataframe to an interactive table.\"\n",
              "              style=\"display:none;\">\n",
              "        \n",
              "  <svg xmlns=\"http://www.w3.org/2000/svg\" height=\"24px\"viewBox=\"0 0 24 24\"\n",
              "       width=\"24px\">\n",
              "    <path d=\"M0 0h24v24H0V0z\" fill=\"none\"/>\n",
              "    <path d=\"M18.56 5.44l.94 2.06.94-2.06 2.06-.94-2.06-.94-.94-2.06-.94 2.06-2.06.94zm-11 1L8.5 8.5l.94-2.06 2.06-.94-2.06-.94L8.5 2.5l-.94 2.06-2.06.94zm10 10l.94 2.06.94-2.06 2.06-.94-2.06-.94-.94-2.06-.94 2.06-2.06.94z\"/><path d=\"M17.41 7.96l-1.37-1.37c-.4-.4-.92-.59-1.43-.59-.52 0-1.04.2-1.43.59L10.3 9.45l-7.72 7.72c-.78.78-.78 2.05 0 2.83L4 21.41c.39.39.9.59 1.41.59.51 0 1.02-.2 1.41-.59l7.78-7.78 2.81-2.81c.8-.78.8-2.07 0-2.86zM5.41 20L4 18.59l7.72-7.72 1.47 1.35L5.41 20z\"/>\n",
              "  </svg>\n",
              "      </button>\n",
              "      \n",
              "  <style>\n",
              "    .colab-df-container {\n",
              "      display:flex;\n",
              "      flex-wrap:wrap;\n",
              "      gap: 12px;\n",
              "    }\n",
              "\n",
              "    .colab-df-convert {\n",
              "      background-color: #E8F0FE;\n",
              "      border: none;\n",
              "      border-radius: 50%;\n",
              "      cursor: pointer;\n",
              "      display: none;\n",
              "      fill: #1967D2;\n",
              "      height: 32px;\n",
              "      padding: 0 0 0 0;\n",
              "      width: 32px;\n",
              "    }\n",
              "\n",
              "    .colab-df-convert:hover {\n",
              "      background-color: #E2EBFA;\n",
              "      box-shadow: 0px 1px 2px rgba(60, 64, 67, 0.3), 0px 1px 3px 1px rgba(60, 64, 67, 0.15);\n",
              "      fill: #174EA6;\n",
              "    }\n",
              "\n",
              "    [theme=dark] .colab-df-convert {\n",
              "      background-color: #3B4455;\n",
              "      fill: #D2E3FC;\n",
              "    }\n",
              "\n",
              "    [theme=dark] .colab-df-convert:hover {\n",
              "      background-color: #434B5C;\n",
              "      box-shadow: 0px 1px 3px 1px rgba(0, 0, 0, 0.15);\n",
              "      filter: drop-shadow(0px 1px 2px rgba(0, 0, 0, 0.3));\n",
              "      fill: #FFFFFF;\n",
              "    }\n",
              "  </style>\n",
              "\n",
              "      <script>\n",
              "        const buttonEl =\n",
              "          document.querySelector('#df-a88efb0a-7ed7-4736-b0d8-6278c0315940 button.colab-df-convert');\n",
              "        buttonEl.style.display =\n",
              "          google.colab.kernel.accessAllowed ? 'block' : 'none';\n",
              "\n",
              "        async function convertToInteractive(key) {\n",
              "          const element = document.querySelector('#df-a88efb0a-7ed7-4736-b0d8-6278c0315940');\n",
              "          const dataTable =\n",
              "            await google.colab.kernel.invokeFunction('convertToInteractive',\n",
              "                                                     [key], {});\n",
              "          if (!dataTable) return;\n",
              "\n",
              "          const docLinkHtml = 'Like what you see? Visit the ' +\n",
              "            '<a target=\"_blank\" href=https://colab.research.google.com/notebooks/data_table.ipynb>data table notebook</a>'\n",
              "            + ' to learn more about interactive tables.';\n",
              "          element.innerHTML = '';\n",
              "          dataTable['output_type'] = 'display_data';\n",
              "          await google.colab.output.renderOutput(dataTable, element);\n",
              "          const docLink = document.createElement('div');\n",
              "          docLink.innerHTML = docLinkHtml;\n",
              "          element.appendChild(docLink);\n",
              "        }\n",
              "      </script>\n",
              "    </div>\n",
              "  </div>\n",
              "  "
            ]
          },
          "metadata": {},
          "execution_count": 31
        }
      ]
    },
    {
      "cell_type": "code",
      "execution_count": null,
      "metadata": {
        "id": "zBEq1X763LQa",
        "colab": {
          "base_uri": "https://localhost:8080/",
          "height": 423
        },
        "outputId": "1fff2f37-696e-4efa-c3e7-20f5610e6f0e"
      },
      "outputs": [
        {
          "output_type": "execute_result",
          "data": {
            "text/plain": [
              "    StockCode  Quantity  UnitPrice\n",
              "0      85123A         6       2.55\n",
              "1       71053         6       3.39\n",
              "2      84406B         8       2.75\n",
              "3      84029G         6       3.39\n",
              "4      84029E         6       3.39\n",
              "..        ...       ...        ...\n",
              "244     21891        12       1.25\n",
              "245     21889        12       1.25\n",
              "246     22827         1     165.00\n",
              "247     22127        12       1.25\n",
              "248     22128        12       1.25\n",
              "\n",
              "[249 rows x 3 columns]"
            ],
            "text/html": [
              "\n",
              "  <div id=\"df-279b3ab4-5b8d-482e-9876-51517498b754\">\n",
              "    <div class=\"colab-df-container\">\n",
              "      <div>\n",
              "<style scoped>\n",
              "    .dataframe tbody tr th:only-of-type {\n",
              "        vertical-align: middle;\n",
              "    }\n",
              "\n",
              "    .dataframe tbody tr th {\n",
              "        vertical-align: top;\n",
              "    }\n",
              "\n",
              "    .dataframe thead th {\n",
              "        text-align: right;\n",
              "    }\n",
              "</style>\n",
              "<table border=\"1\" class=\"dataframe\">\n",
              "  <thead>\n",
              "    <tr style=\"text-align: right;\">\n",
              "      <th></th>\n",
              "      <th>StockCode</th>\n",
              "      <th>Quantity</th>\n",
              "      <th>UnitPrice</th>\n",
              "    </tr>\n",
              "  </thead>\n",
              "  <tbody>\n",
              "    <tr>\n",
              "      <th>0</th>\n",
              "      <td>85123A</td>\n",
              "      <td>6</td>\n",
              "      <td>2.55</td>\n",
              "    </tr>\n",
              "    <tr>\n",
              "      <th>1</th>\n",
              "      <td>71053</td>\n",
              "      <td>6</td>\n",
              "      <td>3.39</td>\n",
              "    </tr>\n",
              "    <tr>\n",
              "      <th>2</th>\n",
              "      <td>84406B</td>\n",
              "      <td>8</td>\n",
              "      <td>2.75</td>\n",
              "    </tr>\n",
              "    <tr>\n",
              "      <th>3</th>\n",
              "      <td>84029G</td>\n",
              "      <td>6</td>\n",
              "      <td>3.39</td>\n",
              "    </tr>\n",
              "    <tr>\n",
              "      <th>4</th>\n",
              "      <td>84029E</td>\n",
              "      <td>6</td>\n",
              "      <td>3.39</td>\n",
              "    </tr>\n",
              "    <tr>\n",
              "      <th>...</th>\n",
              "      <td>...</td>\n",
              "      <td>...</td>\n",
              "      <td>...</td>\n",
              "    </tr>\n",
              "    <tr>\n",
              "      <th>244</th>\n",
              "      <td>21891</td>\n",
              "      <td>12</td>\n",
              "      <td>1.25</td>\n",
              "    </tr>\n",
              "    <tr>\n",
              "      <th>245</th>\n",
              "      <td>21889</td>\n",
              "      <td>12</td>\n",
              "      <td>1.25</td>\n",
              "    </tr>\n",
              "    <tr>\n",
              "      <th>246</th>\n",
              "      <td>22827</td>\n",
              "      <td>1</td>\n",
              "      <td>165.00</td>\n",
              "    </tr>\n",
              "    <tr>\n",
              "      <th>247</th>\n",
              "      <td>22127</td>\n",
              "      <td>12</td>\n",
              "      <td>1.25</td>\n",
              "    </tr>\n",
              "    <tr>\n",
              "      <th>248</th>\n",
              "      <td>22128</td>\n",
              "      <td>12</td>\n",
              "      <td>1.25</td>\n",
              "    </tr>\n",
              "  </tbody>\n",
              "</table>\n",
              "<p>249 rows × 3 columns</p>\n",
              "</div>\n",
              "      <button class=\"colab-df-convert\" onclick=\"convertToInteractive('df-279b3ab4-5b8d-482e-9876-51517498b754')\"\n",
              "              title=\"Convert this dataframe to an interactive table.\"\n",
              "              style=\"display:none;\">\n",
              "        \n",
              "  <svg xmlns=\"http://www.w3.org/2000/svg\" height=\"24px\"viewBox=\"0 0 24 24\"\n",
              "       width=\"24px\">\n",
              "    <path d=\"M0 0h24v24H0V0z\" fill=\"none\"/>\n",
              "    <path d=\"M18.56 5.44l.94 2.06.94-2.06 2.06-.94-2.06-.94-.94-2.06-.94 2.06-2.06.94zm-11 1L8.5 8.5l.94-2.06 2.06-.94-2.06-.94L8.5 2.5l-.94 2.06-2.06.94zm10 10l.94 2.06.94-2.06 2.06-.94-2.06-.94-.94-2.06-.94 2.06-2.06.94z\"/><path d=\"M17.41 7.96l-1.37-1.37c-.4-.4-.92-.59-1.43-.59-.52 0-1.04.2-1.43.59L10.3 9.45l-7.72 7.72c-.78.78-.78 2.05 0 2.83L4 21.41c.39.39.9.59 1.41.59.51 0 1.02-.2 1.41-.59l7.78-7.78 2.81-2.81c.8-.78.8-2.07 0-2.86zM5.41 20L4 18.59l7.72-7.72 1.47 1.35L5.41 20z\"/>\n",
              "  </svg>\n",
              "      </button>\n",
              "      \n",
              "  <style>\n",
              "    .colab-df-container {\n",
              "      display:flex;\n",
              "      flex-wrap:wrap;\n",
              "      gap: 12px;\n",
              "    }\n",
              "\n",
              "    .colab-df-convert {\n",
              "      background-color: #E8F0FE;\n",
              "      border: none;\n",
              "      border-radius: 50%;\n",
              "      cursor: pointer;\n",
              "      display: none;\n",
              "      fill: #1967D2;\n",
              "      height: 32px;\n",
              "      padding: 0 0 0 0;\n",
              "      width: 32px;\n",
              "    }\n",
              "\n",
              "    .colab-df-convert:hover {\n",
              "      background-color: #E2EBFA;\n",
              "      box-shadow: 0px 1px 2px rgba(60, 64, 67, 0.3), 0px 1px 3px 1px rgba(60, 64, 67, 0.15);\n",
              "      fill: #174EA6;\n",
              "    }\n",
              "\n",
              "    [theme=dark] .colab-df-convert {\n",
              "      background-color: #3B4455;\n",
              "      fill: #D2E3FC;\n",
              "    }\n",
              "\n",
              "    [theme=dark] .colab-df-convert:hover {\n",
              "      background-color: #434B5C;\n",
              "      box-shadow: 0px 1px 3px 1px rgba(0, 0, 0, 0.15);\n",
              "      filter: drop-shadow(0px 1px 2px rgba(0, 0, 0, 0.3));\n",
              "      fill: #FFFFFF;\n",
              "    }\n",
              "  </style>\n",
              "\n",
              "      <script>\n",
              "        const buttonEl =\n",
              "          document.querySelector('#df-279b3ab4-5b8d-482e-9876-51517498b754 button.colab-df-convert');\n",
              "        buttonEl.style.display =\n",
              "          google.colab.kernel.accessAllowed ? 'block' : 'none';\n",
              "\n",
              "        async function convertToInteractive(key) {\n",
              "          const element = document.querySelector('#df-279b3ab4-5b8d-482e-9876-51517498b754');\n",
              "          const dataTable =\n",
              "            await google.colab.kernel.invokeFunction('convertToInteractive',\n",
              "                                                     [key], {});\n",
              "          if (!dataTable) return;\n",
              "\n",
              "          const docLinkHtml = 'Like what you see? Visit the ' +\n",
              "            '<a target=\"_blank\" href=https://colab.research.google.com/notebooks/data_table.ipynb>data table notebook</a>'\n",
              "            + ' to learn more about interactive tables.';\n",
              "          element.innerHTML = '';\n",
              "          dataTable['output_type'] = 'display_data';\n",
              "          await google.colab.output.renderOutput(dataTable, element);\n",
              "          const docLink = document.createElement('div');\n",
              "          docLink.innerHTML = docLinkHtml;\n",
              "          element.appendChild(docLink);\n",
              "        }\n",
              "      </script>\n",
              "    </div>\n",
              "  </div>\n",
              "  "
            ]
          },
          "metadata": {},
          "execution_count": 45
        }
      ],
      "source": [
        "features = ['StockCode','Quantity','UnitPrice']\n",
        "df_ecommerce[features]"
      ]
    },
    {
      "cell_type": "markdown",
      "source": [
        "##Numpy"
      ],
      "metadata": {
        "id": "T9WU75hEwpuj"
      }
    },
    {
      "cell_type": "markdown",
      "source": [
        "####Exercise 1"
      ],
      "metadata": {
        "id": "-rzcBNz6wu3K"
      }
    },
    {
      "cell_type": "markdown",
      "source": [
        "1. create a 3×3 numpy array of all True’s "
      ],
      "metadata": {
        "id": "Qq4etjMsw0Za"
      }
    },
    {
      "cell_type": "code",
      "source": [
        "np.ones((3,3), dtype=bool)"
      ],
      "metadata": {
        "id": "sAxI5US7xF1K",
        "colab": {
          "base_uri": "https://localhost:8080/"
        },
        "outputId": "05eec63f-8bc7-40ea-9a54-1ce9b5a149d1"
      },
      "execution_count": null,
      "outputs": [
        {
          "output_type": "execute_result",
          "data": {
            "text/plain": [
              "array([[ True,  True,  True],\n",
              "       [ True,  True,  True],\n",
              "       [ True,  True,  True]])"
            ]
          },
          "metadata": {},
          "execution_count": 35
        }
      ]
    },
    {
      "cell_type": "markdown",
      "source": [
        "2.\tExtract all odd numbers from arr = np.array([0, 1, 2, 3, 4, 5, 6, 7, 8, 9])                "
      ],
      "metadata": {
        "id": "GyMbVOiHxE6L"
      }
    },
    {
      "cell_type": "code",
      "source": [
        "arr = np.array([0, 1, 2, 3, 4, 5, 6, 7, 8, 9])\n",
        "arr[arr % 2 == 1]"
      ],
      "metadata": {
        "colab": {
          "base_uri": "https://localhost:8080/"
        },
        "id": "MxgFL2Tc6nAC",
        "outputId": "c34c7ba3-2a72-40cc-97de-4d4fa1d55c69"
      },
      "execution_count": null,
      "outputs": [
        {
          "output_type": "execute_result",
          "data": {
            "text/plain": [
              "array([1, 3, 5, 7, 9])"
            ]
          },
          "metadata": {},
          "execution_count": 36
        }
      ]
    },
    {
      "cell_type": "markdown",
      "source": [
        "3.\tGiven the following numpy array: arr= np.array([2,4,6,8,10]).\n",
        "\n",
        " Write a python code to print the last two elements. "
      ],
      "metadata": {
        "id": "C6cXvkhmxLP6"
      }
    },
    {
      "cell_type": "code",
      "source": [
        "arr= np.array([2,4,6,8,10])\n",
        "print(arr[3:])\n"
      ],
      "metadata": {
        "id": "jf0GZwucwz1q",
        "colab": {
          "base_uri": "https://localhost:8080/"
        },
        "outputId": "b395eef1-f2f9-4e50-e85d-b8ae3283e7ae"
      },
      "execution_count": null,
      "outputs": [
        {
          "output_type": "stream",
          "name": "stdout",
          "text": [
            "[ 8 10]\n"
          ]
        }
      ]
    },
    {
      "cell_type": "markdown",
      "source": [
        "4. Get all items between 5 and 10 from arr = np.array([2, 6, 1, 9, 10, 3, 27])"
      ],
      "metadata": {
        "id": "s4CTsNnMxR3i"
      }
    },
    {
      "cell_type": "code",
      "source": [
        "arr = np.array([2, 6, 1, 9, 10, 3, 27])\n",
        "arr[(arr >= 5) & (arr <= 10)]"
      ],
      "metadata": {
        "id": "tfYvACPrxcIC",
        "colab": {
          "base_uri": "https://localhost:8080/"
        },
        "outputId": "5f853d78-3f01-4aba-bfcf-81fc017640d8"
      },
      "execution_count": null,
      "outputs": [
        {
          "output_type": "execute_result",
          "data": {
            "text/plain": [
              "array([ 6,  9, 10])"
            ]
          },
          "metadata": {},
          "execution_count": 11
        }
      ]
    },
    {
      "cell_type": "markdown",
      "source": [
        "5.\tGiven the following numpy array: np.array([ 30, 26, 21, 8, 0, 15]). If the \n",
        "\n",
        "\n",
        "element greater than 20 replace it with two. Otherwise, keep it as is. "
      ],
      "metadata": {
        "id": "qxpwYQH9xcV6"
      }
    },
    {
      "cell_type": "code",
      "source": [
        "x = np.array([ 30, 26, 21, 8, 0, 15])\n",
        "result=np.where(x > 20, 2, x)\n",
        "print(result)\n"
      ],
      "metadata": {
        "id": "JIvkIu9VxhKi",
        "colab": {
          "base_uri": "https://localhost:8080/"
        },
        "outputId": "7ea093aa-95df-4f37-b180-65317c8e589c"
      },
      "execution_count": null,
      "outputs": [
        {
          "output_type": "stream",
          "name": "stdout",
          "text": [
            "[ 2  2  2  8  0 15]\n"
          ]
        }
      ]
    },
    {
      "cell_type": "markdown",
      "source": [
        "6. \tWrite a python code to create 4x2 numpy array with all elements set to 0. Then, add this row [[1,2]] to it.  "
      ],
      "metadata": {
        "id": "Ley6XouHxhbS"
      }
    },
    {
      "cell_type": "code",
      "source": [
        "arr = np.zeros((4, 2))\n",
        "arr= np.append(arr,[[1,2]], axis = 0)\n",
        "print(arr)\n"
      ],
      "metadata": {
        "id": "Sc_pYSDLxyxT",
        "colab": {
          "base_uri": "https://localhost:8080/"
        },
        "outputId": "e10db9a9-83a0-475a-889b-350baeda987b"
      },
      "execution_count": null,
      "outputs": [
        {
          "output_type": "stream",
          "name": "stdout",
          "text": [
            "[[0. 0.]\n",
            " [0. 0.]\n",
            " [0. 0.]\n",
            " [0. 0.]\n",
            " [1. 2.]]\n"
          ]
        }
      ]
    },
    {
      "cell_type": "markdown",
      "source": [
        "7. Convert the following list to a Numpy array. Print the datatype for the array; justify your answer.\n",
        "\n",
        "\n",
        "\n",
        "```\n",
        "lt = [1,2,3,4,'D','S',9]\n",
        "```\n",
        "\n",
        "\n"
      ],
      "metadata": {
        "id": "htbk-PhM1q_A"
      }
    },
    {
      "cell_type": "code",
      "source": [
        "lt = [1,2,3,4,'D','S',9]\n",
        "arr = np.array(lt)\n",
        "arr"
      ],
      "metadata": {
        "colab": {
          "base_uri": "https://localhost:8080/"
        },
        "id": "gKZrszeI6-lR",
        "outputId": "7ba9f5a2-1a16-47e8-8efe-2cc2ecc2b7f5"
      },
      "execution_count": null,
      "outputs": [
        {
          "output_type": "execute_result",
          "data": {
            "text/plain": [
              "array(['1', '2', '3', '4', 'D', 'S', '9'], dtype='<U21')"
            ]
          },
          "metadata": {},
          "execution_count": 43
        }
      ]
    },
    {
      "cell_type": "markdown",
      "source": [
        "###Reference \n",
        "\n",
        "\n",
        "*   https://www.kaggle.com/datasets/carrie1/ecommerce-data\n",
        "\n"
      ],
      "metadata": {
        "id": "gPWuyYcYaYTa"
      }
    },
    {
      "cell_type": "code",
      "source": [],
      "metadata": {
        "id": "f85eWxbCagPX"
      },
      "execution_count": null,
      "outputs": []
    }
  ]
}