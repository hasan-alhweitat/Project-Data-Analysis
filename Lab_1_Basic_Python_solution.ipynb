{
  "nbformat": 4,
  "nbformat_minor": 0,
  "metadata": {
    "colab": {
      "provenance": [],
      "collapsed_sections": [
        "RZeY4HM1tXX5",
        "jFCaBbxiteST",
        "UbMmRh-7tec6"
      ]
    },
    "kernelspec": {
      "name": "python3",
      "display_name": "Python 3"
    },
    "language_info": {
      "name": "python"
    }
  },
  "cells": [
    {
      "cell_type": "markdown",
      "source": [
        "### **Q1: Data Types**"
      ],
      "metadata": {
        "id": "RZeY4HM1tXX5"
      }
    },
    {
      "cell_type": "markdown",
      "source": [
        "1.1 Convert the following two lists as one dictionary, where l1 is list of dictionary's keys and l2 is a list of dictionary's values:\n",
        "\n",
        "**l1 = ['a', 'b', 'c','d']**\n",
        "\n",
        "**l2 = ['1', '2', '3','4']**"
      ],
      "metadata": {
        "id": "iDWO-mw5uIsB"
      }
    },
    {
      "cell_type": "code",
      "source": [
        "l1 = ['a', 'b', 'c','d']\n",
        "\n",
        "l2 = ['1', '2', '3','4']"
      ],
      "metadata": {
        "id": "TqGcpaWJFF6H"
      },
      "execution_count": null,
      "outputs": []
    },
    {
      "cell_type": "code",
      "source": [
        "dict1 = {\"a\":\"1\",\"b\":\"2\",\"c\":\"3\",\"d\":\"4\"}\n",
        "dict1"
      ],
      "metadata": {
        "id": "Fpf2Os7BuVbo",
        "colab": {
          "base_uri": "https://localhost:8080/"
        },
        "outputId": "93a78bf1-6372-42a1-aa83-0add275828da"
      },
      "execution_count": null,
      "outputs": [
        {
          "output_type": "execute_result",
          "data": {
            "text/plain": [
              "{'a': '1', 'b': '2', 'c': '3', 'd': '4'}"
            ]
          },
          "metadata": {},
          "execution_count": 4
        }
      ]
    },
    {
      "cell_type": "code",
      "source": [
        "dict2 = {}\n",
        "for i in range(0,len(l1)):\n",
        "  dict2[l1[i]] = l2[i] "
      ],
      "metadata": {
        "id": "TapmGG2XEyum"
      },
      "execution_count": null,
      "outputs": []
    },
    {
      "cell_type": "code",
      "source": [
        "dict2"
      ],
      "metadata": {
        "colab": {
          "base_uri": "https://localhost:8080/"
        },
        "id": "ZPvhKi-aFNVr",
        "outputId": "cf3a1791-e99a-4866-eeb2-54386c077b71"
      },
      "execution_count": null,
      "outputs": [
        {
          "output_type": "execute_result",
          "data": {
            "text/plain": [
              "{'a': '1', 'b': '2', 'c': '3', 'd': '4'}"
            ]
          },
          "metadata": {},
          "execution_count": 7
        }
      ]
    },
    {
      "cell_type": "markdown",
      "source": [
        "1.2 Write a Python code to sort the following tuple elements ascending, the result must be shown as sorted tuple.\n",
        "\n",
        "**tuple1 = (1,2,6,4,3,0)**"
      ],
      "metadata": {
        "id": "cQA8vPCdt0n2"
      }
    },
    {
      "cell_type": "code",
      "source": [
        "tuple1 = (1,2,6,4,3,0)\n",
        "tuple(sorted(tuple1))"
      ],
      "metadata": {
        "id": "NnWlAjX6t0Fn",
        "colab": {
          "base_uri": "https://localhost:8080/"
        },
        "outputId": "0c1add22-97dc-44d4-9d05-9a2da136d807"
      },
      "execution_count": null,
      "outputs": [
        {
          "output_type": "execute_result",
          "data": {
            "text/plain": [
              "(0, 1, 2, 3, 4, 6)"
            ]
          },
          "metadata": {},
          "execution_count": 11
        }
      ]
    },
    {
      "cell_type": "markdown",
      "source": [
        "1.3 Write a Python code to multiply the values of the following dictionary by two:\n",
        "\n",
        "**my_dict = {'data1':100,'data2':-54,'data3':247}**\n"
      ],
      "metadata": {
        "id": "zD7EyDPLt9rd"
      }
    },
    {
      "cell_type": "code",
      "execution_count": null,
      "metadata": {
        "id": "wMmQZHF2sqUZ",
        "colab": {
          "base_uri": "https://localhost:8080/"
        },
        "outputId": "603edea4-76cb-4367-b8b7-9a7100d584e1"
      },
      "outputs": [
        {
          "output_type": "stream",
          "name": "stdout",
          "text": [
            "200\n",
            "-108\n",
            "494\n"
          ]
        }
      ],
      "source": [
        "my_dict = {'data1':100,'data2':-54,'data3':247}\n",
        "for i in my_dict:\n",
        "  print(my_dict[i] * 2)"
      ]
    },
    {
      "cell_type": "markdown",
      "source": [
        "1.4 If you have the following two lists: \n",
        "\n",
        "**[1,2,3,4,5,6]**\n",
        "\n",
        "**[2,6,7,8,10]**\n",
        "\n",
        "Write a Python code to concatenate the two lists in a new list and remove duplicates if found."
      ],
      "metadata": {
        "id": "eM3XG1-_ud9E"
      }
    },
    {
      "cell_type": "code",
      "source": [
        "l1 = [1,2,3,4,5,6]\n",
        "l2 = [2,6,7,8,10]\n",
        "l3 = l1+l2\n",
        "res=[]"
      ],
      "metadata": {
        "id": "P7oJEZZzudNe"
      },
      "execution_count": null,
      "outputs": []
    },
    {
      "cell_type": "code",
      "source": [
        "for x in l3:\n",
        "  if x not in res:\n",
        "    res.append(x)\n",
        "print(res)"
      ],
      "metadata": {
        "colab": {
          "base_uri": "https://localhost:8080/"
        },
        "id": "9Gq0WNqMIZTc",
        "outputId": "7d220756-c1f4-457f-db32-6f7120421775"
      },
      "execution_count": null,
      "outputs": [
        {
          "output_type": "stream",
          "name": "stdout",
          "text": [
            "[1, 2, 3, 4, 5, 6, 7, 8, 10]\n"
          ]
        }
      ]
    },
    {
      "cell_type": "markdown",
      "source": [
        "### **Q2: For/If**"
      ],
      "metadata": {
        "id": "jFCaBbxiteST"
      }
    },
    {
      "cell_type": "markdown",
      "source": [
        "**2.1** Write a python code to get all combinations of the following two lists:\n",
        "\n",
        "**first = [2, 3, 4]**\n",
        "\n",
        "**second = [20, 30, 40]**\n",
        "\n",
        "The result must be as follow: \n",
        "\n",
        "**final = [22, 32, 42, 23, 33, 43, 24, 34, 44]**"
      ],
      "metadata": {
        "id": "LUDoFfDuvPPT"
      }
    },
    {
      "cell_type": "code",
      "execution_count": null,
      "metadata": {
        "id": "hUrwKMHeteST",
        "colab": {
          "base_uri": "https://localhost:8080/"
        },
        "outputId": "e886aa90-4302-4c88-ecc8-e75f4c91085a"
      },
      "outputs": [
        {
          "output_type": "execute_result",
          "data": {
            "text/plain": [
              "[22, 32, 42, 23, 33, 43, 24, 34, 44]"
            ]
          },
          "metadata": {},
          "execution_count": 25
        }
      ],
      "source": [
        "first = [2, 3, 4]\n",
        "second = [20, 30, 40]\n",
        "final = []\n",
        "for i in first:\n",
        "  for j in second:\n",
        "    final.append(i+j)\n",
        "final"
      ]
    },
    {
      "cell_type": "code",
      "source": [],
      "metadata": {
        "id": "i51vml41v4Yj"
      },
      "execution_count": null,
      "outputs": []
    },
    {
      "cell_type": "markdown",
      "source": [
        "**2.2** Write a python code that defines and compares two lists and print True if they have at least one common member.\n",
        "\n",
        "**list1 = [1,2,3]**\n",
        "\n",
        "**list2 = [4,5,6]**\n",
        "\n"
      ],
      "metadata": {
        "id": "cmpumpvpv0eJ"
      }
    },
    {
      "cell_type": "code",
      "source": [
        "list1 = [1,2,3]\n",
        "\n",
        "list2 = [4,5,6]\n",
        "for i in list1:\n",
        "  if i in list2:\n",
        "    print(True)\n",
        "    break"
      ],
      "metadata": {
        "id": "FwoM_y7WvJBl",
        "colab": {
          "base_uri": "https://localhost:8080/"
        },
        "outputId": "a52a4f23-8546-41db-9234-a2d7f8dcb42b"
      },
      "execution_count": null,
      "outputs": [
        {
          "output_type": "stream",
          "name": "stdout",
          "text": [
            "True\n"
          ]
        }
      ]
    },
    {
      "cell_type": "markdown",
      "source": [
        "**2.3** Assume you have the following dictionary:\n",
        "\n",
        "**my_dict = {'fifty': 50, 'twenty': 20, 'thirty': 30, 'ten': 10}**\n",
        "\n",
        "Create a new list that contains all values in the previous dictionary plus 3.\n"
      ],
      "metadata": {
        "id": "qK-nh_oNwJ_g"
      }
    },
    {
      "cell_type": "code",
      "source": [
        "my_dict = {'fifty': 50, 'twenty': 20, 'thirty': 30, 'ten': 10}\n",
        "for i in my_dict:\n",
        "  my_dict[i] = my_dict[i] + 3"
      ],
      "metadata": {
        "id": "QoeHDHCmvI3Z"
      },
      "execution_count": null,
      "outputs": []
    },
    {
      "cell_type": "code",
      "source": [
        "my_dict"
      ],
      "metadata": {
        "colab": {
          "base_uri": "https://localhost:8080/"
        },
        "id": "_IEwTXPkXuk2",
        "outputId": "6a189169-1f01-4b0f-b924-0df44d7e31d5"
      },
      "execution_count": null,
      "outputs": [
        {
          "output_type": "execute_result",
          "data": {
            "text/plain": [
              "{'fifty': 53, 'twenty': 23, 'thirty': 33, 'ten': 13}"
            ]
          },
          "metadata": {},
          "execution_count": 30
        }
      ]
    },
    {
      "cell_type": "markdown",
      "source": [
        "### **Q3: Functions**"
      ],
      "metadata": {
        "id": "UbMmRh-7tec6"
      }
    },
    {
      "cell_type": "markdown",
      "source": [
        "**3.1** Write a Python function that takes a list and returns a new list with unique elements of the first list.\n",
        "\n",
        "**Sample List : [1,2,3,3,3,3,4,5]**\n"
      ],
      "metadata": {
        "id": "t6PcBPX8xWfz"
      }
    },
    {
      "cell_type": "code",
      "execution_count": null,
      "metadata": {
        "id": "wV32ST5Ptec8",
        "colab": {
          "base_uri": "https://localhost:8080/"
        },
        "outputId": "ce856baf-ba15-4fc7-ee8f-c4b64ee37812"
      },
      "outputs": [
        {
          "output_type": "execute_result",
          "data": {
            "text/plain": [
              "[1, 2, 3, 4, 5]"
            ]
          },
          "metadata": {},
          "execution_count": 3
        }
      ],
      "source": [
        "def unqLt(ls1):\n",
        "  res=[]\n",
        "  for i in ls1:\n",
        "    if i not in res:\n",
        "      res.append(i)\n",
        "  return res\n",
        "\n",
        "\n",
        "unqLt([1,2,3,3,3,3,4,5])  "
      ]
    },
    {
      "cell_type": "markdown",
      "source": [
        "**3.2** Write a Python function that receives two numbers swap them and return them. Then, call it and print the values before and after swapping."
      ],
      "metadata": {
        "id": "i8LukUlexiCa"
      }
    },
    {
      "cell_type": "code",
      "source": [
        "def swap(a,b):\n",
        "  return b,a\n",
        "\n",
        "a,b = 2,3\n",
        "a,b = swap(a,b)\n",
        "print(a,b)"
      ],
      "metadata": {
        "id": "AlfraSkoxh0h",
        "colab": {
          "base_uri": "https://localhost:8080/"
        },
        "outputId": "3502addc-42a5-4776-9182-46508439b0d1"
      },
      "execution_count": null,
      "outputs": [
        {
          "output_type": "stream",
          "name": "stdout",
          "text": [
            "3 2\n"
          ]
        }
      ]
    },
    {
      "cell_type": "markdown",
      "source": [
        "**3.3** Write a function to check if a given value is from 10 to 20. Print True if yes and False is else."
      ],
      "metadata": {
        "id": "JGYkxyrlxoy2"
      }
    },
    {
      "cell_type": "code",
      "source": [
        "def checkNum(val):\n",
        "  if val > 10 and val < 20:\n",
        "    return True\n",
        "  else:\n",
        "    return False"
      ],
      "metadata": {
        "id": "tO71__FBxokz"
      },
      "execution_count": null,
      "outputs": []
    },
    {
      "cell_type": "markdown",
      "source": [
        "**3.4** Write a function to multiply given value by 2 if it is less than 10. If not return the unmodified same value."
      ],
      "metadata": {
        "id": "Hdwzj90Gxvtg"
      }
    },
    {
      "cell_type": "code",
      "source": [],
      "metadata": {
        "id": "EQZ5ZdJJxvFH"
      },
      "execution_count": null,
      "outputs": []
    }
  ]
}