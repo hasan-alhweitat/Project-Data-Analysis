{
  "nbformat": 4,
  "nbformat_minor": 0,
  "metadata": {
    "colab": {
      "provenance": [],
      "collapsed_sections": [
        "0MmxvbPZMLR7",
        "aEFJTASvMkCR",
        "Syr5bbnLMut3",
        "ABDDnh0JNADO",
        "OqahT4sDNNl3",
        "3TqTEQ2gNZ7G",
        "VLIJqfKgMQDn",
        "FEvAQ-C_N_lA",
        "iL4QRSOrOFP-",
        "A5EcgwVhO0Wt",
        "4wZ09tiQPc8V",
        "fmRBy5eUPoHk",
        "nch914SYP3B8",
        "n3C33gs9USA_",
        "-KhzA768Uo9M",
        "cA_ExA0vUzGM",
        "C97bhkczU6iR",
        "gMNjhMK1T6js",
        "YKB55xwb6vzz"
      ]
    },
    "kernelspec": {
      "name": "python3",
      "display_name": "Python 3"
    },
    "language_info": {
      "name": "python"
    }
  },
  "cells": [
    {
      "cell_type": "code",
      "execution_count": null,
      "metadata": {
        "id": "k5Dt-pIjMGuG"
      },
      "outputs": [],
      "source": [
        "import pandas as pd\n",
        "import numpy as np\n",
        "import seaborn as sns\n",
        "import matplotlib.pyplot as plt\n",
        "from scipy.stats import zscore, stats"
      ]
    },
    {
      "cell_type": "markdown",
      "source": [
        "# **Measure of Position**"
      ],
      "metadata": {
        "id": "0MmxvbPZMLR7"
      }
    },
    {
      "cell_type": "markdown",
      "source": [
        "### Q1: Read emplyees.csv dataset\n"
      ],
      "metadata": {
        "id": "aEFJTASvMkCR"
      }
    },
    {
      "cell_type": "code",
      "execution_count": null,
      "metadata": {
        "id": "FXk5QwA7Bi5H"
      },
      "outputs": [],
      "source": [
        "df = pd.read_csv(\"/content/drive/MyDrive/Data Analytics/employees.csv\")"
      ]
    },
    {
      "cell_type": "markdown",
      "source": [
        "### Q2: Calculate the 10th, 60th, and 90th percentiles of the salary column\n",
        "\n",
        "> Hint: use np.percentile()\n",
        "\n",
        "\n"
      ],
      "metadata": {
        "id": "Syr5bbnLMut3"
      }
    },
    {
      "cell_type": "code",
      "source": [
        "percentiles = np.percentile(df['salary'], [10, 60, 90])\n",
        "print(\"10th Percentile: \", percentiles[0])\n",
        "print(\"60th Percentile: \", percentiles[1])\n",
        "print(\"90th Percentile: \", percentiles[2])"
      ],
      "metadata": {
        "id": "tKbSCTKIB3PC"
      },
      "execution_count": null,
      "outputs": []
    },
    {
      "cell_type": "markdown",
      "source": [
        "### Q3: Calculate the quartiles of the salary column\n",
        "\n",
        "> Hint: use column_name.quantile([])\n",
        "\n"
      ],
      "metadata": {
        "id": "ABDDnh0JNADO"
      }
    },
    {
      "cell_type": "code",
      "source": [
        "quartiles = df['salary'].quantile([0.25, 0.5, 0.75])\n",
        "print(\"25th Quartile: \", quartiles[0.25])\n",
        "print(\"50th Quartile: \", quartiles[0.5])\n",
        "print(\"75th Quartile: \", quartiles[0.75])"
      ],
      "metadata": {
        "id": "R-haqch3CByc"
      },
      "execution_count": null,
      "outputs": []
    },
    {
      "cell_type": "markdown",
      "source": [
        "### Q4: Calculate the deciles of the salary column\n",
        "\n",
        "> Hint: use np.percentile()\n",
        "\n",
        "\n"
      ],
      "metadata": {
        "id": "OqahT4sDNNl3"
      }
    },
    {
      "cell_type": "code",
      "source": [
        "deciles = np.percentile(df['salary'], np.arange(10, 100, 10))\n",
        "for i, decile in enumerate(deciles):\n",
        "    print(f\"{(i+1)*10}th Decile: {decile}\")"
      ],
      "metadata": {
        "id": "xLn6WHySFp2X"
      },
      "execution_count": null,
      "outputs": []
    },
    {
      "cell_type": "markdown",
      "source": [
        "### Q5: Calculate the z-score of the salary column"
      ],
      "metadata": {
        "id": "3TqTEQ2gNZ7G"
      }
    },
    {
      "cell_type": "code",
      "source": [
        "mean = df['salary'].mean()\n",
        "std = df['salary'].std()\n",
        "df['z-score'] = (df['salary'] - mean) / std\n",
        "df['z-score']"
      ],
      "metadata": {
        "id": "vzclRzd9Ft11"
      },
      "execution_count": null,
      "outputs": []
    },
    {
      "cell_type": "markdown",
      "source": [
        "# **Outlier Detections**"
      ],
      "metadata": {
        "id": "VLIJqfKgMQDn"
      }
    },
    {
      "cell_type": "markdown",
      "source": [
        "### Q1: Load the sales dataset\n"
      ],
      "metadata": {
        "id": "FEvAQ-C_N_lA"
      }
    },
    {
      "cell_type": "code",
      "execution_count": null,
      "metadata": {
        "id": "jxtX36w14pzZ"
      },
      "outputs": [],
      "source": [
        "sales_df = pd.read_csv('/content/sales_data_ lab6.csv')"
      ]
    },
    {
      "cell_type": "markdown",
      "source": [
        "### Q2: Visual the sales amount feature using histogram chart\n"
      ],
      "metadata": {
        "id": "iL4QRSOrOFP-"
      }
    },
    {
      "cell_type": "code",
      "source": [
        "sns.histplot(sales_df['sales amount'])\n",
        "plt.show()"
      ],
      "metadata": {
        "colab": {
          "base_uri": "https://localhost:8080/",
          "height": 449
        },
        "id": "J6ZziQsH45Xz",
        "outputId": "e9d32010-4573-4222-9a45-998e9941bfcf"
      },
      "execution_count": null,
      "outputs": [
        {
          "output_type": "display_data",
          "data": {
            "text/plain": [
              "<Figure size 640x480 with 1 Axes>"
            ],
            "image/png": "[encoded data removed]"
          },
          "metadata": {}
        }
      ]
    },
    {
      "cell_type": "markdown",
      "source": [
        "### Q3: Check if there is outlier in 'sales amount' feature or not based on Z-score method\n"
      ],
      "metadata": {
        "id": "A5EcgwVhO0Wt"
      }
    },
    {
      "cell_type": "code",
      "source": [
        "mean = sales_df['sales amount'].mean()\n",
        "std = sales_df['sales amount'].std()\n",
        "sales_df['z_score'] = (sales_df['sales amount'] - mean) / std"
      ],
      "metadata": {
        "id": "n13Y64UjR7Dl"
      },
      "execution_count": null,
      "outputs": []
    },
    {
      "cell_type": "code",
      "source": [
        "sales_df['outlier_zscore'] = sales_df[(sales_df['z_score'] > 3) | (sales_df['z_score'] < -3)]\n",
        "outliers_zscore = sales_df[sales_df['outlier_zscore'] == True]\n",
        "outliers_zscore"
      ],
      "metadata": {
        "colab": {
          "base_uri": "https://localhost:8080/",
          "height": 174
        },
        "id": "-7Z1oZEdSEY9",
        "outputId": "b0fabc0d-c84d-4297-decc-5948a8860d48"
      },
      "execution_count": null,
      "outputs": [
        {
          "output_type": "execute_result",
          "data": {
            "text/plain": [
              "    customer ID product ID transaction ID date of purchase  sales amount  \\\n",
              "149      AB0424     P01012        Tr85103        2/28/2023          4500   \n",
              "243      AB0420     P01011        Tr85197         2/9/2023          4200   \n",
              "441      AB1228     P01010        Tr85395         2/4/2023          4500   \n",
              "488      AB0595     P01013        Tr85442        1/25/2023          4000   \n",
              "\n",
              "      z_score  outlier_zscore  \n",
              "149  4.486800            True  \n",
              "243  4.064532            True  \n",
              "441  4.486800            True  \n",
              "488  3.783020            True  "
            ],
            "text/html": [
              "\n",
              "  <div id=\"df-c082fb81-d5e9-47aa-87f4-7b640d02f0b8\">\n",
              "    <div class=\"colab-df-container\">\n",
              "      <div>\n",
              "<style scoped>\n",
              "    .dataframe tbody tr th:only-of-type {\n",
              "        vertical-align: middle;\n",
              "    }\n",
              "\n",
              "    .dataframe tbody tr th {\n",
              "        vertical-align: top;\n",
              "    }\n",
              "\n",
              "    .dataframe thead th {\n",
              "        text-align: right;\n",
              "    }\n",
              "</style>\n",
              "<table border=\"1\" class=\"dataframe\">\n",
              "  <thead>\n",
              "    <tr style=\"text-align: right;\">\n",
              "      <th></th>\n",
              "      <th>customer ID</th>\n",
              "      <th>product ID</th>\n",
              "      <th>transaction ID</th>\n",
              "      <th>date of purchase</th>\n",
              "      <th>sales amount</th>\n",
              "      <th>z_score</th>\n",
              "      <th>outlier_zscore</th>\n",
              "    </tr>\n",
              "  </thead>\n",
              "  <tbody>\n",
              "    <tr>\n",
              "      <th>149</th>\n",
              "      <td>AB0424</td>\n",
              "      <td>P01012</td>\n",
              "      <td>Tr85103</td>\n",
              "      <td>2/28/2023</td>\n",
              "      <td>4500</td>\n",
              "      <td>4.486800</td>\n",
              "      <td>True</td>\n",
              "    </tr>\n",
              "    <tr>\n",
              "      <th>243</th>\n",
              "      <td>AB0420</td>\n",
              "      <td>P01011</td>\n",
              "      <td>Tr85197</td>\n",
              "      <td>2/9/2023</td>\n",
              "      <td>4200</td>\n",
              "      <td>4.064532</td>\n",
              "      <td>True</td>\n",
              "    </tr>\n",
              "    <tr>\n",
              "      <th>441</th>\n",
              "      <td>AB1228</td>\n",
              "      <td>P01010</td>\n",
              "      <td>Tr85395</td>\n",
              "      <td>2/4/2023</td>\n",
              "      <td>4500</td>\n",
              "      <td>4.486800</td>\n",
              "      <td>True</td>\n",
              "    </tr>\n",
              "    <tr>\n",
              "      <th>488</th>\n",
              "      <td>AB0595</td>\n",
              "      <td>P01013</td>\n",
              "      <td>Tr85442</td>\n",
              "      <td>1/25/2023</td>\n",
              "      <td>4000</td>\n",
              "      <td>3.783020</td>\n",
              "      <td>True</td>\n",
              "    </tr>\n",
              "  </tbody>\n",
              "</table>\n",
              "</div>\n",
              "      <button class=\"colab-df-convert\" onclick=\"convertToInteractive('df-c082fb81-d5e9-47aa-87f4-7b640d02f0b8')\"\n",
              "              title=\"Convert this dataframe to an interactive table.\"\n",
              "              style=\"display:none;\">\n",
              "        \n",
              "  <svg xmlns=\"http://www.w3.org/2000/svg\" height=\"24px\"viewBox=\"0 0 24 24\"\n",
              "       width=\"24px\">\n",
              "    <path d=\"M0 0h24v24H0V0z\" fill=\"none\"/>\n",
              "    <path d=\"M18.56 5.44l.94 2.06.94-2.06 2.06-.94-2.06-.94-.94-2.06-.94 2.06-2.06.94zm-11 1L8.5 8.5l.94-2.06 2.06-.94-2.06-.94L8.5 2.5l-.94 2.06-2.06.94zm10 10l.94 2.06.94-2.06 2.06-.94-2.06-.94-.94-2.06-.94 2.06-2.06.94z\"/><path d=\"M17.41 7.96l-1.37-1.37c-.4-.4-.92-.59-1.43-.59-.52 0-1.04.2-1.43.59L10.3 9.45l-7.72 7.72c-.78.78-.78 2.05 0 2.83L4 21.41c.39.39.9.59 1.41.59.51 0 1.02-.2 1.41-.59l7.78-7.78 2.81-2.81c.8-.78.8-2.07 0-2.86zM5.41 20L4 18.59l7.72-7.72 1.47 1.35L5.41 20z\"/>\n",
              "  </svg>\n",
              "      </button>\n",
              "      \n",
              "  <style>\n",
              "    .colab-df-container {\n",
              "      display:flex;\n",
              "      flex-wrap:wrap;\n",
              "      gap: 12px;\n",
              "    }\n",
              "\n",
              "    .colab-df-convert {\n",
              "      background-color: #E8F0FE;\n",
              "      border: none;\n",
              "      border-radius: 50%;\n",
              "      cursor: pointer;\n",
              "      display: none;\n",
              "      fill: #1967D2;\n",
              "      height: 32px;\n",
              "      padding: 0 0 0 0;\n",
              "      width: 32px;\n",
              "    }\n",
              "\n",
              "    .colab-df-convert:hover {\n",
              "      background-color: #E2EBFA;\n",
              "      box-shadow: 0px 1px 2px rgba(60, 64, 67, 0.3), 0px 1px 3px 1px rgba(60, 64, 67, 0.15);\n",
              "      fill: #174EA6;\n",
              "    }\n",
              "\n",
              "    [theme=dark] .colab-df-convert {\n",
              "      background-color: #3B4455;\n",
              "      fill: #D2E3FC;\n",
              "    }\n",
              "\n",
              "    [theme=dark] .colab-df-convert:hover {\n",
              "      background-color: #434B5C;\n",
              "      box-shadow: 0px 1px 3px 1px rgba(0, 0, 0, 0.15);\n",
              "      filter: drop-shadow(0px 1px 2px rgba(0, 0, 0, 0.3));\n",
              "      fill: #FFFFFF;\n",
              "    }\n",
              "  </style>\n",
              "\n",
              "      <script>\n",
              "        const buttonEl =\n",
              "          document.querySelector('#df-c082fb81-d5e9-47aa-87f4-7b640d02f0b8 button.colab-df-convert');\n",
              "        buttonEl.style.display =\n",
              "          google.colab.kernel.accessAllowed ? 'block' : 'none';\n",
              "\n",
              "        async function convertToInteractive(key) {\n",
              "          const element = document.querySelector('#df-c082fb81-d5e9-47aa-87f4-7b640d02f0b8');\n",
              "          const dataTable =\n",
              "            await google.colab.kernel.invokeFunction('convertToInteractive',\n",
              "                                                     [key], {});\n",
              "          if (!dataTable) return;\n",
              "\n",
              "          const docLinkHtml = 'Like what you see? Visit the ' +\n",
              "            '<a target=\"_blank\" href=https://colab.research.google.com/notebooks/data_table.ipynb>data table notebook</a>'\n",
              "            + ' to learn more about interactive tables.';\n",
              "          element.innerHTML = '';\n",
              "          dataTable['output_type'] = 'display_data';\n",
              "          await google.colab.output.renderOutput(dataTable, element);\n",
              "          const docLink = document.createElement('div');\n",
              "          docLink.innerHTML = docLinkHtml;\n",
              "          element.appendChild(docLink);\n",
              "        }\n",
              "      </script>\n",
              "    </div>\n",
              "  </div>\n",
              "  "
            ]
          },
          "metadata": {},
          "execution_count": 11
        }
      ]
    },
    {
      "cell_type": "markdown",
      "source": [
        "### Q4: Check if there is outlier in 'sales amount' feature or not based on IRQ method"
      ],
      "metadata": {
        "id": "4wZ09tiQPc8V"
      }
    },
    {
      "cell_type": "code",
      "source": [
        "# IQR method\n",
        "q1 = sales_df['sales amount'].quantile(0.25)\n",
        "q3 = sales_df['sales amount'].quantile(0.75)\n",
        "iqr = q3 - q1\n",
        "sales_df['outlier_iqr'] = ((sales_df['sales amount'] < (q1 - 1.5 * iqr)) | (sales_df['sales amount'] > (q3 + 1.5 * iqr)))\n",
        "\n",
        "outliers_iqr = sales_df[sales_df['outlier_iqr'] == True]\n",
        "outliers_iqr"
      ],
      "metadata": {
        "colab": {
          "base_uri": "https://localhost:8080/"
        },
        "id": "TQAYcwij6MtL",
        "outputId": "83e6ae7b-6898-47fa-d638-0fac2e569395"
      },
      "execution_count": null,
      "outputs": [
        {
          "output_type": "execute_result",
          "data": {
            "text/plain": [
              "    customer ID product ID transaction ID date of purchase  sales amount  \\\n",
              "149      AB0424     P01012        Tr85103        2/28/2023          4500   \n",
              "243      AB0420     P01011        Tr85197         2/9/2023          4200   \n",
              "441      AB1228     P01010        Tr85395         2/4/2023          4500   \n",
              "488      AB0595     P01013        Tr85442        1/25/2023          4000   \n",
              "\n",
              "      z_score  outlier_zscore  outlier_iqr  \n",
              "149  4.486800            True         True  \n",
              "243  4.064532            True         True  \n",
              "441  4.486800            True         True  \n",
              "488  3.783020            True         True  "
            ],
            "text/html": [
              "\n",
              "  <div id=\"df-90266975-95e7-467c-96b6-9033f98fc3cd\">\n",
              "    <div class=\"colab-df-container\">\n",
              "      <div>\n",
              "<style scoped>\n",
              "    .dataframe tbody tr th:only-of-type {\n",
              "        vertical-align: middle;\n",
              "    }\n",
              "\n",
              "    .dataframe tbody tr th {\n",
              "        vertical-align: top;\n",
              "    }\n",
              "\n",
              "    .dataframe thead th {\n",
              "        text-align: right;\n",
              "    }\n",
              "</style>\n",
              "<table border=\"1\" class=\"dataframe\">\n",
              "  <thead>\n",
              "    <tr style=\"text-align: right;\">\n",
              "      <th></th>\n",
              "      <th>customer ID</th>\n",
              "      <th>product ID</th>\n",
              "      <th>transaction ID</th>\n",
              "      <th>date of purchase</th>\n",
              "      <th>sales amount</th>\n",
              "      <th>z_score</th>\n",
              "      <th>outlier_zscore</th>\n",
              "      <th>outlier_iqr</th>\n",
              "    </tr>\n",
              "  </thead>\n",
              "  <tbody>\n",
              "    <tr>\n",
              "      <th>149</th>\n",
              "      <td>AB0424</td>\n",
              "      <td>P01012</td>\n",
              "      <td>Tr85103</td>\n",
              "      <td>2/28/2023</td>\n",
              "      <td>4500</td>\n",
              "      <td>4.486800</td>\n",
              "      <td>True</td>\n",
              "      <td>True</td>\n",
              "    </tr>\n",
              "    <tr>\n",
              "      <th>243</th>\n",
              "      <td>AB0420</td>\n",
              "      <td>P01011</td>\n",
              "      <td>Tr85197</td>\n",
              "      <td>2/9/2023</td>\n",
              "      <td>4200</td>\n",
              "      <td>4.064532</td>\n",
              "      <td>True</td>\n",
              "      <td>True</td>\n",
              "    </tr>\n",
              "    <tr>\n",
              "      <th>441</th>\n",
              "      <td>AB1228</td>\n",
              "      <td>P01010</td>\n",
              "      <td>Tr85395</td>\n",
              "      <td>2/4/2023</td>\n",
              "      <td>4500</td>\n",
              "      <td>4.486800</td>\n",
              "      <td>True</td>\n",
              "      <td>True</td>\n",
              "    </tr>\n",
              "    <tr>\n",
              "      <th>488</th>\n",
              "      <td>AB0595</td>\n",
              "      <td>P01013</td>\n",
              "      <td>Tr85442</td>\n",
              "      <td>1/25/2023</td>\n",
              "      <td>4000</td>\n",
              "      <td>3.783020</td>\n",
              "      <td>True</td>\n",
              "      <td>True</td>\n",
              "    </tr>\n",
              "  </tbody>\n",
              "</table>\n",
              "</div>\n",
              "      <button class=\"colab-df-convert\" onclick=\"convertToInteractive('df-90266975-95e7-467c-96b6-9033f98fc3cd')\"\n",
              "              title=\"Convert this dataframe to an interactive table.\"\n",
              "              style=\"display:none;\">\n",
              "        \n",
              "  <svg xmlns=\"http://www.w3.org/2000/svg\" height=\"24px\"viewBox=\"0 0 24 24\"\n",
              "       width=\"24px\">\n",
              "    <path d=\"M0 0h24v24H0V0z\" fill=\"none\"/>\n",
              "    <path d=\"M18.56 5.44l.94 2.06.94-2.06 2.06-.94-2.06-.94-.94-2.06-.94 2.06-2.06.94zm-11 1L8.5 8.5l.94-2.06 2.06-.94-2.06-.94L8.5 2.5l-.94 2.06-2.06.94zm10 10l.94 2.06.94-2.06 2.06-.94-2.06-.94-.94-2.06-.94 2.06-2.06.94z\"/><path d=\"M17.41 7.96l-1.37-1.37c-.4-.4-.92-.59-1.43-.59-.52 0-1.04.2-1.43.59L10.3 9.45l-7.72 7.72c-.78.78-.78 2.05 0 2.83L4 21.41c.39.39.9.59 1.41.59.51 0 1.02-.2 1.41-.59l7.78-7.78 2.81-2.81c.8-.78.8-2.07 0-2.86zM5.41 20L4 18.59l7.72-7.72 1.47 1.35L5.41 20z\"/>\n",
              "  </svg>\n",
              "      </button>\n",
              "      \n",
              "  <style>\n",
              "    .colab-df-container {\n",
              "      display:flex;\n",
              "      flex-wrap:wrap;\n",
              "      gap: 12px;\n",
              "    }\n",
              "\n",
              "    .colab-df-convert {\n",
              "      background-color: #E8F0FE;\n",
              "      border: none;\n",
              "      border-radius: 50%;\n",
              "      cursor: pointer;\n",
              "      display: none;\n",
              "      fill: #1967D2;\n",
              "      height: 32px;\n",
              "      padding: 0 0 0 0;\n",
              "      width: 32px;\n",
              "    }\n",
              "\n",
              "    .colab-df-convert:hover {\n",
              "      background-color: #E2EBFA;\n",
              "      box-shadow: 0px 1px 2px rgba(60, 64, 67, 0.3), 0px 1px 3px 1px rgba(60, 64, 67, 0.15);\n",
              "      fill: #174EA6;\n",
              "    }\n",
              "\n",
              "    [theme=dark] .colab-df-convert {\n",
              "      background-color: #3B4455;\n",
              "      fill: #D2E3FC;\n",
              "    }\n",
              "\n",
              "    [theme=dark] .colab-df-convert:hover {\n",
              "      background-color: #434B5C;\n",
              "      box-shadow: 0px 1px 3px 1px rgba(0, 0, 0, 0.15);\n",
              "      filter: drop-shadow(0px 1px 2px rgba(0, 0, 0, 0.3));\n",
              "      fill: #FFFFFF;\n",
              "    }\n",
              "  </style>\n",
              "\n",
              "      <script>\n",
              "        const buttonEl =\n",
              "          document.querySelector('#df-90266975-95e7-467c-96b6-9033f98fc3cd button.colab-df-convert');\n",
              "        buttonEl.style.display =\n",
              "          google.colab.kernel.accessAllowed ? 'block' : 'none';\n",
              "\n",
              "        async function convertToInteractive(key) {\n",
              "          const element = document.querySelector('#df-90266975-95e7-467c-96b6-9033f98fc3cd');\n",
              "          const dataTable =\n",
              "            await google.colab.kernel.invokeFunction('convertToInteractive',\n",
              "                                                     [key], {});\n",
              "          if (!dataTable) return;\n",
              "\n",
              "          const docLinkHtml = 'Like what you see? Visit the ' +\n",
              "            '<a target=\"_blank\" href=https://colab.research.google.com/notebooks/data_table.ipynb>data table notebook</a>'\n",
              "            + ' to learn more about interactive tables.';\n",
              "          element.innerHTML = '';\n",
              "          dataTable['output_type'] = 'display_data';\n",
              "          await google.colab.output.renderOutput(dataTable, element);\n",
              "          const docLink = document.createElement('div');\n",
              "          docLink.innerHTML = docLinkHtml;\n",
              "          element.appendChild(docLink);\n",
              "        }\n",
              "      </script>\n",
              "    </div>\n",
              "  </div>\n",
              "  "
            ]
          },
          "metadata": {},
          "execution_count": 11
        }
      ]
    },
    {
      "cell_type": "markdown",
      "source": [
        "### Q5: Check if there is outliers in 'sales amount' feature using box plot "
      ],
      "metadata": {
        "id": "fmRBy5eUPoHk"
      }
    },
    {
      "cell_type": "code",
      "source": [
        "# Box plot\n",
        "sns.boxplot(x=sales_df['sales amount'])\n",
        "plt.show()\n"
      ],
      "metadata": {
        "colab": {
          "base_uri": "https://localhost:8080/"
        },
        "id": "etSR96kO6Wos",
        "outputId": "b1089bac-625e-467b-9aec-973c9a584a17"
      },
      "execution_count": null,
      "outputs": [
        {
          "output_type": "display_data",
          "data": {
            "text/plain": [
              "<Figure size 640x480 with 1 Axes>"
            ],
            "image/png": "[encoded data removed]"
          },
          "metadata": {}
        }
      ]
    },
    {
      "cell_type": "markdown",
      "source": [
        "### Q6: Check if there is outliers in 'sales amount' feature using density plot\n",
        "\n",
        "> Hint: use sns.kdeplot()\n",
        "\n"
      ],
      "metadata": {
        "id": "nch914SYP3B8"
      }
    },
    {
      "cell_type": "code",
      "source": [
        "# Density plot\n",
        "sns.kdeplot(sales_df['sales amount'])\n",
        "plt.show()"
      ],
      "metadata": {
        "colab": {
          "base_uri": "https://localhost:8080/"
        },
        "id": "pqZhCrMm6aq6",
        "outputId": "b5ac6654-cb81-401e-d275-b2a109c703f1"
      },
      "execution_count": null,
      "outputs": [
        {
          "output_type": "display_data",
          "data": {
            "text/plain": [
              "<Figure size 640x480 with 1 Axes>"
            ],
            "image/png": "[encoded data removed]"
          },
          "metadata": {}
        }
      ]
    },
    {
      "cell_type": "markdown",
      "source": [
        "# **Contingency Table**"
      ],
      "metadata": {
        "id": "nZTx0c5qMWrm"
      }
    },
    {
      "cell_type": "markdown",
      "source": [
        "### Q1: Load employee_satisfaction.csv dataset\n"
      ],
      "metadata": {
        "id": "uiC7Tn9IUIaF"
      }
    },
    {
      "cell_type": "code",
      "source": [
        "data = pd.read_csv('/content/drive/MyDrive/Data Analytics/employee_satisfaction.csv')"
      ],
      "metadata": {
        "id": "Aen6Iah-MWdU"
      },
      "execution_count": null,
      "outputs": []
    },
    {
      "cell_type": "markdown",
      "source": [
        "### Q2: Create a contingency table using pd.crosstab()\n"
      ],
      "metadata": {
        "id": "n3C33gs9USA_"
      }
    },
    {
      "cell_type": "code",
      "source": [
        "contingency_table = pd.crosstab(\n",
        "    index=data['Job security'],\n",
        "    columns=data['Compensation'],\n",
        "    margins=True\n",
        ")\n",
        "contingency_table"
      ],
      "metadata": {
        "colab": {
          "base_uri": "https://localhost:8080/",
          "height": 269
        },
        "id": "B7gB0aAZSdkp",
        "outputId": "84c9585d-05e2-452c-af46-7650781ace6f"
      },
      "execution_count": null,
      "outputs": [
        {
          "output_type": "execute_result",
          "data": {
            "text/plain": [
              "Compensation    1    2    3    4    5   All\n",
              "Job security                               \n",
              "1              31   36   49   47   40   203\n",
              "2              37   42   53   38   36   206\n",
              "3              43   35   37   33   31   179\n",
              "4              46   49   41   45   43   224\n",
              "5              38   30   32   41   47   188\n",
              "All           195  192  212  204  197  1000"
            ],
            "text/html": [
              "\n",
              "  <div id=\"df-45bb579c-0e97-4a89-b5da-c81efd7eb386\">\n",
              "    <div class=\"colab-df-container\">\n",
              "      <div>\n",
              "<style scoped>\n",
              "    .dataframe tbody tr th:only-of-type {\n",
              "        vertical-align: middle;\n",
              "    }\n",
              "\n",
              "    .dataframe tbody tr th {\n",
              "        vertical-align: top;\n",
              "    }\n",
              "\n",
              "    .dataframe thead th {\n",
              "        text-align: right;\n",
              "    }\n",
              "</style>\n",
              "<table border=\"1\" class=\"dataframe\">\n",
              "  <thead>\n",
              "    <tr style=\"text-align: right;\">\n",
              "      <th>Compensation</th>\n",
              "      <th>1</th>\n",
              "      <th>2</th>\n",
              "      <th>3</th>\n",
              "      <th>4</th>\n",
              "      <th>5</th>\n",
              "      <th>All</th>\n",
              "    </tr>\n",
              "    <tr>\n",
              "      <th>Job security</th>\n",
              "      <th></th>\n",
              "      <th></th>\n",
              "      <th></th>\n",
              "      <th></th>\n",
              "      <th></th>\n",
              "      <th></th>\n",
              "    </tr>\n",
              "  </thead>\n",
              "  <tbody>\n",
              "    <tr>\n",
              "      <th>1</th>\n",
              "      <td>31</td>\n",
              "      <td>36</td>\n",
              "      <td>49</td>\n",
              "      <td>47</td>\n",
              "      <td>40</td>\n",
              "      <td>203</td>\n",
              "    </tr>\n",
              "    <tr>\n",
              "      <th>2</th>\n",
              "      <td>37</td>\n",
              "      <td>42</td>\n",
              "      <td>53</td>\n",
              "      <td>38</td>\n",
              "      <td>36</td>\n",
              "      <td>206</td>\n",
              "    </tr>\n",
              "    <tr>\n",
              "      <th>3</th>\n",
              "      <td>43</td>\n",
              "      <td>35</td>\n",
              "      <td>37</td>\n",
              "      <td>33</td>\n",
              "      <td>31</td>\n",
              "      <td>179</td>\n",
              "    </tr>\n",
              "    <tr>\n",
              "      <th>4</th>\n",
              "      <td>46</td>\n",
              "      <td>49</td>\n",
              "      <td>41</td>\n",
              "      <td>45</td>\n",
              "      <td>43</td>\n",
              "      <td>224</td>\n",
              "    </tr>\n",
              "    <tr>\n",
              "      <th>5</th>\n",
              "      <td>38</td>\n",
              "      <td>30</td>\n",
              "      <td>32</td>\n",
              "      <td>41</td>\n",
              "      <td>47</td>\n",
              "      <td>188</td>\n",
              "    </tr>\n",
              "    <tr>\n",
              "      <th>All</th>\n",
              "      <td>195</td>\n",
              "      <td>192</td>\n",
              "      <td>212</td>\n",
              "      <td>204</td>\n",
              "      <td>197</td>\n",
              "      <td>1000</td>\n",
              "    </tr>\n",
              "  </tbody>\n",
              "</table>\n",
              "</div>\n",
              "      <button class=\"colab-df-convert\" onclick=\"convertToInteractive('df-45bb579c-0e97-4a89-b5da-c81efd7eb386')\"\n",
              "              title=\"Convert this dataframe to an interactive table.\"\n",
              "              style=\"display:none;\">\n",
              "        \n",
              "  <svg xmlns=\"http://www.w3.org/2000/svg\" height=\"24px\"viewBox=\"0 0 24 24\"\n",
              "       width=\"24px\">\n",
              "    <path d=\"M0 0h24v24H0V0z\" fill=\"none\"/>\n",
              "    <path d=\"M18.56 5.44l.94 2.06.94-2.06 2.06-.94-2.06-.94-.94-2.06-.94 2.06-2.06.94zm-11 1L8.5 8.5l.94-2.06 2.06-.94-2.06-.94L8.5 2.5l-.94 2.06-2.06.94zm10 10l.94 2.06.94-2.06 2.06-.94-2.06-.94-.94-2.06-.94 2.06-2.06.94z\"/><path d=\"M17.41 7.96l-1.37-1.37c-.4-.4-.92-.59-1.43-.59-.52 0-1.04.2-1.43.59L10.3 9.45l-7.72 7.72c-.78.78-.78 2.05 0 2.83L4 21.41c.39.39.9.59 1.41.59.51 0 1.02-.2 1.41-.59l7.78-7.78 2.81-2.81c.8-.78.8-2.07 0-2.86zM5.41 20L4 18.59l7.72-7.72 1.47 1.35L5.41 20z\"/>\n",
              "  </svg>\n",
              "      </button>\n",
              "      \n",
              "  <style>\n",
              "    .colab-df-container {\n",
              "      display:flex;\n",
              "      flex-wrap:wrap;\n",
              "      gap: 12px;\n",
              "    }\n",
              "\n",
              "    .colab-df-convert {\n",
              "      background-color: #E8F0FE;\n",
              "      border: none;\n",
              "      border-radius: 50%;\n",
              "      cursor: pointer;\n",
              "      display: none;\n",
              "      fill: #1967D2;\n",
              "      height: 32px;\n",
              "      padding: 0 0 0 0;\n",
              "      width: 32px;\n",
              "    }\n",
              "\n",
              "    .colab-df-convert:hover {\n",
              "      background-color: #E2EBFA;\n",
              "      box-shadow: 0px 1px 2px rgba(60, 64, 67, 0.3), 0px 1px 3px 1px rgba(60, 64, 67, 0.15);\n",
              "      fill: #174EA6;\n",
              "    }\n",
              "\n",
              "    [theme=dark] .colab-df-convert {\n",
              "      background-color: #3B4455;\n",
              "      fill: #D2E3FC;\n",
              "    }\n",
              "\n",
              "    [theme=dark] .colab-df-convert:hover {\n",
              "      background-color: #434B5C;\n",
              "      box-shadow: 0px 1px 3px 1px rgba(0, 0, 0, 0.15);\n",
              "      filter: drop-shadow(0px 1px 2px rgba(0, 0, 0, 0.3));\n",
              "      fill: #FFFFFF;\n",
              "    }\n",
              "  </style>\n",
              "\n",
              "      <script>\n",
              "        const buttonEl =\n",
              "          document.querySelector('#df-45bb579c-0e97-4a89-b5da-c81efd7eb386 button.colab-df-convert');\n",
              "        buttonEl.style.display =\n",
              "          google.colab.kernel.accessAllowed ? 'block' : 'none';\n",
              "\n",
              "        async function convertToInteractive(key) {\n",
              "          const element = document.querySelector('#df-45bb579c-0e97-4a89-b5da-c81efd7eb386');\n",
              "          const dataTable =\n",
              "            await google.colab.kernel.invokeFunction('convertToInteractive',\n",
              "                                                     [key], {});\n",
              "          if (!dataTable) return;\n",
              "\n",
              "          const docLinkHtml = 'Like what you see? Visit the ' +\n",
              "            '<a target=\"_blank\" href=https://colab.research.google.com/notebooks/data_table.ipynb>data table notebook</a>'\n",
              "            + ' to learn more about interactive tables.';\n",
              "          element.innerHTML = '';\n",
              "          dataTable['output_type'] = 'display_data';\n",
              "          await google.colab.output.renderOutput(dataTable, element);\n",
              "          const docLink = document.createElement('div');\n",
              "          docLink.innerHTML = docLinkHtml;\n",
              "          element.appendChild(docLink);\n",
              "        }\n",
              "      </script>\n",
              "    </div>\n",
              "  </div>\n",
              "  "
            ]
          },
          "metadata": {},
          "execution_count": 15
        }
      ]
    },
    {
      "cell_type": "markdown",
      "source": [
        "### Q3: Calculate marginal totals for each variable\n",
        "\n",
        "> Hint: use .sum()\n",
        "\n",
        "\n"
      ],
      "metadata": {
        "id": "-KhzA768Uo9M"
      }
    },
    {
      "cell_type": "code",
      "source": [
        "marginal_totals = data[['Job security', 'Compensation', 'Benefits', 'Work-life balance', 'Career development']].sum()\n",
        "marginal_totals"
      ],
      "metadata": {
        "id": "KhPAAFZomBu7",
        "colab": {
          "base_uri": "https://localhost:8080/"
        },
        "outputId": "5ffdd675-e0bd-450c-8bbb-168d6142467c"
      },
      "execution_count": null,
      "outputs": [
        {
          "output_type": "execute_result",
          "data": {
            "text/plain": [
              "Job security          2988\n",
              "Compensation          3016\n",
              "Benefits              2981\n",
              "Work-life balance     2980\n",
              "Career development    2976\n",
              "dtype: int64"
            ]
          },
          "metadata": {},
          "execution_count": 16
        }
      ]
    },
    {
      "cell_type": "markdown",
      "source": [
        "### Q4: Calculate row percentages\n"
      ],
      "metadata": {
        "id": "cA_ExA0vUzGM"
      }
    },
    {
      "cell_type": "code",
      "source": [
        "row_percentages = data[['Job security', 'Compensation', 'Benefits', 'Work-life balance', 'Career development']].apply(lambda x: x.value_counts(normalize=True) * 100)\n",
        "row_percentages"
      ],
      "metadata": {
        "id": "7IiaK5XIo7Sp",
        "colab": {
          "base_uri": "https://localhost:8080/",
          "height": 206
        },
        "outputId": "94bf86bd-82bb-445c-ee11-fb96d2facb62"
      },
      "execution_count": null,
      "outputs": [
        {
          "output_type": "execute_result",
          "data": {
            "text/plain": [
              "   Job security  Compensation  Benefits  Work-life balance  Career development\n",
              "1          20.3          19.5      20.0               21.2                19.2\n",
              "2          20.6          19.2      19.4               18.5                21.6\n",
              "3          17.9          21.2      21.9               20.2                20.0\n",
              "4          22.4          20.4      19.9               21.3                20.8\n",
              "5          18.8          19.7      18.8               18.8                18.4"
            ],
            "text/html": [
              "\n",
              "  <div id=\"df-0f4494b7-bc97-47a1-a8c4-ef14a3b3d6e6\">\n",
              "    <div class=\"colab-df-container\">\n",
              "      <div>\n",
              "<style scoped>\n",
              "    .dataframe tbody tr th:only-of-type {\n",
              "        vertical-align: middle;\n",
              "    }\n",
              "\n",
              "    .dataframe tbody tr th {\n",
              "        vertical-align: top;\n",
              "    }\n",
              "\n",
              "    .dataframe thead th {\n",
              "        text-align: right;\n",
              "    }\n",
              "</style>\n",
              "<table border=\"1\" class=\"dataframe\">\n",
              "  <thead>\n",
              "    <tr style=\"text-align: right;\">\n",
              "      <th></th>\n",
              "      <th>Job security</th>\n",
              "      <th>Compensation</th>\n",
              "      <th>Benefits</th>\n",
              "      <th>Work-life balance</th>\n",
              "      <th>Career development</th>\n",
              "    </tr>\n",
              "  </thead>\n",
              "  <tbody>\n",
              "    <tr>\n",
              "      <th>1</th>\n",
              "      <td>20.3</td>\n",
              "      <td>19.5</td>\n",
              "      <td>20.0</td>\n",
              "      <td>21.2</td>\n",
              "      <td>19.2</td>\n",
              "    </tr>\n",
              "    <tr>\n",
              "      <th>2</th>\n",
              "      <td>20.6</td>\n",
              "      <td>19.2</td>\n",
              "      <td>19.4</td>\n",
              "      <td>18.5</td>\n",
              "      <td>21.6</td>\n",
              "    </tr>\n",
              "    <tr>\n",
              "      <th>3</th>\n",
              "      <td>17.9</td>\n",
              "      <td>21.2</td>\n",
              "      <td>21.9</td>\n",
              "      <td>20.2</td>\n",
              "      <td>20.0</td>\n",
              "    </tr>\n",
              "    <tr>\n",
              "      <th>4</th>\n",
              "      <td>22.4</td>\n",
              "      <td>20.4</td>\n",
              "      <td>19.9</td>\n",
              "      <td>21.3</td>\n",
              "      <td>20.8</td>\n",
              "    </tr>\n",
              "    <tr>\n",
              "      <th>5</th>\n",
              "      <td>18.8</td>\n",
              "      <td>19.7</td>\n",
              "      <td>18.8</td>\n",
              "      <td>18.8</td>\n",
              "      <td>18.4</td>\n",
              "    </tr>\n",
              "  </tbody>\n",
              "</table>\n",
              "</div>\n",
              "      <button class=\"colab-df-convert\" onclick=\"convertToInteractive('df-0f4494b7-bc97-47a1-a8c4-ef14a3b3d6e6')\"\n",
              "              title=\"Convert this dataframe to an interactive table.\"\n",
              "              style=\"display:none;\">\n",
              "        \n",
              "  <svg xmlns=\"http://www.w3.org/2000/svg\" height=\"24px\"viewBox=\"0 0 24 24\"\n",
              "       width=\"24px\">\n",
              "    <path d=\"M0 0h24v24H0V0z\" fill=\"none\"/>\n",
              "    <path d=\"M18.56 5.44l.94 2.06.94-2.06 2.06-.94-2.06-.94-.94-2.06-.94 2.06-2.06.94zm-11 1L8.5 8.5l.94-2.06 2.06-.94-2.06-.94L8.5 2.5l-.94 2.06-2.06.94zm10 10l.94 2.06.94-2.06 2.06-.94-2.06-.94-.94-2.06-.94 2.06-2.06.94z\"/><path d=\"M17.41 7.96l-1.37-1.37c-.4-.4-.92-.59-1.43-.59-.52 0-1.04.2-1.43.59L10.3 9.45l-7.72 7.72c-.78.78-.78 2.05 0 2.83L4 21.41c.39.39.9.59 1.41.59.51 0 1.02-.2 1.41-.59l7.78-7.78 2.81-2.81c.8-.78.8-2.07 0-2.86zM5.41 20L4 18.59l7.72-7.72 1.47 1.35L5.41 20z\"/>\n",
              "  </svg>\n",
              "      </button>\n",
              "      \n",
              "  <style>\n",
              "    .colab-df-container {\n",
              "      display:flex;\n",
              "      flex-wrap:wrap;\n",
              "      gap: 12px;\n",
              "    }\n",
              "\n",
              "    .colab-df-convert {\n",
              "      background-color: #E8F0FE;\n",
              "      border: none;\n",
              "      border-radius: 50%;\n",
              "      cursor: pointer;\n",
              "      display: none;\n",
              "      fill: #1967D2;\n",
              "      height: 32px;\n",
              "      padding: 0 0 0 0;\n",
              "      width: 32px;\n",
              "    }\n",
              "\n",
              "    .colab-df-convert:hover {\n",
              "      background-color: #E2EBFA;\n",
              "      box-shadow: 0px 1px 2px rgba(60, 64, 67, 0.3), 0px 1px 3px 1px rgba(60, 64, 67, 0.15);\n",
              "      fill: #174EA6;\n",
              "    }\n",
              "\n",
              "    [theme=dark] .colab-df-convert {\n",
              "      background-color: #3B4455;\n",
              "      fill: #D2E3FC;\n",
              "    }\n",
              "\n",
              "    [theme=dark] .colab-df-convert:hover {\n",
              "      background-color: #434B5C;\n",
              "      box-shadow: 0px 1px 3px 1px rgba(0, 0, 0, 0.15);\n",
              "      filter: drop-shadow(0px 1px 2px rgba(0, 0, 0, 0.3));\n",
              "      fill: #FFFFFF;\n",
              "    }\n",
              "  </style>\n",
              "\n",
              "      <script>\n",
              "        const buttonEl =\n",
              "          document.querySelector('#df-0f4494b7-bc97-47a1-a8c4-ef14a3b3d6e6 button.colab-df-convert');\n",
              "        buttonEl.style.display =\n",
              "          google.colab.kernel.accessAllowed ? 'block' : 'none';\n",
              "\n",
              "        async function convertToInteractive(key) {\n",
              "          const element = document.querySelector('#df-0f4494b7-bc97-47a1-a8c4-ef14a3b3d6e6');\n",
              "          const dataTable =\n",
              "            await google.colab.kernel.invokeFunction('convertToInteractive',\n",
              "                                                     [key], {});\n",
              "          if (!dataTable) return;\n",
              "\n",
              "          const docLinkHtml = 'Like what you see? Visit the ' +\n",
              "            '<a target=\"_blank\" href=https://colab.research.google.com/notebooks/data_table.ipynb>data table notebook</a>'\n",
              "            + ' to learn more about interactive tables.';\n",
              "          element.innerHTML = '';\n",
              "          dataTable['output_type'] = 'display_data';\n",
              "          await google.colab.output.renderOutput(dataTable, element);\n",
              "          const docLink = document.createElement('div');\n",
              "          docLink.innerHTML = docLinkHtml;\n",
              "          element.appendChild(docLink);\n",
              "        }\n",
              "      </script>\n",
              "    </div>\n",
              "  </div>\n",
              "  "
            ]
          },
          "metadata": {},
          "execution_count": 17
        }
      ]
    },
    {
      "cell_type": "code",
      "source": [
        "data.iloc[1].value_counts(normalize=True)"
      ],
      "metadata": {
        "id": "iljgf5O1SWjr"
      },
      "execution_count": null,
      "outputs": []
    },
    {
      "cell_type": "markdown",
      "source": [
        "### Q5: Calculate column percentages\n"
      ],
      "metadata": {
        "id": "C97bhkczU6iR"
      }
    },
    {
      "cell_type": "code",
      "source": [
        "column_percentages = data[['Job security', 'Compensation', 'Benefits', 'Work-life balance', 'Career development']].apply(lambda x: x.groupby(x).count() / len(df) * 100)\n",
        "column_percentages"
      ],
      "metadata": {
        "id": "dRoqrdEwo_ex",
        "colab": {
          "base_uri": "https://localhost:8080/",
          "height": 206
        },
        "outputId": "2013dd13-c106-4cd8-bc6d-6620ae9b2368"
      },
      "execution_count": null,
      "outputs": [
        {
          "output_type": "execute_result",
          "data": {
            "text/plain": [
              "   Job security  Compensation    Benefits  Work-life balance  \\\n",
              "1    244.578313    234.939759  240.963855         255.421687   \n",
              "2    248.192771    231.325301  233.734940         222.891566   \n",
              "3    215.662651    255.421687  263.855422         243.373494   \n",
              "4    269.879518    245.783133  239.759036         256.626506   \n",
              "5    226.506024    237.349398  226.506024         226.506024   \n",
              "\n",
              "   Career development  \n",
              "1          231.325301  \n",
              "2          260.240964  \n",
              "3          240.963855  \n",
              "4          250.602410  \n",
              "5          221.686747  "
            ],
            "text/html": [
              "\n",
              "  <div id=\"df-b61f9e7a-79c6-4528-b149-b37574bf6eb7\">\n",
              "    <div class=\"colab-df-container\">\n",
              "      <div>\n",
              "<style scoped>\n",
              "    .dataframe tbody tr th:only-of-type {\n",
              "        vertical-align: middle;\n",
              "    }\n",
              "\n",
              "    .dataframe tbody tr th {\n",
              "        vertical-align: top;\n",
              "    }\n",
              "\n",
              "    .dataframe thead th {\n",
              "        text-align: right;\n",
              "    }\n",
              "</style>\n",
              "<table border=\"1\" class=\"dataframe\">\n",
              "  <thead>\n",
              "    <tr style=\"text-align: right;\">\n",
              "      <th></th>\n",
              "      <th>Job security</th>\n",
              "      <th>Compensation</th>\n",
              "      <th>Benefits</th>\n",
              "      <th>Work-life balance</th>\n",
              "      <th>Career development</th>\n",
              "    </tr>\n",
              "  </thead>\n",
              "  <tbody>\n",
              "    <tr>\n",
              "      <th>1</th>\n",
              "      <td>244.578313</td>\n",
              "      <td>234.939759</td>\n",
              "      <td>240.963855</td>\n",
              "      <td>255.421687</td>\n",
              "      <td>231.325301</td>\n",
              "    </tr>\n",
              "    <tr>\n",
              "      <th>2</th>\n",
              "      <td>248.192771</td>\n",
              "      <td>231.325301</td>\n",
              "      <td>233.734940</td>\n",
              "      <td>222.891566</td>\n",
              "      <td>260.240964</td>\n",
              "    </tr>\n",
              "    <tr>\n",
              "      <th>3</th>\n",
              "      <td>215.662651</td>\n",
              "      <td>255.421687</td>\n",
              "      <td>263.855422</td>\n",
              "      <td>243.373494</td>\n",
              "      <td>240.963855</td>\n",
              "    </tr>\n",
              "    <tr>\n",
              "      <th>4</th>\n",
              "      <td>269.879518</td>\n",
              "      <td>245.783133</td>\n",
              "      <td>239.759036</td>\n",
              "      <td>256.626506</td>\n",
              "      <td>250.602410</td>\n",
              "    </tr>\n",
              "    <tr>\n",
              "      <th>5</th>\n",
              "      <td>226.506024</td>\n",
              "      <td>237.349398</td>\n",
              "      <td>226.506024</td>\n",
              "      <td>226.506024</td>\n",
              "      <td>221.686747</td>\n",
              "    </tr>\n",
              "  </tbody>\n",
              "</table>\n",
              "</div>\n",
              "      <button class=\"colab-df-convert\" onclick=\"convertToInteractive('df-b61f9e7a-79c6-4528-b149-b37574bf6eb7')\"\n",
              "              title=\"Convert this dataframe to an interactive table.\"\n",
              "              style=\"display:none;\">\n",
              "        \n",
              "  <svg xmlns=\"http://www.w3.org/2000/svg\" height=\"24px\"viewBox=\"0 0 24 24\"\n",
              "       width=\"24px\">\n",
              "    <path d=\"M0 0h24v24H0V0z\" fill=\"none\"/>\n",
              "    <path d=\"M18.56 5.44l.94 2.06.94-2.06 2.06-.94-2.06-.94-.94-2.06-.94 2.06-2.06.94zm-11 1L8.5 8.5l.94-2.06 2.06-.94-2.06-.94L8.5 2.5l-.94 2.06-2.06.94zm10 10l.94 2.06.94-2.06 2.06-.94-2.06-.94-.94-2.06-.94 2.06-2.06.94z\"/><path d=\"M17.41 7.96l-1.37-1.37c-.4-.4-.92-.59-1.43-.59-.52 0-1.04.2-1.43.59L10.3 9.45l-7.72 7.72c-.78.78-.78 2.05 0 2.83L4 21.41c.39.39.9.59 1.41.59.51 0 1.02-.2 1.41-.59l7.78-7.78 2.81-2.81c.8-.78.8-2.07 0-2.86zM5.41 20L4 18.59l7.72-7.72 1.47 1.35L5.41 20z\"/>\n",
              "  </svg>\n",
              "      </button>\n",
              "      \n",
              "  <style>\n",
              "    .colab-df-container {\n",
              "      display:flex;\n",
              "      flex-wrap:wrap;\n",
              "      gap: 12px;\n",
              "    }\n",
              "\n",
              "    .colab-df-convert {\n",
              "      background-color: #E8F0FE;\n",
              "      border: none;\n",
              "      border-radius: 50%;\n",
              "      cursor: pointer;\n",
              "      display: none;\n",
              "      fill: #1967D2;\n",
              "      height: 32px;\n",
              "      padding: 0 0 0 0;\n",
              "      width: 32px;\n",
              "    }\n",
              "\n",
              "    .colab-df-convert:hover {\n",
              "      background-color: #E2EBFA;\n",
              "      box-shadow: 0px 1px 2px rgba(60, 64, 67, 0.3), 0px 1px 3px 1px rgba(60, 64, 67, 0.15);\n",
              "      fill: #174EA6;\n",
              "    }\n",
              "\n",
              "    [theme=dark] .colab-df-convert {\n",
              "      background-color: #3B4455;\n",
              "      fill: #D2E3FC;\n",
              "    }\n",
              "\n",
              "    [theme=dark] .colab-df-convert:hover {\n",
              "      background-color: #434B5C;\n",
              "      box-shadow: 0px 1px 3px 1px rgba(0, 0, 0, 0.15);\n",
              "      filter: drop-shadow(0px 1px 2px rgba(0, 0, 0, 0.3));\n",
              "      fill: #FFFFFF;\n",
              "    }\n",
              "  </style>\n",
              "\n",
              "      <script>\n",
              "        const buttonEl =\n",
              "          document.querySelector('#df-b61f9e7a-79c6-4528-b149-b37574bf6eb7 button.colab-df-convert');\n",
              "        buttonEl.style.display =\n",
              "          google.colab.kernel.accessAllowed ? 'block' : 'none';\n",
              "\n",
              "        async function convertToInteractive(key) {\n",
              "          const element = document.querySelector('#df-b61f9e7a-79c6-4528-b149-b37574bf6eb7');\n",
              "          const dataTable =\n",
              "            await google.colab.kernel.invokeFunction('convertToInteractive',\n",
              "                                                     [key], {});\n",
              "          if (!dataTable) return;\n",
              "\n",
              "          const docLinkHtml = 'Like what you see? Visit the ' +\n",
              "            '<a target=\"_blank\" href=https://colab.research.google.com/notebooks/data_table.ipynb>data table notebook</a>'\n",
              "            + ' to learn more about interactive tables.';\n",
              "          element.innerHTML = '';\n",
              "          dataTable['output_type'] = 'display_data';\n",
              "          await google.colab.output.renderOutput(dataTable, element);\n",
              "          const docLink = document.createElement('div');\n",
              "          docLink.innerHTML = docLinkHtml;\n",
              "          element.appendChild(docLink);\n",
              "        }\n",
              "      </script>\n",
              "    </div>\n",
              "  </div>\n",
              "  "
            ]
          },
          "metadata": {},
          "execution_count": 18
        }
      ]
    },
    {
      "cell_type": "code",
      "source": [
        "# Calculate average satisfaction rating\n",
        "average_satisfaction = data[['Job security', 'Compensation', 'Benefits', 'Work-life balance', 'Career development']].mean().mean()\n",
        "print(\"Average Satisfaction Rating:\", average_satisfaction)"
      ],
      "metadata": {
        "id": "1IuUnPP8pBf6",
        "colab": {
          "base_uri": "https://localhost:8080/"
        },
        "outputId": "fe0771e1-49f9-419c-e2f7-7f82d0039569"
      },
      "execution_count": null,
      "outputs": [
        {
          "output_type": "stream",
          "name": "stdout",
          "text": [
            "Average Satisfaction Rating: 2.9882\n"
          ]
        }
      ]
    }
  ]
}